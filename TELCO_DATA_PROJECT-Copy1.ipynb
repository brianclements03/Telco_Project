{
 "cells": [
  {
   "cell_type": "code",
   "execution_count": 1,
   "id": "22155de9",
   "metadata": {},
   "outputs": [],
   "source": [
    "import matplotlib.pyplot as plt\n",
    "import numpy as np\n",
    "import pandas as pd\n",
    "from pydataset import data\n",
    "import statistics\n",
    "import seaborn as sns\n",
    "import env\n",
    "from sklearn.model_selection import train_test_split\n",
    "from sklearn.impute import SimpleImputer\n",
    "import scipy\n",
    "import acquire\n",
    "import prepare\n",
    "from scipy import stats\n",
    "\n",
    "from sklearn.tree import DecisionTreeClassifier\n",
    "from sklearn.tree import export_graphviz\n",
    "from sklearn.metrics import classification_report\n",
    "from sklearn.metrics import confusion_matrix\n",
    "from sklearn.ensemble import RandomForestClassifier\n",
    "from sklearn.neighbors import KNeighborsClassifier\n",
    "from sklearn.linear_model import LogisticRegression\n",
    "import sklearn.linear_model\n",
    "import sklearn.preprocessing"
   ]
  },
  {
   "cell_type": "markdown",
   "id": "342b9ee1",
   "metadata": {},
   "source": [
    "# Data Analysis Project — Telco Churn\n",
    "\n",
    "### by Brian Clements 29 November 2021\n",
    "\n",
    "## GOALS\n",
    "\n",
    "### The goal of this project is to explore factors related to customer churn at Telco, and to develop a machine learning model in an attempt to predict future churn. \n",
    "\n",
    "## DESCRIPTION\n",
    "\n",
    "### Gaining new customers is an expensive proposition for a telecom company--much more economical is their retention.  This project is an exploration of our customers' churn through a database of information related to their accounts. Certain demographic information will be looked at, as well as what types of services and contracts they have, charges, and use behavior (e.g. tenure and churn).  From this analysis, we will move develop a model to predict future customer churn (delivered in a csv file) and recommendations to reduce their attrition."
   ]
  },
  {
   "cell_type": "markdown",
   "id": "f5625d14",
   "metadata": {},
   "source": [
    "## Initial questions\n",
    "1. Are those with dependents paying less?\n",
    "2. Are people with paperless billing being charged differently? More or less?\n",
    "3. Are people with longer tenure being charged more? Less? Different services?\n",
    "4. Is there a reason for the churn amongst those who pay with electronic check?"
   ]
  },
  {
   "cell_type": "markdown",
   "id": "4d8da2fc",
   "metadata": {},
   "source": [
    "## Executive Summary:\n",
    "\n",
    "- A lot of insight was gained into our customers and there attrition, including useful points that will help guide the company take actions to reduce it.\n",
    "\n",
    "- The modelling that has been done in this report is, unfortunately, somewhat limited in that it has so far been mostly unable to beat our baseline churn prediction by very much.\n",
    "\n",
    "- GROUP PLANS and AUTOMATIC PAYMENT methods are the biggest general recommendation. We recommend targeting this segment for loyalty.\n",
    "\n",
    "- We found that churn goes down as total charges go up--up to a point.  We recommend offering discounts or other incentives to prevent the \"churn bump\" that occurs at about $2500 of total charges."
   ]
  },
  {
   "cell_type": "markdown",
   "id": "0488bc33",
   "metadata": {},
   "source": [
    "## DATA DICTIONARY: "
   ]
  },
  {
   "cell_type": "markdown",
   "id": "cf728740",
   "metadata": {},
   "source": [
    "| Variable    | Meaning     |\n",
    "| ----------- | ----------- |\n",
    "|\n",
    "| customer_id     | Unique identifier for each customer |\n",
    "| gender | Sex of the customer | \n",
    "| senior_citizen     | Is the customer a senior citizen? |\n",
    "| partner       | Does the cust. have a partner? |\n",
    "| dependents   | Does the cust. have dependents?|\n",
    "| tenure  | How long has the cust. been with us? |\n",
    "| phone_service     | Does the cust. have phone svc.?|\n",
    "| multiple_lines    | Does the cust. have multiple lines? |\n",
    "| online_security  | Does the cust. have online security |\n",
    "| online_backup    | Does the cust. have online backup |\n",
    "| device_protection    | Does the cust. have device protection? |\n",
    "| tech_support     | Does the cust. have tech support? |\n",
    "| streaming_tv    | Does the cust. have streaming tv? |\n",
    "| streaming_movies    | Does the cust. have streaming movies? |\n",
    "| paperless_billing   |Does the cust. have paperless billing? |\n",
    "| monthly_charges  | Customer monthly charges |\n",
    "| total_charges     | Customer total charges |\n",
    "| churn             | Has the customer churned? |\n",
    "| contract_type     | Contract type |\n",
    "| internet_service_type  | Internet type |\n",
    "| payment_type          | Payment type |\n",
    "| gender_Male         |Encoded feature: Customer sex |\n",
    "| partner_Yes        | Encoded feature: does the cust. have a partner? | \n",
    "| dependents_Yes   | Encoded feature: does the cust. have dependents? |\n",
    "| phone_service_Yes   | Encoded feature: does the cust. have phone service?|\n",
    "| multiple_lines_No phone service   |   Encoded feature: multiple lines? (no service option) |\n",
    "| multiple_lines_Yes | Encoded feature: multiple lines?  (\"yes\" option; the final option would be \"no\")\n",
    "| online_security_No internet service  |  Encoded feature: online security?  (no service option)\n",
    "| online_security_Yes | Encoded feature: online security?  (\"yes\" option; the final option would be \"no\")\n",
    "| online_backup_No internet service  |  Encoded feature: online backup?  (no service option)\n",
    "| online_backup_Yes | Encoded feature: online backup?  (\"yes\" option; the final option would be \"no\")\n",
    "| device_protection_No internet service |  Encoded feature: device prot.?  (no service option)\n",
    "| device_protection_Yes | Encoded feature: device prot.?  (\"yes\" option; the final option would be \"no\")\n",
    "| tech_support_No internet service |  Encoded feature: tech support?  (no service option)\n",
    "| tech_support_Yes | Encoded feature: tech support?  (\"yes\" option; the final option would be \"no\")  \n",
    "| streaming_tv_No internet service  |  Encoded feature: streaming tv?  (no service option)\n",
    "| streaming_tv_Yes | Encoded feature: streaming tv?  (\"yes\" option; the final option would be \"no\")\n",
    "| streaming_movies_No internet service|  Encoded feature: streaming movies?  (no service option)\n",
    "| streaming_movies_Yes | Encoded feature: streaming movies?  (\"yes\" option; the final option would be \"no\")\n",
    "| paperless_billing_Yes |  Encoded feature: paperless billing?  \n",
    "| churn_Yes |  Encoded feature: is there churn on the account?\n",
    "| contract_type_One year | Encoded feature: contract type  (\"one year\" option)\n",
    "| contract_type_Two year | Encoded feature: contract type  (\"two year\" option; the final option would be \"month-to-month\")\n",
    "| internet_service_type_Fiber optic | Encoded feature: internet type  (\"fiber optic\" option)\n",
    "| internet_service_type_None| Encoded feature: contract type  (\"no svc.\" option; the final option would be \"DSL\")  \n",
    "| payment_type_Credit card (automatic)  | Encoded feature: payment type  (\"credit card\")\n",
    "| payment_type_Electronic check | Encoded feature: payment type  (\"electronic check\" option)\n",
    "| payment_type_Mailed check | Encoded feature: payment type  (\"mailed check\" option; the final option would be \"bank transfer\")"
   ]
  },
  {
   "cell_type": "markdown",
   "id": "cf1a5d11",
   "metadata": {},
   "source": [
    "## Wrangle the data\n",
    "\n",
    "To acquire the telco data, I relied on a function that I built and stored in my acquire.py file.  This function pulls the telco dataset (and in its absence, queries the Codeup database using SQL to build it from scratch)"
   ]
  },
  {
   "cell_type": "code",
   "execution_count": 2,
   "id": "874e421e",
   "metadata": {},
   "outputs": [],
   "source": [
    "# Create and check the telco dataframe\n",
    "raw_telco_df = acquire.get_telco_data()"
   ]
  },
  {
   "cell_type": "markdown",
   "id": "6bdda2e4",
   "metadata": {},
   "source": [
    "## Clean and split the data\n",
    "\n",
    "I utilized my prep_telco and split_telco_data functions from prepare.py to get the data ready\n",
    "\n",
    "There were no issues with \"tidiness,\" but there were a few items that needed to be cleaned, not least of all the data type for 'total_charges' and several NaN values in that feature\n",
    "\n",
    "### Missing values: in the total_charges feature, I replaced the missing values with zeroes; these cells seemed to represent new customers who had yet to accumulate charges.\n",
    "\n",
    "### Additionally, the total_charges column has a few values that do not equal their 'tenure' multiplied by 'monthly_charges;' I chose not to make any changes, in case these values possibly represented customers whose monthly charges have changed over time.\n"
   ]
  },
  {
   "cell_type": "code",
   "execution_count": 3,
   "id": "a7bddd71",
   "metadata": {},
   "outputs": [],
   "source": [
    "# Create a dataframe for the prepared telco data from my prepare.py file.\n",
    "telco_prepped = prepare.prep_telco(raw_telco_df)"
   ]
  },
  {
   "cell_type": "code",
   "execution_count": 4,
   "id": "d1d41f5f",
   "metadata": {},
   "outputs": [
    {
     "name": "stdout",
     "output_type": "stream",
     "text": [
      "telco_train: (3943, 61)\n",
      "telco_validate: (1691, 61)\n",
      "telco_test: (1409, 61)\n"
     ]
    }
   ],
   "source": [
    "#Here, we reassign the three values returned from the split_data function to new variables\n",
    "telco_train, telco_validate, telco_test = prepare.split_telco_data(telco_prepped)\n",
    "print(f'telco_train: {telco_train.shape}')\n",
    "print(f'telco_validate: {telco_validate.shape}')\n",
    "print(f'telco_test: {telco_test.shape}')"
   ]
  },
  {
   "cell_type": "code",
   "execution_count": 5,
   "id": "0d677dcc",
   "metadata": {},
   "outputs": [],
   "source": [
    "# Create X & y version of train, where y is a series with just the target variable and X are all the features. \n",
    "\n",
    "telco_X_train = telco_train.drop(columns=['churn_Yes'])\n",
    "telco_y_train = telco_train.churn_Yes\n",
    "\n",
    "telco_X_validate = telco_validate.drop(columns=['churn_Yes'])\n",
    "telco_y_validate = telco_validate.churn_Yes\n",
    "\n",
    "telco_X_test = telco_test.drop(columns=['churn_Yes'])\n",
    "telco_y_test = telco_test.churn_Yes"
   ]
  },
  {
   "cell_type": "markdown",
   "id": "fbcee683",
   "metadata": {},
   "source": [
    "# At this point, we now have our train, validate, test data sets\n",
    "\n",
    "- We will set alpha to 0.05 for all subsequent stats tests"
   ]
  },
  {
   "cell_type": "code",
   "execution_count": 6,
   "id": "d2ca4ced",
   "metadata": {},
   "outputs": [],
   "source": [
    "alpha = 0.05"
   ]
  },
  {
   "cell_type": "markdown",
   "id": "7a3930ee",
   "metadata": {},
   "source": [
    "## Research Question 1\n",
    "Are those with dependents paying less? What about their churn? We can see in the next cell that they churn less."
   ]
  },
  {
   "cell_type": "code",
   "execution_count": 7,
   "id": "2761269a",
   "metadata": {
    "scrolled": true
   },
   "outputs": [
    {
     "data": {
      "image/png": "[encoded data removed]",
      "text/plain": [
       "<Figure size 432x288 with 1 Axes>"
      ]
     },
     "metadata": {
      "needs_background": "light"
     },
     "output_type": "display_data"
    }
   ],
   "source": [
    "# The code in this cell creates a seaborns barplot using hue to distignuish between having dependents and not.\n",
    "\n",
    "plt.title(\"For each contract type, people with dependents churn less. Especially month-to-month\")\n",
    "sns.barplot(x=\"contract_type\", y=telco_y_train, data=telco_X_train, hue=\"dependents\")\n",
    "plt.show()"
   ]
  },
  {
   "cell_type": "code",
   "execution_count": 8,
   "id": "60a8a451",
   "metadata": {
    "scrolled": true
   },
   "outputs": [
    {
     "data": {
      "text/html": [
       "<div>\n",
       "<style scoped>\n",
       "    .dataframe tbody tr th:only-of-type {\n",
       "        vertical-align: middle;\n",
       "    }\n",
       "\n",
       "    .dataframe tbody tr th {\n",
       "        vertical-align: top;\n",
       "    }\n",
       "\n",
       "    .dataframe thead th {\n",
       "        text-align: right;\n",
       "    }\n",
       "</style>\n",
       "<table border=\"1\" class=\"dataframe\">\n",
       "  <thead>\n",
       "    <tr style=\"text-align: right;\">\n",
       "      <th>churn_Yes</th>\n",
       "      <th>0</th>\n",
       "      <th>1</th>\n",
       "    </tr>\n",
       "    <tr>\n",
       "      <th>dependents</th>\n",
       "      <th></th>\n",
       "      <th></th>\n",
       "    </tr>\n",
       "  </thead>\n",
       "  <tbody>\n",
       "    <tr>\n",
       "      <th>No</th>\n",
       "      <td>1905</td>\n",
       "      <td>865</td>\n",
       "    </tr>\n",
       "    <tr>\n",
       "      <th>Yes</th>\n",
       "      <td>992</td>\n",
       "      <td>181</td>\n",
       "    </tr>\n",
       "  </tbody>\n",
       "</table>\n",
       "</div>"
      ],
      "text/plain": [
       "churn_Yes      0    1\n",
       "dependents           \n",
       "No          1905  865\n",
       "Yes          992  181"
      ]
     },
     "execution_count": 8,
     "metadata": {},
     "output_type": "execute_result"
    }
   ],
   "source": [
    "# This code creates a crosstab for depedents and churn, to be used in a stats test in the next cell\n",
    "\n",
    "observed_dependents = pd.crosstab(telco_X_train.dependents, telco_y_train)\n",
    "observed_dependents"
   ]
  },
  {
   "cell_type": "markdown",
   "id": "cbdc8aa1",
   "metadata": {},
   "source": [
    "### Hypothesis to test in a stats test regarding dependents:   \n",
    "    - 𝐻𝑜 : having dependents is unrelated to churn\n",
    "    - 𝐻𝑎 : having dependents is related to churn\n",
    "    \n",
    "    - We reject the null hypothesis"
   ]
  },
  {
   "cell_type": "code",
   "execution_count": 9,
   "id": "04b86181",
   "metadata": {},
   "outputs": [
    {
     "name": "stdout",
     "output_type": "stream",
     "text": [
      "Observed\n",
      "\n",
      "[[1905  865]\n",
      " [ 992  181]]\n",
      "---\n",
      "Expected\n",
      "\n",
      "[[2035  734]\n",
      " [ 861  311]]\n",
      "---\n",
      "\n",
      "chi^2 = 104.6951\n",
      "p     = 0.0000\n",
      "We reject the null hypothesis\n"
     ]
    }
   ],
   "source": [
    "# This cell performs a chi^2 test on the observed_dependents crosstab above.\n",
    "chi2, p, degf, expected = stats.chi2_contingency(observed_dependents)\n",
    "print('Observed\\n')\n",
    "print(observed_dependents.values)\n",
    "print('---\\nExpected\\n')\n",
    "print(expected.astype(int))\n",
    "print('---\\n')\n",
    "print(f'chi^2 = {chi2:.4f}')\n",
    "print(f'p     = {p:.4f}')\n",
    "if p < alpha:\n",
    "    print(\"We reject the null hypothesis\")\n",
    "else:\n",
    "    print(\"We fail to reject the null hypothesis\")"
   ]
  },
  {
   "cell_type": "code",
   "execution_count": 10,
   "id": "2cb08861",
   "metadata": {},
   "outputs": [
    {
     "name": "stderr",
     "output_type": "stream",
     "text": [
      "No handles with labels found to put in legend.\n"
     ]
    },
    {
     "data": {
      "image/png": "[encoded data removed]",
      "text/plain": [
       "<Figure size 432x288 with 1 Axes>"
      ]
     },
     "metadata": {
      "needs_background": "light"
     },
     "output_type": "display_data"
    }
   ],
   "source": [
    "plt.title(\"Those with dependents are charged less per month\")\n",
    "sns.barplot(y=\"monthly_charges\", x=\"dependents\", data=telco_X_train)\n",
    "plt.legend()\n",
    "plt.show()"
   ]
  },
  {
   "cell_type": "code",
   "execution_count": 11,
   "id": "6c8abfdf",
   "metadata": {
    "scrolled": true
   },
   "outputs": [
    {
     "name": "stderr",
     "output_type": "stream",
     "text": [
      "No handles with labels found to put in legend.\n"
     ]
    },
    {
     "data": {
      "image/png": "[encoded data removed]",
      "text/plain": [
       "<Figure size 432x288 with 1 Axes>"
      ]
     },
     "metadata": {
      "needs_background": "light"
     },
     "output_type": "display_data"
    }
   ],
   "source": [
    "plt.title(\"And yet, they have a higher lifetime value\")\n",
    "sns.barplot(y=\"total_charges\", x=\"dependents\", data=telco_X_train)\n",
    "plt.legend()\n",
    "plt.show()"
   ]
  },
  {
   "cell_type": "code",
   "execution_count": 12,
   "id": "c8098c10",
   "metadata": {},
   "outputs": [],
   "source": [
    "# Commented out for time purposes\n",
    "\n",
    "# # Seaborns barplot comparing contract type/dependents to monthly charges.  \n",
    "# plt.title(\"For each contract type, people with dependents pay less\")\n",
    "# sns.barplot(x=\"contract_type\", y='monthly_charges', data=telco_X_train, hue=\"dependents\")\n",
    "# plt.show()"
   ]
  },
  {
   "cell_type": "markdown",
   "id": "1559e513",
   "metadata": {},
   "source": [
    "### Answer to Research Question 1:\n",
    "\n",
    "Our chi^2 test shows that we can proceed with the understanding that customers with dependents churn less; additionally, it is clear from the charts that they are charged less but still provide a higher lifetime value."
   ]
  },
  {
   "cell_type": "markdown",
   "id": "9aac0463",
   "metadata": {},
   "source": [
    "## Research Question 2\n",
    "We know that people with paperless billing churn at a higher rate; could this be related to their contract type, or perhaps higher monthly charges?"
   ]
  },
  {
   "cell_type": "code",
   "execution_count": 13,
   "id": "0a4771e0",
   "metadata": {
    "scrolled": true
   },
   "outputs": [],
   "source": [
    "# Commenting out for time purposes\n",
    "\n",
    "# # Here, we see the relationship between paperless billing and churn.\n",
    "# plt.title(\"Higher churn for those with paperless billing\")\n",
    "# sns.barplot(y=telco_y_train, x=\"paperless_billing\", data=telco_X_train)\n",
    "# plt.legend()\n",
    "# plt.show()"
   ]
  },
  {
   "cell_type": "code",
   "execution_count": 14,
   "id": "d8c7af9a",
   "metadata": {},
   "outputs": [
    {
     "data": {
      "image/png": "[encoded data removed]",
      "text/plain": [
       "<Figure size 432x288 with 1 Axes>"
      ]
     },
     "metadata": {
      "needs_background": "light"
     },
     "output_type": "display_data"
    }
   ],
   "source": [
    "#monthly charges, paperless billing, churn, contract type\n",
    "\n",
    "# For each contract type, people with dependents churn less\n",
    "plt.title(\"For each contract type, people with paperless billing churn more. Esp. month-to-month\")\n",
    "sns.barplot(x=\"contract_type\", y=telco_y_train, data=telco_X_train, hue=\"paperless_billing\")\n",
    "#population_survival_rate = train.survived.mean()\n",
    "#plt.axhline(population_survival_rate)\n",
    "plt.show()"
   ]
  },
  {
   "cell_type": "code",
   "execution_count": 15,
   "id": "9e7e0bad",
   "metadata": {},
   "outputs": [],
   "source": [
    "# This cell creates a crosstab for use in a stats test below.\n",
    "\n",
    "observed_billing = pd.crosstab(telco_X_train.paperless_billing, telco_y_train)"
   ]
  },
  {
   "cell_type": "markdown",
   "id": "13eaeb90",
   "metadata": {},
   "source": [
    "### My hypotheses regarding paperless billing and churn\n",
    "    \n",
    "    - 𝐻𝑜 : having paperless billing is unrelated to churn\n",
    "    - 𝐻𝑎 : having paperless billing is related to churn\n",
    "    \n",
    "    - We rejected the null hypothesis"
   ]
  },
  {
   "cell_type": "code",
   "execution_count": 16,
   "id": "9ce0b4ae",
   "metadata": {},
   "outputs": [
    {
     "name": "stdout",
     "output_type": "stream",
     "text": [
      "Observed\n",
      "\n",
      "[[1335  256]\n",
      " [1562  790]]\n",
      "---\n",
      "Expected\n",
      "\n",
      "[[1168  422]\n",
      " [1728  623]]\n",
      "---\n",
      "\n",
      "chi^2 = 148.1863\n",
      "p     = 0.0000\n",
      "We reject the null hypothesis\n"
     ]
    }
   ],
   "source": [
    "# The following code runs a \n",
    "chi2, p, degf, expected = stats.chi2_contingency(observed_billing)\n",
    "print('Observed\\n')\n",
    "print(observed_billing.values)\n",
    "print('---\\nExpected\\n')\n",
    "print(expected.astype(int))\n",
    "print('---\\n')\n",
    "print(f'chi^2 = {chi2:.4f}')\n",
    "print(f'p     = {p:.4f}')\n",
    "if p < alpha:\n",
    "    print(\"We reject the null hypothesis\")\n",
    "else:\n",
    "    print(\"We fail to reject the null hypothesis\")"
   ]
  },
  {
   "cell_type": "code",
   "execution_count": 17,
   "id": "604ae801",
   "metadata": {},
   "outputs": [
    {
     "name": "stderr",
     "output_type": "stream",
     "text": [
      "No handles with labels found to put in legend.\n"
     ]
    },
    {
     "data": {
      "image/png": "[encoded data removed]",
      "text/plain": [
       "<Figure size 432x288 with 1 Axes>"
      ]
     },
     "metadata": {
      "needs_background": "light"
     },
     "output_type": "display_data"
    }
   ],
   "source": [
    "plt.title(\"Those with paperless billing pay more every month\")\n",
    "sns.barplot(y=\"monthly_charges\", x=\"paperless_billing\", data=telco_X_train)\n",
    "plt.legend()\n",
    "plt.show()"
   ]
  },
  {
   "cell_type": "code",
   "execution_count": 18,
   "id": "9d98a036",
   "metadata": {
    "scrolled": true
   },
   "outputs": [],
   "source": [
    "# Commenting out for time purposes\n",
    "\n",
    "# # For each contract type, people with dependents pay more\n",
    "# plt.title(\"For each contract type, people with paperless billing pay more\")\n",
    "# sns.barplot(x=\"contract_type\", y='monthly_charges', data=telco_X_train, hue=\"paperless_billing\")\n",
    "# #population_survival_rate = train.survived.mean()\n",
    "# #plt.axhline(population_survival_rate)\n",
    "# plt.show()"
   ]
  },
  {
   "cell_type": "markdown",
   "id": "42a1297d",
   "metadata": {},
   "source": [
    "### Answer to Research Question 2:\n",
    "\n",
    "Our chi^2 test shows that we can proceed with the understanding that paperless billing is related to churn; these customers also pay more every month."
   ]
  },
  {
   "cell_type": "markdown",
   "id": "8e7c9b8c",
   "metadata": {},
   "source": [
    "## Research Question 3\n",
    "Are people with longer tenure creating more long-term value? "
   ]
  },
  {
   "cell_type": "code",
   "execution_count": 19,
   "id": "291f18b8",
   "metadata": {
    "scrolled": false
   },
   "outputs": [],
   "source": [
    "# Commented out for time's sake.  The next visual is more helpful.\n",
    "\n",
    "# # This cell creates a chart showing customer tenure and monthly charges, differentiated by churn (\"1\" = Churn, \"0\" = No Churn)\n",
    "# plt.figure(figsize=(15,6))\n",
    "# plt.title(\"There is an apparent relationship between tenure and monthly charges\")\n",
    "# sns.scatterplot(y='monthly_charges', x=\"tenure\", data=telco_X_train, hue=telco_y_train)\n",
    "# plt.legend()\n",
    "# plt.show()\n",
    "# plt.tight_layout"
   ]
  },
  {
   "cell_type": "code",
   "execution_count": 20,
   "id": "7957123f",
   "metadata": {
    "scrolled": false
   },
   "outputs": [
    {
     "data": {
      "image/png": "[encoded data removed]",
      "text/plain": [
       "<Figure size 1137.62x360 with 3 Axes>"
      ]
     },
     "metadata": {
      "needs_background": "light"
     },
     "output_type": "display_data"
    }
   ],
   "source": [
    "# slight correlation. far less churn and higher tenure in two year contracts.  For what it's worth\n",
    "rel = sns.relplot(x='tenure', y='monthly_charges', data=telco_X_train, col=\"contract_type\", hue=telco_y_train)\n",
    "rel.fig.suptitle('Tenure to Monthly Charges by Contract Type') # One way to title a relplot\n",
    "plt.tight_layout()"
   ]
  },
  {
   "cell_type": "markdown",
   "id": "27412aeb",
   "metadata": {},
   "source": [
    "### The above charts imply generally more churn for shorter-tenured customers; less clear is the relationship between monthly charges and tenure.  Month-to-month contracts have visibly more churn than other contract durations."
   ]
  },
  {
   "cell_type": "markdown",
   "id": "b77aca39",
   "metadata": {},
   "source": [
    "### My hypotheses regarding churn and tenure:\n",
    "\n",
    "    - 𝐻𝑜 : tenure among churn and non-churn is unrelated\n",
    "    - 𝐻𝑎 : tenure is related to churn\n",
    "\n",
    "    - We rejected the null hypothesis"
   ]
  },
  {
   "cell_type": "code",
   "execution_count": 21,
   "id": "032fd1ae",
   "metadata": {},
   "outputs": [
    {
     "name": "stdout",
     "output_type": "stream",
     "text": [
      "We reject the null hypothesis\n"
     ]
    },
    {
     "data": {
      "text/plain": [
       "(204454.5, 0.0)"
      ]
     },
     "execution_count": 21,
     "metadata": {},
     "output_type": "execute_result"
    }
   ],
   "source": [
    "# This cell runs a mann-whitney stats test on tenure vs. churn; the result shows a clear correlation.\n",
    "\n",
    "mann_whit, p_value = scipy.stats.mannwhitneyu(telco_X_train.tenure, telco_y_train, )\n",
    "\n",
    "\n",
    "if p_value < alpha:\n",
    "    print(\"We reject the null hypothesis\")\n",
    "else:\n",
    "    print(\"We fail to reject the null hypothesis\")\n",
    "    \n",
    "mann_whit, p_value"
   ]
  },
  {
   "cell_type": "code",
   "execution_count": 22,
   "id": "c67a5f3a",
   "metadata": {},
   "outputs": [
    {
     "name": "stderr",
     "output_type": "stream",
     "text": [
      "No handles with labels found to put in legend.\n"
     ]
    },
    {
     "data": {
      "image/png": "[encoded data removed]",
      "text/plain": [
       "<Figure size 1080x432 with 1 Axes>"
      ]
     },
     "metadata": {
      "needs_background": "light"
     },
     "output_type": "display_data"
    },
    {
     "data": {
      "text/plain": [
       "<function matplotlib.pyplot.tight_layout(*, pad=1.08, h_pad=None, w_pad=None, rect=None)>"
      ]
     },
     "execution_count": 22,
     "metadata": {},
     "output_type": "execute_result"
    }
   ],
   "source": [
    "# This cell compares total_charges, which have been separated in 8 bins, to churn\n",
    "plt.figure(figsize=(15,6))\n",
    "plt.title(\"Churn goes down as total charges go up...up to a point\")\n",
    "sns.barplot(y=telco_y_train, x=\"total_charges_bins\", data=telco_X_train)\n",
    "plt.legend()\n",
    "plt.show()\n",
    "plt.tight_layout"
   ]
  },
  {
   "cell_type": "markdown",
   "id": "1bc47922",
   "metadata": {},
   "source": [
    "### The above chart shows that there is a a point at which, as total charges rise, our customers' churn rate rises before falling again."
   ]
  },
  {
   "cell_type": "markdown",
   "id": "051a90cb",
   "metadata": {},
   "source": [
    "### Answer to Research Question 3:\n",
    "\n",
    "Our mann-whitney test shows that we can proceed with the understanding that tenure is related to churn, obvious as it may seem; customer churn goes down as their lifetime value (measured in total charges) goes up. Interestingly, their is a point at which total charges point to a higher level of churn--perhaps an area for further exploration. "
   ]
  },
  {
   "cell_type": "markdown",
   "id": "5804e735",
   "metadata": {},
   "source": [
    "## Research Question 4\n",
    "\n",
    "How does the electronic check payment method relates to higher churn?"
   ]
  },
  {
   "cell_type": "code",
   "execution_count": 23,
   "id": "99062f9d",
   "metadata": {
    "scrolled": true
   },
   "outputs": [
    {
     "data": {
      "text/plain": [
       "<AxesSubplot:title={'center':'Way higher churn for electronic check'}, xlabel='payment_type', ylabel='churn_Yes'>"
      ]
     },
     "execution_count": 23,
     "metadata": {},
     "output_type": "execute_result"
    },
    {
     "data": {
      "image/png": "[encoded data removed]",
      "text/plain": [
       "<Figure size 720x360 with 1 Axes>"
      ]
     },
     "metadata": {
      "needs_background": "light"
     },
     "output_type": "display_data"
    }
   ],
   "source": [
    "# This simple yet effective chart shows the stark difference in churn for electronic check payments.\n",
    "plt.figure(figsize=(10,5))\n",
    "plt.title(\"Way higher churn for electronic check\")\n",
    "sns.barplot(y=telco_y_train, x= 'payment_type', data=telco_X_train)"
   ]
  },
  {
   "cell_type": "code",
   "execution_count": 24,
   "id": "17f78a0f",
   "metadata": {
    "scrolled": false
   },
   "outputs": [
    {
     "data": {
      "text/html": [
       "<div>\n",
       "<style scoped>\n",
       "    .dataframe tbody tr th:only-of-type {\n",
       "        vertical-align: middle;\n",
       "    }\n",
       "\n",
       "    .dataframe tbody tr th {\n",
       "        vertical-align: top;\n",
       "    }\n",
       "\n",
       "    .dataframe thead th {\n",
       "        text-align: right;\n",
       "    }\n",
       "</style>\n",
       "<table border=\"1\" class=\"dataframe\">\n",
       "  <thead>\n",
       "    <tr style=\"text-align: right;\">\n",
       "      <th>churn_Yes</th>\n",
       "      <th>0</th>\n",
       "      <th>1</th>\n",
       "    </tr>\n",
       "    <tr>\n",
       "      <th>payment_type_Electronic check</th>\n",
       "      <th></th>\n",
       "      <th></th>\n",
       "    </tr>\n",
       "  </thead>\n",
       "  <tbody>\n",
       "    <tr>\n",
       "      <th>0</th>\n",
       "      <td>2204</td>\n",
       "      <td>445</td>\n",
       "    </tr>\n",
       "    <tr>\n",
       "      <th>1</th>\n",
       "      <td>693</td>\n",
       "      <td>601</td>\n",
       "    </tr>\n",
       "  </tbody>\n",
       "</table>\n",
       "</div>"
      ],
      "text/plain": [
       "churn_Yes                         0    1\n",
       "payment_type_Electronic check           \n",
       "0                              2204  445\n",
       "1                               693  601"
      ]
     },
     "execution_count": 24,
     "metadata": {},
     "output_type": "execute_result"
    }
   ],
   "source": [
    "# This cell creates a crosstab for use in chi^2 testing.\n",
    "\n",
    "# Please note that we used the encoded column for electronic check\n",
    "# This way, we are running the test on echeck only (not on general 'payment method' vs. 'churn')\n",
    "\n",
    "observed_payment_type_Electronic_check = pd.crosstab(telco_X_train['payment_type_Electronic check'], telco_y_train)\n",
    "\n",
    "observed_payment_type_Electronic_check"
   ]
  },
  {
   "cell_type": "markdown",
   "id": "124db532",
   "metadata": {},
   "source": [
    "### My hypotheses vis-a-vis electronic check and churn:\n",
    "\n",
    "    - 𝐻𝑜 : paying by electronic check is unrelated to churn\n",
    "    - 𝐻𝑎 : paying by electronic check is related to churn\n",
    "    \n",
    "    - We rejected the null hypothesis after testing."
   ]
  },
  {
   "cell_type": "code",
   "execution_count": 25,
   "id": "b4729a18",
   "metadata": {},
   "outputs": [
    {
     "name": "stdout",
     "output_type": "stream",
     "text": [
      "Observed\n",
      "\n",
      "[[2204  445]\n",
      " [ 693  601]]\n",
      "---\n",
      "Expected\n",
      "\n",
      "[[1946  702]\n",
      " [ 950  343]]\n",
      "---\n",
      "\n",
      "chi^2 = 390.4975\n",
      "p     = 0.0000\n",
      "We reject the null hypothesis\n"
     ]
    }
   ],
   "source": [
    "# Creating various variables related to chi^2 testing and printing them below:\n",
    "\n",
    "chi2, p, degf, expected = stats.chi2_contingency(observed_payment_type_Electronic_check)\n",
    "print('Observed\\n')\n",
    "print(observed_payment_type_Electronic_check.values)\n",
    "print('---\\nExpected\\n')\n",
    "print(expected.astype(int))\n",
    "print('---\\n')\n",
    "print(f'chi^2 = {chi2:.4f}')\n",
    "print(f'p     = {p:.4f}')\n",
    "if p < alpha:\n",
    "    print(\"We reject the null hypothesis\")\n",
    "else:\n",
    "    print(\"We fail to reject the null hypothesis\")"
   ]
  },
  {
   "cell_type": "code",
   "execution_count": 26,
   "id": "223ffb6b",
   "metadata": {
    "scrolled": true
   },
   "outputs": [
    {
     "data": {
      "image/png": "[encoded data removed]",
      "text/plain": [
       "<Figure size 1080x432 with 1 Axes>"
      ]
     },
     "metadata": {
      "needs_background": "light"
     },
     "output_type": "display_data"
    },
    {
     "data": {
      "text/plain": [
       "<function matplotlib.pyplot.tight_layout(*, pad=1.08, h_pad=None, w_pad=None, rect=None)>"
      ]
     },
     "execution_count": 26,
     "metadata": {},
     "output_type": "execute_result"
    }
   ],
   "source": [
    "# This cell creates a seaborns barplot to emphasize that in spite of their higher churn,\n",
    "# customers paying with electronic check don't have considerably higher monthly charges.\n",
    "plt.figure(figsize=(15,6))\n",
    "plt.title(\"Electronic check payment is not strongly related to monthly charges\")\n",
    "sns.barplot(x=\"payment_type\", y='monthly_charges', data=telco_X_train, hue=\"contract_type\")\n",
    "plt.show()\n",
    "plt.tight_layout"
   ]
  },
  {
   "cell_type": "markdown",
   "id": "5e3df201",
   "metadata": {},
   "source": [
    "### Answer to Research Question 4:\n",
    "\n",
    "The seaborns charts and chi^2 test above demonstrate that paying by electronic check relates to higher churn--in spite of the fact that these customers are not paying very much more per month! One conclusion is that this form of payment relates to a lower commitment to the the company, and therefore higher churn."
   ]
  },
  {
   "cell_type": "markdown",
   "id": "e01e2272",
   "metadata": {},
   "source": [
    "## Summary, exploration:\n",
    "\n",
    "We can proceed with the understanding that customers with dependents churn less; additionally, it is clear from the charts that they are charged less but still provide a higher lifetime value.\n",
    "\n",
    "We can proceed with the understanding that paperless billing is related to churn; these customers also pay more every month.\n",
    "\n",
    "We can proceed with the understanding that tenure is related to churn. Interestingly, there is a point at which total charges point to a higher level of churn--perhaps an area for further exploration. \n",
    "\n",
    "Paying by electronic check relates to higher churn--in spite of the fact that these customers are not paying very much more per month.\n",
    "\n",
    "\n",
    "I'd like to proceed with the four features explored here in a future model; currently, my report includes modelling that uses most or all features."
   ]
  },
  {
   "cell_type": "markdown",
   "id": "085fddbb",
   "metadata": {},
   "source": [
    "# ON TO MODELLING"
   ]
  },
  {
   "cell_type": "markdown",
   "id": "1d926e8a",
   "metadata": {},
   "source": [
    "### What are we optimizing for?  ACCURACY because we want to pinpoint the best we can the customers who will churn. Not a case of trying to prevent false positives or false negatives, etc; we must specifically identify as exactly as possible those who will churn.\n",
    "\n",
    "### The top performing models I built were Decision Tree, Random Forest, and KNN model; the best-performing of these, Random Forest, returned just over 74% accuracy."
   ]
  },
  {
   "cell_type": "markdown",
   "id": "be684847",
   "metadata": {},
   "source": [
    "### What is our baseline? See the following cells:"
   ]
  },
  {
   "cell_type": "code",
   "execution_count": 27,
   "id": "79e9b3d4",
   "metadata": {},
   "outputs": [
    {
     "data": {
      "text/plain": [
       "0    2897\n",
       "1    1046\n",
       "Name: churn_Yes, dtype: int64"
      ]
     },
     "execution_count": 27,
     "metadata": {},
     "output_type": "execute_result"
    }
   ],
   "source": [
    "# Checking which y_tran value is higher to establish baseline. \"no churn\" wins.\n",
    "telco_y_train.value_counts()"
   ]
  },
  {
   "cell_type": "code",
   "execution_count": 28,
   "id": "715370c7",
   "metadata": {},
   "outputs": [],
   "source": [
    "# Creating a baseline column valued 0 (because no churn, '0', is the baseline)\n",
    "\n",
    "telco_X_train['baseline'] = 0\n",
    "telco_X_validate['baseline'] = 0\n",
    "telco_X_test['baseline']= 0"
   ]
  },
  {
   "cell_type": "code",
   "execution_count": 29,
   "id": "73aa48fa",
   "metadata": {},
   "outputs": [
    {
     "name": "stdout",
     "output_type": "stream",
     "text": [
      "baseline accuracy: 73.47%\n"
     ]
    }
   ],
   "source": [
    "# Baseline accuracy\n",
    "baseline_accuracy = (telco_y_train == telco_X_train.baseline).mean()\n",
    "\n",
    "# print(f'model1 accuracy: {model1_accuracy:.2%}')\n",
    "# print(f'model2 accuracy: {model2_accuracy:.2%}')\n",
    "# print(f'model3 accuracy: {model3_accuracy:.2%}')\n",
    "print(f'baseline accuracy: {baseline_accuracy:.2%}')"
   ]
  },
  {
   "cell_type": "code",
   "execution_count": 30,
   "id": "051cee19",
   "metadata": {},
   "outputs": [],
   "source": [
    "# The decision tree model was throwing errors bc of the string type data in the train set.\n",
    "# This code uses a function i made to encode and drop columns for the model.  \n",
    "\n",
    "telco_X_train_encoded = prepare.cols_to_dummy(telco_X_train)\n",
    "\n",
    "# there were a large number of NaNs in the resulting df, so this code drops them\n",
    "telco_X_train_encoded = telco_X_train_encoded.dropna()\n",
    "\n",
    "# Repeat on validate and test sets:\n",
    "telco_X_validate_encoded = prepare.cols_to_dummy(telco_X_validate)\n",
    "telco_X_validate_encoded = telco_X_validate_encoded.dropna()\n",
    "\n",
    "telco_X_test_encoded = prepare.cols_to_dummy(telco_X_test)\n",
    "telco_X_test_encoded = telco_X_test_encoded.dropna()"
   ]
  },
  {
   "cell_type": "markdown",
   "id": "8d78f0b7",
   "metadata": {},
   "source": [
    "# Decision Tree Model"
   ]
  },
  {
   "cell_type": "markdown",
   "id": "7449dfb1",
   "metadata": {},
   "source": [
    "## I'm going to iterate at different max depths in the following cell"
   ]
  },
  {
   "cell_type": "code",
   "execution_count": 31,
   "id": "e923638f",
   "metadata": {},
   "outputs": [
    {
     "name": "stdout",
     "output_type": "stream",
     "text": [
      "Tree with max depth of 1\n",
      "                     0       1  accuracy    macro avg  weighted avg\n",
      "precision     0.734720     0.0   0.73472     0.367360      0.539813\n",
      "recall        1.000000     0.0   0.73472     0.500000      0.734720\n",
      "f1-score      0.847076     0.0   0.73472     0.423538      0.622363\n",
      "support    2897.000000  1046.0   0.73472  3943.000000   3943.000000\n",
      "\n",
      "Tree with max depth of 2\n",
      "                     0       1  accuracy    macro avg  weighted avg\n",
      "precision     0.734720     0.0   0.73472     0.367360      0.539813\n",
      "recall        1.000000     0.0   0.73472     0.500000      0.734720\n",
      "f1-score      0.847076     0.0   0.73472     0.423538      0.622363\n",
      "support    2897.000000  1046.0   0.73472  3943.000000   3943.000000\n",
      "\n",
      "Tree with max depth of 3\n",
      "                     0            1  accuracy    macro avg  weighted avg\n",
      "precision     0.737111     0.640000  0.736495     0.688555      0.711349\n",
      "recall        0.996893     0.015296  0.736495     0.506095      0.736495\n",
      "f1-score      0.847542     0.029879  0.736495     0.438710      0.630632\n",
      "support    2897.000000  1046.000000  0.736495  3943.000000   3943.000000\n",
      "\n",
      "Tree with max depth of 4\n",
      "                     0            1  accuracy    macro avg  weighted avg\n",
      "precision     0.737137     0.823529   0.73751     0.780333      0.760055\n",
      "recall        0.998964     0.013384   0.73751     0.506174      0.737510\n",
      "f1-score      0.848307     0.026341   0.73751     0.437324      0.630256\n",
      "support    2897.000000  1046.000000   0.73751  3943.000000   3943.000000\n",
      "\n",
      "Tree with max depth of 5\n",
      "                     0            1  accuracy    macro avg  weighted avg\n",
      "precision     0.739119     0.729730  0.739031     0.734425      0.736628\n",
      "recall        0.996548     0.025813  0.739031     0.511180      0.739031\n",
      "f1-score      0.848743     0.049861  0.739031     0.449302      0.636816\n",
      "support    2897.000000  1046.000000  0.739031  3943.000000   3943.000000\n",
      "\n",
      "Tree with max depth of 6\n",
      "                     0            1  accuracy    macro avg  weighted avg\n",
      "precision     0.741828     0.741379  0.741821     0.741603      0.741709\n",
      "recall        0.994822     0.041109  0.741821     0.517966      0.741821\n",
      "f1-score      0.849897     0.077899  0.741821     0.463898      0.645101\n",
      "support    2897.000000  1046.000000  0.741821  3943.000000   3943.000000\n",
      "\n",
      "Tree with max depth of 7\n",
      "                     0            1  accuracy    macro avg  weighted avg\n",
      "precision     0.743616     0.787879  0.744357     0.765747      0.755358\n",
      "recall        0.995167     0.049713  0.744357     0.522440      0.744357\n",
      "f1-score      0.851196     0.093525  0.744357     0.472360      0.650201\n",
      "support    2897.000000  1046.000000  0.744357  3943.000000   3943.000000\n",
      "\n",
      "Tree with max depth of 8\n",
      "                     0            1  accuracy    macro avg  weighted avg\n",
      "precision     0.744533     0.946429    0.7474     0.845481      0.798092\n",
      "recall        0.998964     0.050669    0.7474     0.524817      0.747400\n",
      "f1-score      0.853184     0.096189    0.7474     0.474686      0.652368\n",
      "support    2897.000000  1046.000000    0.7474  3943.000000   3943.000000\n",
      "\n",
      "Tree with max depth of 9\n",
      "                     0            1  accuracy    macro avg  weighted avg\n",
      "precision     0.755768     0.726744  0.754502     0.741256      0.748068\n",
      "recall        0.983776     0.119503  0.754502     0.551640      0.754502\n",
      "f1-score      0.854829     0.205255  0.754502     0.530042      0.682510\n",
      "support    2897.000000  1046.000000  0.754502  3943.000000   3943.000000\n",
      "\n",
      "Tree with max depth of 10\n",
      "                     0            1  accuracy    macro avg  weighted avg\n",
      "precision     0.759269     0.820359  0.761856     0.789814      0.775475\n",
      "recall        0.989644     0.130975  0.761856     0.560310      0.761856\n",
      "f1-score      0.859284     0.225886  0.761856     0.542585      0.691256\n",
      "support    2897.000000  1046.000000  0.761856  3943.000000   3943.000000\n",
      "\n",
      "Tree with max depth of 11\n",
      "                     0            1  accuracy    macro avg  weighted avg\n",
      "precision     0.768631     0.823009  0.771747     0.795820      0.783056\n",
      "recall        0.986193     0.177820  0.771747     0.582006      0.771747\n",
      "f1-score      0.863925     0.292453  0.771747     0.578189      0.712325\n",
      "support    2897.000000  1046.000000  0.771747  3943.000000   3943.000000\n",
      "\n",
      "Tree with max depth of 12\n",
      "                     0            1  accuracy    macro avg  weighted avg\n",
      "precision     0.774663     0.901288  0.782146     0.837975      0.808254\n",
      "recall        0.992061     0.200765  0.782146     0.596413      0.782146\n",
      "f1-score      0.869986     0.328382  0.782146     0.599184      0.726309\n",
      "support    2897.000000  1046.000000  0.782146  3943.000000   3943.000000\n",
      "\n",
      "Tree with max depth of 13\n",
      "                     0            1  accuracy    macro avg  weighted avg\n",
      "precision     0.783333     0.893993  0.791276     0.838663      0.812689\n",
      "recall        0.989644     0.241874  0.791276     0.615759      0.791276\n",
      "f1-score      0.874485     0.380737  0.791276     0.627611      0.743504\n",
      "support    2897.000000  1046.000000  0.791276  3943.000000   3943.000000\n",
      "\n",
      "Tree with max depth of 14\n",
      "                     0            1  accuracy    macro avg  weighted avg\n",
      "precision     0.793849     0.904192  0.803196     0.849020      0.823121\n",
      "recall        0.988954     0.288719  0.803196     0.638837      0.803196\n",
      "f1-score      0.880725     0.437681  0.803196     0.659203      0.763195\n",
      "support    2897.000000  1046.000000  0.803196  3943.000000   3943.000000\n",
      "\n",
      "Tree with max depth of 15\n",
      "                     0            1  accuracy    macro avg  weighted avg\n",
      "precision     0.810478     0.853333  0.815369     0.831906      0.821847\n",
      "recall        0.977218     0.367113  0.815369     0.672165      0.815369\n",
      "f1-score      0.886072     0.513369  0.815369     0.699720      0.787201\n",
      "support    2897.000000  1046.000000  0.815369  3943.000000   3943.000000\n",
      "\n",
      "Tree with max depth of 16\n",
      "                     0            1  accuracy    macro avg  weighted avg\n",
      "precision     0.823512     0.904366  0.833376     0.863939      0.844961\n",
      "recall        0.984122     0.415870  0.833376     0.699996      0.833376\n",
      "f1-score      0.896682     0.569745  0.833376     0.733213      0.809952\n",
      "support    2897.000000  1046.000000  0.833376  3943.000000   3943.000000\n",
      "\n",
      "Tree with max depth of 17\n",
      "                     0            1  accuracy    macro avg  weighted avg\n",
      "precision     0.840353     0.919708  0.851382     0.880031      0.861405\n",
      "recall        0.984812     0.481836  0.851382     0.733324      0.851382\n",
      "f1-score      0.906866     0.632371  0.851382     0.769619      0.834048\n",
      "support    2897.000000  1046.000000  0.851382  3943.000000   3943.000000\n",
      "\n",
      "Tree with max depth of 18\n",
      "                     0            1  accuracy    macro avg  weighted avg\n",
      "precision     0.860030     0.926752  0.870657     0.893391      0.877730\n",
      "recall        0.984122     0.556405  0.870657     0.770263      0.870657\n",
      "f1-score      0.917901     0.695341  0.870657     0.806621      0.858860\n",
      "support    2897.000000  1046.000000  0.870657  3943.000000   3943.000000\n",
      "\n",
      "Tree with max depth of 19\n",
      "                     0            1  accuracy    macro avg  weighted avg\n",
      "precision     0.876463     0.925395  0.885113     0.900929      0.889444\n",
      "recall        0.982050     0.616635  0.885113     0.799343      0.885113\n",
      "f1-score      0.926258     0.740103  0.885113     0.833180      0.876874\n",
      "support    2897.000000  1046.000000  0.885113  3943.000000   3943.000000\n",
      "\n",
      "Tree with max depth of 20\n",
      "                     0            1  accuracy    macro avg  weighted avg\n",
      "precision     0.888440     0.947586  0.899315     0.918013      0.904130\n",
      "recall        0.986883     0.656788  0.899315     0.821835      0.899315\n",
      "f1-score      0.935078     0.775833  0.899315     0.855455      0.892833\n",
      "support    2897.000000  1046.000000  0.899315  3943.000000   3943.000000\n",
      "\n"
     ]
    }
   ],
   "source": [
    "# This is Adam's 'for' loop\n",
    "for i in range(1,21):\n",
    "    # Make the model\n",
    "    tree = DecisionTreeClassifier(max_depth=i, random_state=123)\n",
    "    # Fit the model (on train and only train)\n",
    "    tree = tree.fit(telco_X_train_encoded, telco_y_train)\n",
    "    # Use the model\n",
    "    y_predictions = tree.predict(telco_X_train_encoded)\n",
    "    # Produce the classification report on the actual y values and this model's predicted y values\n",
    "    report = classification_report(telco_y_train, y_predictions, output_dict=True)\n",
    "    print(f\"Tree with max depth of {i}\")\n",
    "    print(pd.DataFrame(report))\n",
    "    print()"
   ]
  },
  {
   "cell_type": "code",
   "execution_count": 32,
   "id": "85f7d408",
   "metadata": {},
   "outputs": [
    {
     "data": {
      "text/html": [
       "<div>\n",
       "<style scoped>\n",
       "    .dataframe tbody tr th:only-of-type {\n",
       "        vertical-align: middle;\n",
       "    }\n",
       "\n",
       "    .dataframe tbody tr th {\n",
       "        vertical-align: top;\n",
       "    }\n",
       "\n",
       "    .dataframe thead th {\n",
       "        text-align: right;\n",
       "    }\n",
       "</style>\n",
       "<table border=\"1\" class=\"dataframe\">\n",
       "  <thead>\n",
       "    <tr style=\"text-align: right;\">\n",
       "      <th></th>\n",
       "      <th>max_depth</th>\n",
       "      <th>train_accuracy</th>\n",
       "      <th>validate_accuracy</th>\n",
       "      <th>difference</th>\n",
       "    </tr>\n",
       "  </thead>\n",
       "  <tbody>\n",
       "    <tr>\n",
       "      <th>0</th>\n",
       "      <td>1</td>\n",
       "      <td>0.734720</td>\n",
       "      <td>0.734477</td>\n",
       "      <td>0.000243</td>\n",
       "    </tr>\n",
       "    <tr>\n",
       "      <th>1</th>\n",
       "      <td>2</td>\n",
       "      <td>0.734720</td>\n",
       "      <td>0.734477</td>\n",
       "      <td>0.000243</td>\n",
       "    </tr>\n",
       "    <tr>\n",
       "      <th>2</th>\n",
       "      <td>3</td>\n",
       "      <td>0.736495</td>\n",
       "      <td>0.730337</td>\n",
       "      <td>0.006158</td>\n",
       "    </tr>\n",
       "    <tr>\n",
       "      <th>3</th>\n",
       "      <td>4</td>\n",
       "      <td>0.737510</td>\n",
       "      <td>0.730928</td>\n",
       "      <td>0.006581</td>\n",
       "    </tr>\n",
       "    <tr>\n",
       "      <th>4</th>\n",
       "      <td>5</td>\n",
       "      <td>0.739031</td>\n",
       "      <td>0.726198</td>\n",
       "      <td>0.012834</td>\n",
       "    </tr>\n",
       "    <tr>\n",
       "      <th>5</th>\n",
       "      <td>6</td>\n",
       "      <td>0.741821</td>\n",
       "      <td>0.725606</td>\n",
       "      <td>0.016215</td>\n",
       "    </tr>\n",
       "    <tr>\n",
       "      <th>6</th>\n",
       "      <td>7</td>\n",
       "      <td>0.744357</td>\n",
       "      <td>0.725015</td>\n",
       "      <td>0.019342</td>\n",
       "    </tr>\n",
       "    <tr>\n",
       "      <th>7</th>\n",
       "      <td>8</td>\n",
       "      <td>0.747400</td>\n",
       "      <td>0.722058</td>\n",
       "      <td>0.025343</td>\n",
       "    </tr>\n",
       "    <tr>\n",
       "      <th>8</th>\n",
       "      <td>9</td>\n",
       "      <td>0.754502</td>\n",
       "      <td>0.704908</td>\n",
       "      <td>0.049593</td>\n",
       "    </tr>\n",
       "    <tr>\n",
       "      <th>9</th>\n",
       "      <td>10</td>\n",
       "      <td>0.761856</td>\n",
       "      <td>0.712005</td>\n",
       "      <td>0.049852</td>\n",
       "    </tr>\n",
       "    <tr>\n",
       "      <th>10</th>\n",
       "      <td>11</td>\n",
       "      <td>0.771747</td>\n",
       "      <td>0.700177</td>\n",
       "      <td>0.071570</td>\n",
       "    </tr>\n",
       "    <tr>\n",
       "      <th>11</th>\n",
       "      <td>12</td>\n",
       "      <td>0.782146</td>\n",
       "      <td>0.697812</td>\n",
       "      <td>0.084334</td>\n",
       "    </tr>\n",
       "    <tr>\n",
       "      <th>12</th>\n",
       "      <td>13</td>\n",
       "      <td>0.791276</td>\n",
       "      <td>0.693672</td>\n",
       "      <td>0.097603</td>\n",
       "    </tr>\n",
       "    <tr>\n",
       "      <th>13</th>\n",
       "      <td>14</td>\n",
       "      <td>0.803196</td>\n",
       "      <td>0.687759</td>\n",
       "      <td>0.115437</td>\n",
       "    </tr>\n",
       "    <tr>\n",
       "      <th>14</th>\n",
       "      <td>15</td>\n",
       "      <td>0.815369</td>\n",
       "      <td>0.669426</td>\n",
       "      <td>0.145943</td>\n",
       "    </tr>\n",
       "    <tr>\n",
       "      <th>15</th>\n",
       "      <td>16</td>\n",
       "      <td>0.833376</td>\n",
       "      <td>0.669426</td>\n",
       "      <td>0.163949</td>\n",
       "    </tr>\n",
       "    <tr>\n",
       "      <th>16</th>\n",
       "      <td>17</td>\n",
       "      <td>0.851382</td>\n",
       "      <td>0.656416</td>\n",
       "      <td>0.194966</td>\n",
       "    </tr>\n",
       "    <tr>\n",
       "      <th>17</th>\n",
       "      <td>18</td>\n",
       "      <td>0.870657</td>\n",
       "      <td>0.640449</td>\n",
       "      <td>0.230207</td>\n",
       "    </tr>\n",
       "    <tr>\n",
       "      <th>18</th>\n",
       "      <td>19</td>\n",
       "      <td>0.885113</td>\n",
       "      <td>0.628622</td>\n",
       "      <td>0.256491</td>\n",
       "    </tr>\n",
       "    <tr>\n",
       "      <th>19</th>\n",
       "      <td>20</td>\n",
       "      <td>0.899315</td>\n",
       "      <td>0.629805</td>\n",
       "      <td>0.269510</td>\n",
       "    </tr>\n",
       "  </tbody>\n",
       "</table>\n",
       "</div>"
      ],
      "text/plain": [
       "    max_depth  train_accuracy  validate_accuracy  difference\n",
       "0           1        0.734720           0.734477    0.000243\n",
       "1           2        0.734720           0.734477    0.000243\n",
       "2           3        0.736495           0.730337    0.006158\n",
       "3           4        0.737510           0.730928    0.006581\n",
       "4           5        0.739031           0.726198    0.012834\n",
       "5           6        0.741821           0.725606    0.016215\n",
       "6           7        0.744357           0.725015    0.019342\n",
       "7           8        0.747400           0.722058    0.025343\n",
       "8           9        0.754502           0.704908    0.049593\n",
       "9          10        0.761856           0.712005    0.049852\n",
       "10         11        0.771747           0.700177    0.071570\n",
       "11         12        0.782146           0.697812    0.084334\n",
       "12         13        0.791276           0.693672    0.097603\n",
       "13         14        0.803196           0.687759    0.115437\n",
       "14         15        0.815369           0.669426    0.145943\n",
       "15         16        0.833376           0.669426    0.163949\n",
       "16         17        0.851382           0.656416    0.194966\n",
       "17         18        0.870657           0.640449    0.230207\n",
       "18         19        0.885113           0.628622    0.256491\n",
       "19         20        0.899315           0.629805    0.269510"
      ]
     },
     "execution_count": 32,
     "metadata": {},
     "output_type": "execute_result"
    }
   ],
   "source": [
    "# Adam's code for a nice, clean view:\n",
    "metrics = []\n",
    "\n",
    "for i in range(1, 21):\n",
    "    # Make the model\n",
    "    tree = DecisionTreeClassifier(max_depth=i, random_state=123)\n",
    "    # Fit the model (on train and only train)\n",
    "    tree = tree.fit(telco_X_train_encoded, telco_y_train)\n",
    "    # Use the model\n",
    "        # The following line runs the accuracy test on the train data set\n",
    "    in_sample_accuracy = tree.score(telco_X_train_encoded, telco_y_train)\n",
    "        # This line runs it on the validate set\n",
    "    out_of_sample_accuracy = tree.score(telco_X_validate_encoded, telco_y_validate)\n",
    "    output = {\n",
    "        \"max_depth\": i,\n",
    "        \"train_accuracy\": in_sample_accuracy,\n",
    "        \"validate_accuracy\": out_of_sample_accuracy\n",
    "    }\n",
    "    \n",
    "    metrics.append(output)\n",
    "    \n",
    "df = pd.DataFrame(metrics)\n",
    "df[\"difference\"] = df.train_accuracy - df.validate_accuracy\n",
    "df\n",
    "\n",
    "# The resulting dataframe returns the accuracy for both datasets and the difference between them\n",
    "# This will help us decide which max depth provides an adequate accuracy on 'validate,' without overfit"
   ]
  },
  {
   "cell_type": "code",
   "execution_count": 33,
   "id": "81c268c1",
   "metadata": {},
   "outputs": [],
   "source": [
    "# Commenting out this code, since I didn't ultimately choose the Decision Tree as my best model.\n",
    "\n",
    "# df.set_index('max_depth')[['train_accuracy', 'validate_accuracy','difference']].plot(figsize = (16,9))\n",
    "# plt.ylabel('Accuracy')\n",
    "# plt.xticks(np.arange(0,21,1))\n",
    "# plt.grid()"
   ]
  },
  {
   "cell_type": "code",
   "execution_count": 34,
   "id": "753f919f",
   "metadata": {},
   "outputs": [
    {
     "data": {
      "text/html": [
       "<div>\n",
       "<style scoped>\n",
       "    .dataframe tbody tr th:only-of-type {\n",
       "        vertical-align: middle;\n",
       "    }\n",
       "\n",
       "    .dataframe tbody tr th {\n",
       "        vertical-align: top;\n",
       "    }\n",
       "\n",
       "    .dataframe thead th {\n",
       "        text-align: right;\n",
       "    }\n",
       "</style>\n",
       "<table border=\"1\" class=\"dataframe\">\n",
       "  <thead>\n",
       "    <tr style=\"text-align: right;\">\n",
       "      <th></th>\n",
       "      <th>max_depth</th>\n",
       "      <th>train_accuracy</th>\n",
       "      <th>validate_accuracy</th>\n",
       "      <th>difference</th>\n",
       "    </tr>\n",
       "  </thead>\n",
       "  <tbody>\n",
       "    <tr>\n",
       "      <th>0</th>\n",
       "      <td>1</td>\n",
       "      <td>0.734720</td>\n",
       "      <td>0.734477</td>\n",
       "      <td>0.000243</td>\n",
       "    </tr>\n",
       "    <tr>\n",
       "      <th>1</th>\n",
       "      <td>2</td>\n",
       "      <td>0.734720</td>\n",
       "      <td>0.734477</td>\n",
       "      <td>0.000243</td>\n",
       "    </tr>\n",
       "    <tr>\n",
       "      <th>3</th>\n",
       "      <td>4</td>\n",
       "      <td>0.737510</td>\n",
       "      <td>0.730928</td>\n",
       "      <td>0.006581</td>\n",
       "    </tr>\n",
       "    <tr>\n",
       "      <th>2</th>\n",
       "      <td>3</td>\n",
       "      <td>0.736495</td>\n",
       "      <td>0.730337</td>\n",
       "      <td>0.006158</td>\n",
       "    </tr>\n",
       "    <tr>\n",
       "      <th>4</th>\n",
       "      <td>5</td>\n",
       "      <td>0.739031</td>\n",
       "      <td>0.726198</td>\n",
       "      <td>0.012834</td>\n",
       "    </tr>\n",
       "    <tr>\n",
       "      <th>5</th>\n",
       "      <td>6</td>\n",
       "      <td>0.741821</td>\n",
       "      <td>0.725606</td>\n",
       "      <td>0.016215</td>\n",
       "    </tr>\n",
       "    <tr>\n",
       "      <th>6</th>\n",
       "      <td>7</td>\n",
       "      <td>0.744357</td>\n",
       "      <td>0.725015</td>\n",
       "      <td>0.019342</td>\n",
       "    </tr>\n",
       "    <tr>\n",
       "      <th>7</th>\n",
       "      <td>8</td>\n",
       "      <td>0.747400</td>\n",
       "      <td>0.722058</td>\n",
       "      <td>0.025343</td>\n",
       "    </tr>\n",
       "    <tr>\n",
       "      <th>9</th>\n",
       "      <td>10</td>\n",
       "      <td>0.761856</td>\n",
       "      <td>0.712005</td>\n",
       "      <td>0.049852</td>\n",
       "    </tr>\n",
       "    <tr>\n",
       "      <th>8</th>\n",
       "      <td>9</td>\n",
       "      <td>0.754502</td>\n",
       "      <td>0.704908</td>\n",
       "      <td>0.049593</td>\n",
       "    </tr>\n",
       "    <tr>\n",
       "      <th>10</th>\n",
       "      <td>11</td>\n",
       "      <td>0.771747</td>\n",
       "      <td>0.700177</td>\n",
       "      <td>0.071570</td>\n",
       "    </tr>\n",
       "    <tr>\n",
       "      <th>11</th>\n",
       "      <td>12</td>\n",
       "      <td>0.782146</td>\n",
       "      <td>0.697812</td>\n",
       "      <td>0.084334</td>\n",
       "    </tr>\n",
       "    <tr>\n",
       "      <th>12</th>\n",
       "      <td>13</td>\n",
       "      <td>0.791276</td>\n",
       "      <td>0.693672</td>\n",
       "      <td>0.097603</td>\n",
       "    </tr>\n",
       "  </tbody>\n",
       "</table>\n",
       "</div>"
      ],
      "text/plain": [
       "    max_depth  train_accuracy  validate_accuracy  difference\n",
       "0           1        0.734720           0.734477    0.000243\n",
       "1           2        0.734720           0.734477    0.000243\n",
       "3           4        0.737510           0.730928    0.006581\n",
       "2           3        0.736495           0.730337    0.006158\n",
       "4           5        0.739031           0.726198    0.012834\n",
       "5           6        0.741821           0.725606    0.016215\n",
       "6           7        0.744357           0.725015    0.019342\n",
       "7           8        0.747400           0.722058    0.025343\n",
       "9          10        0.761856           0.712005    0.049852\n",
       "8           9        0.754502           0.704908    0.049593\n",
       "10         11        0.771747           0.700177    0.071570\n",
       "11         12        0.782146           0.697812    0.084334\n",
       "12         13        0.791276           0.693672    0.097603"
      ]
     },
     "execution_count": 34,
     "metadata": {},
     "output_type": "execute_result"
    }
   ],
   "source": [
    "# Here, we're comparing differences between the train and validate data sets\n",
    "# We throw out any differences above a certain amount (.10) and order by difference as a tie-breaker\n",
    "df[df.difference <= 0.10].sort_values(by=['validate_accuracy', 'difference'], ascending = [False,True])\n",
    "\n",
    "# The best max_depth, following these criteria, is 1\n",
    "# Unfortunately, this doesn't beat baseline."
   ]
  },
  {
   "cell_type": "markdown",
   "id": "94933058",
   "metadata": {},
   "source": [
    "## Given the baseline accuracy, none of the Decision Tree models is very satisfactory"
   ]
  },
  {
   "cell_type": "markdown",
   "id": "3a08ea77",
   "metadata": {},
   "source": [
    "# Random Forest"
   ]
  },
  {
   "cell_type": "code",
   "execution_count": 35,
   "id": "b9fcebee",
   "metadata": {},
   "outputs": [
    {
     "data": {
      "text/html": [
       "<div>\n",
       "<style scoped>\n",
       "    .dataframe tbody tr th:only-of-type {\n",
       "        vertical-align: middle;\n",
       "    }\n",
       "\n",
       "    .dataframe tbody tr th {\n",
       "        vertical-align: top;\n",
       "    }\n",
       "\n",
       "    .dataframe thead th {\n",
       "        text-align: right;\n",
       "    }\n",
       "</style>\n",
       "<table border=\"1\" class=\"dataframe\">\n",
       "  <thead>\n",
       "    <tr style=\"text-align: right;\">\n",
       "      <th></th>\n",
       "      <th>max_depth</th>\n",
       "      <th>min_leaves</th>\n",
       "      <th>train_accuracy</th>\n",
       "      <th>validate_accuracy</th>\n",
       "      <th>difference</th>\n",
       "    </tr>\n",
       "  </thead>\n",
       "  <tbody>\n",
       "    <tr>\n",
       "      <th>0</th>\n",
       "      <td>20</td>\n",
       "      <td>1</td>\n",
       "      <td>0.997717</td>\n",
       "      <td>0.710822</td>\n",
       "      <td>0.286895</td>\n",
       "    </tr>\n",
       "    <tr>\n",
       "      <th>1</th>\n",
       "      <td>20</td>\n",
       "      <td>2</td>\n",
       "      <td>0.875983</td>\n",
       "      <td>0.726789</td>\n",
       "      <td>0.149194</td>\n",
       "    </tr>\n",
       "    <tr>\n",
       "      <th>2</th>\n",
       "      <td>20</td>\n",
       "      <td>3</td>\n",
       "      <td>0.779356</td>\n",
       "      <td>0.733294</td>\n",
       "      <td>0.046062</td>\n",
       "    </tr>\n",
       "    <tr>\n",
       "      <th>3</th>\n",
       "      <td>20</td>\n",
       "      <td>4</td>\n",
       "      <td>0.750190</td>\n",
       "      <td>0.730337</td>\n",
       "      <td>0.019853</td>\n",
       "    </tr>\n",
       "    <tr>\n",
       "      <th>4</th>\n",
       "      <td>20</td>\n",
       "      <td>5</td>\n",
       "      <td>0.742328</td>\n",
       "      <td>0.732111</td>\n",
       "      <td>0.010217</td>\n",
       "    </tr>\n",
       "    <tr>\n",
       "      <th>...</th>\n",
       "      <td>...</td>\n",
       "      <td>...</td>\n",
       "      <td>...</td>\n",
       "      <td>...</td>\n",
       "      <td>...</td>\n",
       "    </tr>\n",
       "    <tr>\n",
       "      <th>395</th>\n",
       "      <td>1</td>\n",
       "      <td>16</td>\n",
       "      <td>0.734720</td>\n",
       "      <td>0.734477</td>\n",
       "      <td>0.000243</td>\n",
       "    </tr>\n",
       "    <tr>\n",
       "      <th>396</th>\n",
       "      <td>1</td>\n",
       "      <td>17</td>\n",
       "      <td>0.734720</td>\n",
       "      <td>0.734477</td>\n",
       "      <td>0.000243</td>\n",
       "    </tr>\n",
       "    <tr>\n",
       "      <th>397</th>\n",
       "      <td>1</td>\n",
       "      <td>18</td>\n",
       "      <td>0.734720</td>\n",
       "      <td>0.734477</td>\n",
       "      <td>0.000243</td>\n",
       "    </tr>\n",
       "    <tr>\n",
       "      <th>398</th>\n",
       "      <td>1</td>\n",
       "      <td>19</td>\n",
       "      <td>0.734720</td>\n",
       "      <td>0.734477</td>\n",
       "      <td>0.000243</td>\n",
       "    </tr>\n",
       "    <tr>\n",
       "      <th>399</th>\n",
       "      <td>1</td>\n",
       "      <td>20</td>\n",
       "      <td>0.734720</td>\n",
       "      <td>0.734477</td>\n",
       "      <td>0.000243</td>\n",
       "    </tr>\n",
       "  </tbody>\n",
       "</table>\n",
       "<p>400 rows × 5 columns</p>\n",
       "</div>"
      ],
      "text/plain": [
       "     max_depth  min_leaves  train_accuracy  validate_accuracy  difference\n",
       "0           20           1        0.997717           0.710822    0.286895\n",
       "1           20           2        0.875983           0.726789    0.149194\n",
       "2           20           3        0.779356           0.733294    0.046062\n",
       "3           20           4        0.750190           0.730337    0.019853\n",
       "4           20           5        0.742328           0.732111    0.010217\n",
       "..         ...         ...             ...                ...         ...\n",
       "395          1          16        0.734720           0.734477    0.000243\n",
       "396          1          17        0.734720           0.734477    0.000243\n",
       "397          1          18        0.734720           0.734477    0.000243\n",
       "398          1          19        0.734720           0.734477    0.000243\n",
       "399          1          20        0.734720           0.734477    0.000243\n",
       "\n",
       "[400 rows x 5 columns]"
      ]
     },
     "execution_count": 35,
     "metadata": {},
     "output_type": "execute_result"
    }
   ],
   "source": [
    "# Creating lists that i can put into a DF for easy comparison below\n",
    "\n",
    "# Also, this for loop is creating a list of every possible min_samples_leaf for every max_depth\n",
    "        # in other words, 20 max_depths * 20 min_leaves\n",
    "\n",
    "\n",
    "metrics = []\n",
    "\n",
    "for i in range(20,0, -1):\n",
    "    for n in range(1, 21):\n",
    "        # Make the model\n",
    "        forest = RandomForestClassifier(max_depth=i, min_samples_leaf=n)\n",
    "        # Fit the model (on train and only train)\n",
    "        forest.fit(telco_X_train_encoded, telco_y_train)\n",
    "\n",
    "        # Use the model\n",
    "        # We'll evaluate the model's performance on train, first\n",
    "        in_sample_accuracy = forest.score(telco_X_train_encoded, telco_y_train)\n",
    "        # And then on validate:\n",
    "        out_of_sample_accuracy = forest.score(telco_X_validate_encoded, telco_y_validate)\n",
    "\n",
    "        output = {\n",
    "            \"max_depth\": i,\n",
    "            \"min_leaves\": n,\n",
    "            \"train_accuracy\": in_sample_accuracy,\n",
    "            \"validate_accuracy\": out_of_sample_accuracy\n",
    "        }\n",
    "\n",
    "        metrics.append(output)\n",
    "\n",
    "df = pd.DataFrame(metrics)\n",
    "df[\"difference\"] = df.train_accuracy - df.validate_accuracy\n",
    "df\n",
    "\n",
    "# The result, much like with the Decision Tree, is a dataframe that makes comparison of the accuracies easier"
   ]
  },
  {
   "cell_type": "code",
   "execution_count": 36,
   "id": "0d538cb1",
   "metadata": {},
   "outputs": [
    {
     "data": {
      "image/png": "[encoded data removed]",
      "text/plain": [
       "<Figure size 1152x648 with 1 Axes>"
      ]
     },
     "metadata": {
      "needs_background": "light"
     },
     "output_type": "display_data"
    }
   ],
   "source": [
    "# Graph of the above:\n",
    "\n",
    "df.set_index('max_depth')[['train_accuracy', 'validate_accuracy','difference']].plot(figsize = (16,9))\n",
    "plt.ylabel('Accuracy')\n",
    "plt.xticks(np.arange(0,21,1))\n",
    "plt.grid()"
   ]
  },
  {
   "cell_type": "code",
   "execution_count": 37,
   "id": "23b6c77a",
   "metadata": {},
   "outputs": [
    {
     "data": {
      "text/html": [
       "<div>\n",
       "<style scoped>\n",
       "    .dataframe tbody tr th:only-of-type {\n",
       "        vertical-align: middle;\n",
       "    }\n",
       "\n",
       "    .dataframe tbody tr th {\n",
       "        vertical-align: top;\n",
       "    }\n",
       "\n",
       "    .dataframe thead th {\n",
       "        text-align: right;\n",
       "    }\n",
       "</style>\n",
       "<table border=\"1\" class=\"dataframe\">\n",
       "  <thead>\n",
       "    <tr style=\"text-align: right;\">\n",
       "      <th></th>\n",
       "      <th>max_depth</th>\n",
       "      <th>min_leaves</th>\n",
       "      <th>train_accuracy</th>\n",
       "      <th>validate_accuracy</th>\n",
       "      <th>difference</th>\n",
       "    </tr>\n",
       "  </thead>\n",
       "  <tbody>\n",
       "    <tr>\n",
       "      <th>9</th>\n",
       "      <td>20</td>\n",
       "      <td>10</td>\n",
       "      <td>0.734720</td>\n",
       "      <td>0.734477</td>\n",
       "      <td>0.000243</td>\n",
       "    </tr>\n",
       "    <tr>\n",
       "      <th>10</th>\n",
       "      <td>20</td>\n",
       "      <td>11</td>\n",
       "      <td>0.734720</td>\n",
       "      <td>0.734477</td>\n",
       "      <td>0.000243</td>\n",
       "    </tr>\n",
       "    <tr>\n",
       "      <th>11</th>\n",
       "      <td>20</td>\n",
       "      <td>12</td>\n",
       "      <td>0.734720</td>\n",
       "      <td>0.734477</td>\n",
       "      <td>0.000243</td>\n",
       "    </tr>\n",
       "    <tr>\n",
       "      <th>12</th>\n",
       "      <td>20</td>\n",
       "      <td>13</td>\n",
       "      <td>0.734720</td>\n",
       "      <td>0.734477</td>\n",
       "      <td>0.000243</td>\n",
       "    </tr>\n",
       "    <tr>\n",
       "      <th>13</th>\n",
       "      <td>20</td>\n",
       "      <td>14</td>\n",
       "      <td>0.734720</td>\n",
       "      <td>0.734477</td>\n",
       "      <td>0.000243</td>\n",
       "    </tr>\n",
       "    <tr>\n",
       "      <th>...</th>\n",
       "      <td>...</td>\n",
       "      <td>...</td>\n",
       "      <td>...</td>\n",
       "      <td>...</td>\n",
       "      <td>...</td>\n",
       "    </tr>\n",
       "    <tr>\n",
       "      <th>24</th>\n",
       "      <td>19</td>\n",
       "      <td>5</td>\n",
       "      <td>0.740553</td>\n",
       "      <td>0.731520</td>\n",
       "      <td>0.009033</td>\n",
       "    </tr>\n",
       "    <tr>\n",
       "      <th>22</th>\n",
       "      <td>19</td>\n",
       "      <td>3</td>\n",
       "      <td>0.780117</td>\n",
       "      <td>0.731520</td>\n",
       "      <td>0.048597</td>\n",
       "    </tr>\n",
       "    <tr>\n",
       "      <th>141</th>\n",
       "      <td>13</td>\n",
       "      <td>2</td>\n",
       "      <td>0.780370</td>\n",
       "      <td>0.731520</td>\n",
       "      <td>0.048850</td>\n",
       "    </tr>\n",
       "    <tr>\n",
       "      <th>3</th>\n",
       "      <td>20</td>\n",
       "      <td>4</td>\n",
       "      <td>0.750190</td>\n",
       "      <td>0.730337</td>\n",
       "      <td>0.019853</td>\n",
       "    </tr>\n",
       "    <tr>\n",
       "      <th>63</th>\n",
       "      <td>17</td>\n",
       "      <td>4</td>\n",
       "      <td>0.750190</td>\n",
       "      <td>0.730337</td>\n",
       "      <td>0.019853</td>\n",
       "    </tr>\n",
       "  </tbody>\n",
       "</table>\n",
       "<p>384 rows × 5 columns</p>\n",
       "</div>"
      ],
      "text/plain": [
       "     max_depth  min_leaves  train_accuracy  validate_accuracy  difference\n",
       "9           20          10        0.734720           0.734477    0.000243\n",
       "10          20          11        0.734720           0.734477    0.000243\n",
       "11          20          12        0.734720           0.734477    0.000243\n",
       "12          20          13        0.734720           0.734477    0.000243\n",
       "13          20          14        0.734720           0.734477    0.000243\n",
       "..         ...         ...             ...                ...         ...\n",
       "24          19           5        0.740553           0.731520    0.009033\n",
       "22          19           3        0.780117           0.731520    0.048597\n",
       "141         13           2        0.780370           0.731520    0.048850\n",
       "3           20           4        0.750190           0.730337    0.019853\n",
       "63          17           4        0.750190           0.730337    0.019853\n",
       "\n",
       "[384 rows x 5 columns]"
      ]
     },
     "execution_count": 37,
     "metadata": {},
     "output_type": "execute_result"
    }
   ],
   "source": [
    "# Which one did best here? This is sorting the above results by highest 'validate accuracy'\n",
    "\n",
    "df[df.difference <= 0.05].sort_values(by=['validate_accuracy', 'difference'], ascending = [False,True])"
   ]
  },
  {
   "cell_type": "markdown",
   "id": "fc70c562",
   "metadata": {},
   "source": [
    "## The top result of the above DF is my chosen model, as it performs better than any other model I ran.  It beats baseline on train and validate (barley). \n",
    "\n",
    "    - 8 max depth and 1 min leaves are the parameters, and don't appear to present a problem of overfit (in spite of the seemingly high max depth)"
   ]
  },
  {
   "cell_type": "code",
   "execution_count": 38,
   "id": "2520bcaf",
   "metadata": {},
   "outputs": [],
   "source": [
    "# Creating a RF model to run with the parameters chosen above.\n",
    "\n",
    "rf = RandomForestClassifier(max_depth = 8, min_samples_leaf=1)\n",
    "rf = rf.fit(telco_X_train_encoded, telco_y_train)\n"
   ]
  },
  {
   "cell_type": "code",
   "execution_count": 39,
   "id": "718dcff9",
   "metadata": {},
   "outputs": [
    {
     "name": "stdout",
     "output_type": "stream",
     "text": [
      "[0.02359272 0.1260869  0.18258775 0.18589267 0.03380717 0.02943778\n",
      " 0.02450091 0.00728871 0.0064528  0.0179751  0.00201608 0.01745841\n",
      " 0.001511   0.01825125 0.00391045 0.01756337 0.00190298 0.01540607\n",
      " 0.00164738 0.01594402 0.00198827 0.01588196 0.02932586 0.02474274\n",
      " 0.0158601  0.01077075 0.00246688 0.02426619 0.01760211 0.02042796\n",
      " 0.0135009  0.00998111 0.01100901 0.00703888 0.0084313  0.00845458\n",
      " 0.01271258 0.01049276 0.00543746 0.01211712 0.00425797 0.        ]\n"
     ]
    }
   ],
   "source": [
    "# the weight assigned to each feature in implementation\n",
    "\n",
    "print(rf.feature_importances_)"
   ]
  },
  {
   "cell_type": "code",
   "execution_count": 40,
   "id": "7a742b55",
   "metadata": {},
   "outputs": [
    {
     "data": {
      "text/plain": [
       "array([0, 0, 0, ..., 0, 0, 0], dtype=uint8)"
      ]
     },
     "execution_count": 40,
     "metadata": {},
     "output_type": "execute_result"
    }
   ],
   "source": [
    "# This would be your csv to include, if the model is ultimately chosen\n",
    "\n",
    "y_pred = rf.predict(telco_X_train_encoded)\n",
    "y_pred"
   ]
  },
  {
   "cell_type": "code",
   "execution_count": 41,
   "id": "e606e51e",
   "metadata": {},
   "outputs": [
    {
     "data": {
      "text/plain": [
       "array([[0.73514854, 0.26485146],\n",
       "       [0.79915886, 0.20084114],\n",
       "       [0.75230241, 0.24769759],\n",
       "       ...,\n",
       "       [0.81321373, 0.18678627],\n",
       "       [0.68671718, 0.31328282],\n",
       "       [0.74907869, 0.25092131]])"
      ]
     },
     "execution_count": 41,
     "metadata": {},
     "output_type": "execute_result"
    }
   ],
   "source": [
    "# and the probability assigned to each customer\n",
    "\n",
    "y_pred_proba = rf.predict_proba(telco_X_train_encoded)\n",
    "y_pred_proba"
   ]
  },
  {
   "cell_type": "code",
   "execution_count": 42,
   "id": "e17e988e",
   "metadata": {},
   "outputs": [
    {
     "name": "stdout",
     "output_type": "stream",
     "text": [
      "Accuracy of random forest classifier on training set: 0.74\n"
     ]
    }
   ],
   "source": [
    "# evaluate rf results on train:\n",
    "\n",
    "print('Accuracy of random forest classifier on training set: {:.2f}'\n",
    "     .format(rf.score(telco_X_train_encoded, telco_y_train)))"
   ]
  },
  {
   "cell_type": "code",
   "execution_count": 43,
   "id": "bd688499",
   "metadata": {},
   "outputs": [
    {
     "name": "stdout",
     "output_type": "stream",
     "text": [
      "Actual on the left, predicted on the top\n"
     ]
    },
    {
     "data": {
      "text/html": [
       "<div>\n",
       "<style scoped>\n",
       "    .dataframe tbody tr th:only-of-type {\n",
       "        vertical-align: middle;\n",
       "    }\n",
       "\n",
       "    .dataframe tbody tr th {\n",
       "        vertical-align: top;\n",
       "    }\n",
       "\n",
       "    .dataframe thead th {\n",
       "        text-align: right;\n",
       "    }\n",
       "</style>\n",
       "<table border=\"1\" class=\"dataframe\">\n",
       "  <thead>\n",
       "    <tr style=\"text-align: right;\">\n",
       "      <th></th>\n",
       "      <th>0</th>\n",
       "      <th>1</th>\n",
       "    </tr>\n",
       "  </thead>\n",
       "  <tbody>\n",
       "    <tr>\n",
       "      <th>0</th>\n",
       "      <td>2897</td>\n",
       "      <td>0</td>\n",
       "    </tr>\n",
       "    <tr>\n",
       "      <th>1</th>\n",
       "      <td>1043</td>\n",
       "      <td>3</td>\n",
       "    </tr>\n",
       "  </tbody>\n",
       "</table>\n",
       "</div>"
      ],
      "text/plain": [
       "      0  1\n",
       "0  2897  0\n",
       "1  1043  3"
      ]
     },
     "execution_count": 43,
     "metadata": {},
     "output_type": "execute_result"
    }
   ],
   "source": [
    "# confusion matrix\n",
    "\n",
    "labels = sorted(telco_y_train.unique())\n",
    "print('Actual on the left, predicted on the top')\n",
    "pd.DataFrame(confusion_matrix(telco_y_train, y_pred), index=labels, columns=labels)"
   ]
  },
  {
   "cell_type": "code",
   "execution_count": 44,
   "id": "daff7749",
   "metadata": {},
   "outputs": [
    {
     "name": "stdout",
     "output_type": "stream",
     "text": [
      "              precision    recall  f1-score   support\n",
      "\n",
      "           0       0.74      1.00      0.85      2897\n",
      "           1       1.00      0.00      0.01      1046\n",
      "\n",
      "    accuracy                           0.74      3943\n",
      "   macro avg       0.87      0.50      0.43      3943\n",
      "weighted avg       0.81      0.74      0.62      3943\n",
      "\n"
     ]
    }
   ],
   "source": [
    "# classification report for the RF model\n",
    "\n",
    "print(classification_report(telco_y_train, y_pred))"
   ]
  },
  {
   "cell_type": "markdown",
   "id": "59f376a4",
   "metadata": {},
   "source": [
    "# KNN Model"
   ]
  },
  {
   "cell_type": "code",
   "execution_count": 45,
   "id": "c96e1d4e",
   "metadata": {},
   "outputs": [],
   "source": [
    "# Per lecture and exercises, it's important to reduce the number of features when usin KNN bc of problems\n",
    "# with computation and dimensionality. We will choose the columns to use here.\n",
    "\n",
    "#(first, I tried with all features for fun)\n",
    "\n",
    "x_cols = ['tenure', 'monthly_charges', 'total_charges','dependents_Yes',\n",
    "            'paperless_billing_Yes',\n",
    "            'payment_type_Electronic check']\n",
    "\n",
    "# x_cols = ['senior_citizen', 'tenure', 'monthly_charges', 'total_charges', 'partner_Yes','dependents_Yes',\n",
    "#             'paperless_billing_Yes', 'contract_type_One year', 'contract_type_Two year', 'payment_type_Credit card (automatic)',\n",
    "#             'payment_type_Electronic check','payment_type_Mailed check']\n",
    "\n",
    "\n",
    "X_train, y_train = telco_X_train_encoded[x_cols], telco_y_train\n",
    "X_validate, y_validate = telco_X_validate_encoded[x_cols], telco_y_validate\n",
    "X_test, y_test = telco_X_test_encoded[x_cols], telco_y_test"
   ]
  },
  {
   "cell_type": "markdown",
   "id": "195652bb",
   "metadata": {},
   "source": [
    "### In the following cells, I applied scaling for the KNN model:"
   ]
  },
  {
   "cell_type": "code",
   "execution_count": 46,
   "id": "bc643b3f",
   "metadata": {},
   "outputs": [],
   "source": [
    "# Here, we have applied the standard scaler to the pared-back X_train set from the above cell,\n",
    "# and calling the variable X_train_scaled (etc):\n",
    "scaler = sklearn.preprocessing.StandardScaler()\n",
    "scaler.fit(X_train)\n",
    "X_train_scaled = scaler.transform(X_train)\n",
    "X_validate_scaled = scaler.transform(X_validate)\n",
    "X_test_scaled = scaler.transform(X_test)"
   ]
  },
  {
   "cell_type": "code",
   "execution_count": 47,
   "id": "7500c42f",
   "metadata": {},
   "outputs": [
    {
     "data": {
      "image/png": "[encoded data removed]",
      "text/plain": [
       "<Figure size 1152x648 with 1 Axes>"
      ]
     },
     "metadata": {
      "needs_background": "light"
     },
     "output_type": "display_data"
    }
   ],
   "source": [
    "# Was going to comment this cell out, which is code that produces a visualization of my KNN model. \n",
    "# I reduced my features again, and still not improving accuracy.\n",
    "# Ultimately, I'm not using the KNN model as my \"best\" model.\n",
    "\n",
    "\n",
    "metrics = []\n",
    "\n",
    "for i in range(1,21):\n",
    "    # Make the model\n",
    "    knn = KNeighborsClassifier(n_neighbors=i, weights='uniform', algorithm='auto')\n",
    "\n",
    "\n",
    "    # Fit the model (on train and only train)\n",
    "    knn.fit(X_train_scaled, telco_y_train)\n",
    "\n",
    "    # We'll evaluate the model's performance on train and validate\n",
    "    train_accuracy = knn.score(X_train_scaled, telco_y_train)\n",
    "    validate_accuracy = knn.score(X_validate, telco_y_validate)\n",
    "\n",
    "    output = {\n",
    "        \"i\": i,\n",
    "        \"train_accuracy\": train_accuracy,\n",
    "        \"validate_accuracy\": validate_accuracy\n",
    "    }\n",
    "    \n",
    "    metrics.append(output)\n",
    "    # Produce the classification report on the actual y values and this model's predicted y values\n",
    "results = pd.DataFrame(metrics)\n",
    "results[\"difference\"] = results.train_accuracy - results.validate_accuracy\n",
    "    \n",
    "# plot it\n",
    "results.set_index('i').plot(figsize = (16,9))\n",
    "plt.ylabel('accuracy')\n",
    "plt.xticks(np.arange(0,21,1))\n",
    "plt.grid()"
   ]
  },
  {
   "cell_type": "code",
   "execution_count": 48,
   "id": "a0d4bec5",
   "metadata": {},
   "outputs": [
    {
     "data": {
      "text/html": [
       "<div>\n",
       "<style scoped>\n",
       "    .dataframe tbody tr th:only-of-type {\n",
       "        vertical-align: middle;\n",
       "    }\n",
       "\n",
       "    .dataframe tbody tr th {\n",
       "        vertical-align: top;\n",
       "    }\n",
       "\n",
       "    .dataframe thead th {\n",
       "        text-align: right;\n",
       "    }\n",
       "</style>\n",
       "<table border=\"1\" class=\"dataframe\">\n",
       "  <thead>\n",
       "    <tr style=\"text-align: right;\">\n",
       "      <th></th>\n",
       "      <th>i</th>\n",
       "      <th>train_accuracy</th>\n",
       "      <th>validate_accuracy</th>\n",
       "      <th>difference</th>\n",
       "    </tr>\n",
       "  </thead>\n",
       "  <tbody>\n",
       "    <tr>\n",
       "      <th>17</th>\n",
       "      <td>18</td>\n",
       "      <td>0.735227</td>\n",
       "      <td>0.734477</td>\n",
       "      <td>0.000750</td>\n",
       "    </tr>\n",
       "    <tr>\n",
       "      <th>19</th>\n",
       "      <td>20</td>\n",
       "      <td>0.735734</td>\n",
       "      <td>0.734477</td>\n",
       "      <td>0.001258</td>\n",
       "    </tr>\n",
       "    <tr>\n",
       "      <th>15</th>\n",
       "      <td>16</td>\n",
       "      <td>0.735988</td>\n",
       "      <td>0.734477</td>\n",
       "      <td>0.001511</td>\n",
       "    </tr>\n",
       "    <tr>\n",
       "      <th>14</th>\n",
       "      <td>15</td>\n",
       "      <td>0.737002</td>\n",
       "      <td>0.734477</td>\n",
       "      <td>0.002526</td>\n",
       "    </tr>\n",
       "    <tr>\n",
       "      <th>18</th>\n",
       "      <td>19</td>\n",
       "      <td>0.737256</td>\n",
       "      <td>0.734477</td>\n",
       "      <td>0.002779</td>\n",
       "    </tr>\n",
       "    <tr>\n",
       "      <th>13</th>\n",
       "      <td>14</td>\n",
       "      <td>0.737763</td>\n",
       "      <td>0.734477</td>\n",
       "      <td>0.003286</td>\n",
       "    </tr>\n",
       "    <tr>\n",
       "      <th>16</th>\n",
       "      <td>17</td>\n",
       "      <td>0.737763</td>\n",
       "      <td>0.734477</td>\n",
       "      <td>0.003286</td>\n",
       "    </tr>\n",
       "    <tr>\n",
       "      <th>12</th>\n",
       "      <td>13</td>\n",
       "      <td>0.738270</td>\n",
       "      <td>0.734477</td>\n",
       "      <td>0.003794</td>\n",
       "    </tr>\n",
       "    <tr>\n",
       "      <th>11</th>\n",
       "      <td>12</td>\n",
       "      <td>0.739538</td>\n",
       "      <td>0.734477</td>\n",
       "      <td>0.005062</td>\n",
       "    </tr>\n",
       "    <tr>\n",
       "      <th>10</th>\n",
       "      <td>11</td>\n",
       "      <td>0.741821</td>\n",
       "      <td>0.734477</td>\n",
       "      <td>0.007344</td>\n",
       "    </tr>\n",
       "    <tr>\n",
       "      <th>9</th>\n",
       "      <td>10</td>\n",
       "      <td>0.742582</td>\n",
       "      <td>0.734477</td>\n",
       "      <td>0.008105</td>\n",
       "    </tr>\n",
       "    <tr>\n",
       "      <th>8</th>\n",
       "      <td>9</td>\n",
       "      <td>0.744864</td>\n",
       "      <td>0.734477</td>\n",
       "      <td>0.010388</td>\n",
       "    </tr>\n",
       "    <tr>\n",
       "      <th>7</th>\n",
       "      <td>8</td>\n",
       "      <td>0.745879</td>\n",
       "      <td>0.734477</td>\n",
       "      <td>0.011402</td>\n",
       "    </tr>\n",
       "    <tr>\n",
       "      <th>5</th>\n",
       "      <td>6</td>\n",
       "      <td>0.751712</td>\n",
       "      <td>0.734477</td>\n",
       "      <td>0.017235</td>\n",
       "    </tr>\n",
       "    <tr>\n",
       "      <th>6</th>\n",
       "      <td>7</td>\n",
       "      <td>0.752980</td>\n",
       "      <td>0.734477</td>\n",
       "      <td>0.018503</td>\n",
       "    </tr>\n",
       "    <tr>\n",
       "      <th>4</th>\n",
       "      <td>5</td>\n",
       "      <td>0.772255</td>\n",
       "      <td>0.734477</td>\n",
       "      <td>0.037778</td>\n",
       "    </tr>\n",
       "    <tr>\n",
       "      <th>3</th>\n",
       "      <td>4</td>\n",
       "      <td>0.772508</td>\n",
       "      <td>0.734477</td>\n",
       "      <td>0.038032</td>\n",
       "    </tr>\n",
       "    <tr>\n",
       "      <th>1</th>\n",
       "      <td>2</td>\n",
       "      <td>0.811818</td>\n",
       "      <td>0.734477</td>\n",
       "      <td>0.077342</td>\n",
       "    </tr>\n",
       "    <tr>\n",
       "      <th>2</th>\n",
       "      <td>3</td>\n",
       "      <td>0.812072</td>\n",
       "      <td>0.734477</td>\n",
       "      <td>0.077595</td>\n",
       "    </tr>\n",
       "  </tbody>\n",
       "</table>\n",
       "</div>"
      ],
      "text/plain": [
       "     i  train_accuracy  validate_accuracy  difference\n",
       "17  18        0.735227           0.734477    0.000750\n",
       "19  20        0.735734           0.734477    0.001258\n",
       "15  16        0.735988           0.734477    0.001511\n",
       "14  15        0.737002           0.734477    0.002526\n",
       "18  19        0.737256           0.734477    0.002779\n",
       "13  14        0.737763           0.734477    0.003286\n",
       "16  17        0.737763           0.734477    0.003286\n",
       "12  13        0.738270           0.734477    0.003794\n",
       "11  12        0.739538           0.734477    0.005062\n",
       "10  11        0.741821           0.734477    0.007344\n",
       "9   10        0.742582           0.734477    0.008105\n",
       "8    9        0.744864           0.734477    0.010388\n",
       "7    8        0.745879           0.734477    0.011402\n",
       "5    6        0.751712           0.734477    0.017235\n",
       "6    7        0.752980           0.734477    0.018503\n",
       "4    5        0.772255           0.734477    0.037778\n",
       "3    4        0.772508           0.734477    0.038032\n",
       "1    2        0.811818           0.734477    0.077342\n",
       "2    3        0.812072           0.734477    0.077595"
      ]
     },
     "execution_count": 48,
     "metadata": {},
     "output_type": "execute_result"
    }
   ],
   "source": [
    "# Commenting out since we are not using the KNN model, and this cell relys on the outputof the above\n",
    "# Again, ranking the results of the above:\n",
    "\n",
    "results[results.difference <= 0.1].sort_values(by=['validate_accuracy', 'difference'], ascending = [False,True])"
   ]
  },
  {
   "cell_type": "markdown",
   "id": "6ebe2d53",
   "metadata": {},
   "source": [
    "## This model is providing an improved accuracy for the train set, but not an improvement for validate."
   ]
  },
  {
   "cell_type": "markdown",
   "id": "2aff2b27",
   "metadata": {},
   "source": [
    "# Logistic Regression Model\n",
    "\n",
    "    - In the end, I am not including a logistic regression model as it failed to outperform any other model"
   ]
  },
  {
   "cell_type": "markdown",
   "id": "84d2fbd6",
   "metadata": {},
   "source": [
    "# RUN TOP MODEL ON TEST DATA SET"
   ]
  },
  {
   "cell_type": "code",
   "execution_count": 49,
   "id": "38c789cd",
   "metadata": {},
   "outputs": [
    {
     "name": "stdout",
     "output_type": "stream",
     "text": [
      "[0.01615067 0.14271668 0.15552482 0.18905208 0.02751474 0.02643984\n",
      " 0.02120858 0.00505674 0.00585077 0.02180961 0.00308446 0.01876711\n",
      " 0.00283585 0.02058384 0.0025278  0.02084622 0.0028067  0.01907228\n",
      " 0.00254267 0.0170344  0.00347649 0.01775291 0.03019062 0.0130809\n",
      " 0.01299583 0.01282531 0.00237301 0.01620142 0.03286151 0.01807259\n",
      " 0.01647031 0.01405679 0.00952106 0.00846725 0.01145111 0.01138385\n",
      " 0.0095358  0.01042963 0.01098403 0.00794092 0.00850277 0.        ]\n"
     ]
    }
   ],
   "source": [
    "# Create model for test data:\n",
    "\n",
    "rf = RandomForestClassifier(max_depth = 16, min_samples_leaf=6)\n",
    "rf = rf.fit(telco_X_test_encoded, telco_y_test)\n",
    "\n",
    "# the weight assigned to each feature in implementation\n",
    "\n",
    "print(rf.feature_importances_)"
   ]
  },
  {
   "cell_type": "code",
   "execution_count": 50,
   "id": "e799bd18",
   "metadata": {},
   "outputs": [
    {
     "data": {
      "text/plain": [
       "(1409,)"
      ]
     },
     "execution_count": 50,
     "metadata": {},
     "output_type": "execute_result"
    }
   ],
   "source": [
    "# This would be your csv to include, because this is the model you are choosing\n",
    "\n",
    "y_pred = rf.predict(telco_X_test_encoded)\n",
    "y_pred.shape"
   ]
  },
  {
   "cell_type": "code",
   "execution_count": 51,
   "id": "a4685be0",
   "metadata": {},
   "outputs": [
    {
     "data": {
      "text/plain": [
       "(1409, 2)"
      ]
     },
     "execution_count": 51,
     "metadata": {},
     "output_type": "execute_result"
    }
   ],
   "source": [
    "# And the probability assigned to each customer\n",
    "\n",
    "y_pred_proba = rf.predict_proba(telco_X_test_encoded)\n",
    "y_pred_proba.shape"
   ]
  },
  {
   "cell_type": "code",
   "execution_count": 52,
   "id": "b6193db0",
   "metadata": {},
   "outputs": [
    {
     "data": {
      "text/plain": [
       "(1409, 61)"
      ]
     },
     "execution_count": 52,
     "metadata": {},
     "output_type": "execute_result"
    }
   ],
   "source": [
    "telco_X_test.shape"
   ]
  },
  {
   "cell_type": "code",
   "execution_count": 53,
   "id": "646970ad",
   "metadata": {},
   "outputs": [
    {
     "name": "stdout",
     "output_type": "stream",
     "text": [
      "Accuracy of random forest classifier on training set: 0.75\n"
     ]
    }
   ],
   "source": [
    "# Evaluate rf results on train:\n",
    "\n",
    "print('Accuracy of random forest classifier on training set: {:.2f}'\n",
    "     .format(rf.score(telco_X_test_encoded, telco_y_test)))"
   ]
  },
  {
   "cell_type": "code",
   "execution_count": 54,
   "id": "ca946af8",
   "metadata": {},
   "outputs": [
    {
     "name": "stdout",
     "output_type": "stream",
     "text": [
      "Actual on the left, predicted on the top\n"
     ]
    },
    {
     "data": {
      "text/html": [
       "<div>\n",
       "<style scoped>\n",
       "    .dataframe tbody tr th:only-of-type {\n",
       "        vertical-align: middle;\n",
       "    }\n",
       "\n",
       "    .dataframe tbody tr th {\n",
       "        vertical-align: top;\n",
       "    }\n",
       "\n",
       "    .dataframe thead th {\n",
       "        text-align: right;\n",
       "    }\n",
       "</style>\n",
       "<table border=\"1\" class=\"dataframe\">\n",
       "  <thead>\n",
       "    <tr style=\"text-align: right;\">\n",
       "      <th></th>\n",
       "      <th>0</th>\n",
       "      <th>1</th>\n",
       "    </tr>\n",
       "  </thead>\n",
       "  <tbody>\n",
       "    <tr>\n",
       "      <th>0</th>\n",
       "      <td>1035</td>\n",
       "      <td>0</td>\n",
       "    </tr>\n",
       "    <tr>\n",
       "      <th>1</th>\n",
       "      <td>355</td>\n",
       "      <td>19</td>\n",
       "    </tr>\n",
       "  </tbody>\n",
       "</table>\n",
       "</div>"
      ],
      "text/plain": [
       "      0   1\n",
       "0  1035   0\n",
       "1   355  19"
      ]
     },
     "execution_count": 54,
     "metadata": {},
     "output_type": "execute_result"
    }
   ],
   "source": [
    "# confusion matrix\n",
    "\n",
    "labels = sorted(telco_y_test.unique())\n",
    "print('Actual on the left, predicted on the top')\n",
    "pd.DataFrame(confusion_matrix(telco_y_test, y_pred), index=labels, columns=labels)"
   ]
  },
  {
   "cell_type": "code",
   "execution_count": 55,
   "id": "d6b59eca",
   "metadata": {},
   "outputs": [
    {
     "name": "stdout",
     "output_type": "stream",
     "text": [
      "              precision    recall  f1-score   support\n",
      "\n",
      "           0       0.74      1.00      0.85      1035\n",
      "           1       1.00      0.05      0.10       374\n",
      "\n",
      "    accuracy                           0.75      1409\n",
      "   macro avg       0.87      0.53      0.48      1409\n",
      "weighted avg       0.81      0.75      0.65      1409\n",
      "\n"
     ]
    }
   ],
   "source": [
    "# classification report for the RF model\n",
    "\n",
    "print(classification_report(telco_y_test, y_pred))"
   ]
  },
  {
   "cell_type": "code",
   "execution_count": 61,
   "id": "11e2f8fc",
   "metadata": {},
   "outputs": [],
   "source": [
    "# This cell is creating a csv in my current directory, including the prediction and predict_probability\n",
    "\n",
    "y_pred_df = pd.DataFrame(y_pred, columns = ['prediction'])\n",
    "y_pred_proba_df = pd.DataFrame(y_pred_proba)\n",
    "churn_pred_df1 = pd.concat([y_pred_proba_df])\n",
    "churn_pred_df2 = pd.concat([churn_pred_df1, y_pred_df])\n",
    "\n",
    "# churn_pred_test = telco_X_test.merge(y_pred_df, how = 'inner',left_on=None )\n",
    "churn_pred_df2.to_csv('churn_pred.csv')"
   ]
  },
  {
   "cell_type": "code",
   "execution_count": 62,
   "id": "89b24db5",
   "metadata": {},
   "outputs": [
    {
     "data": {
      "text/html": [
       "<div>\n",
       "<style scoped>\n",
       "    .dataframe tbody tr th:only-of-type {\n",
       "        vertical-align: middle;\n",
       "    }\n",
       "\n",
       "    .dataframe tbody tr th {\n",
       "        vertical-align: top;\n",
       "    }\n",
       "\n",
       "    .dataframe thead th {\n",
       "        text-align: right;\n",
       "    }\n",
       "</style>\n",
       "<table border=\"1\" class=\"dataframe\">\n",
       "  <thead>\n",
       "    <tr style=\"text-align: right;\">\n",
       "      <th></th>\n",
       "      <th>0</th>\n",
       "      <th>1</th>\n",
       "      <th>prediction</th>\n",
       "    </tr>\n",
       "  </thead>\n",
       "  <tbody>\n",
       "    <tr>\n",
       "      <th>1237</th>\n",
       "      <td>NaN</td>\n",
       "      <td>NaN</td>\n",
       "      <td>0.0</td>\n",
       "    </tr>\n",
       "    <tr>\n",
       "      <th>1265</th>\n",
       "      <td>0.828296</td>\n",
       "      <td>0.171704</td>\n",
       "      <td>NaN</td>\n",
       "    </tr>\n",
       "    <tr>\n",
       "      <th>1174</th>\n",
       "      <td>NaN</td>\n",
       "      <td>NaN</td>\n",
       "      <td>0.0</td>\n",
       "    </tr>\n",
       "    <tr>\n",
       "      <th>934</th>\n",
       "      <td>0.775671</td>\n",
       "      <td>0.224329</td>\n",
       "      <td>NaN</td>\n",
       "    </tr>\n",
       "    <tr>\n",
       "      <th>566</th>\n",
       "      <td>NaN</td>\n",
       "      <td>NaN</td>\n",
       "      <td>0.0</td>\n",
       "    </tr>\n",
       "    <tr>\n",
       "      <th>1364</th>\n",
       "      <td>0.633586</td>\n",
       "      <td>0.366414</td>\n",
       "      <td>NaN</td>\n",
       "    </tr>\n",
       "    <tr>\n",
       "      <th>411</th>\n",
       "      <td>NaN</td>\n",
       "      <td>NaN</td>\n",
       "      <td>0.0</td>\n",
       "    </tr>\n",
       "    <tr>\n",
       "      <th>1369</th>\n",
       "      <td>NaN</td>\n",
       "      <td>NaN</td>\n",
       "      <td>0.0</td>\n",
       "    </tr>\n",
       "    <tr>\n",
       "      <th>180</th>\n",
       "      <td>0.749203</td>\n",
       "      <td>0.250797</td>\n",
       "      <td>NaN</td>\n",
       "    </tr>\n",
       "    <tr>\n",
       "      <th>69</th>\n",
       "      <td>0.803047</td>\n",
       "      <td>0.196953</td>\n",
       "      <td>NaN</td>\n",
       "    </tr>\n",
       "    <tr>\n",
       "      <th>769</th>\n",
       "      <td>NaN</td>\n",
       "      <td>NaN</td>\n",
       "      <td>0.0</td>\n",
       "    </tr>\n",
       "    <tr>\n",
       "      <th>1019</th>\n",
       "      <td>NaN</td>\n",
       "      <td>NaN</td>\n",
       "      <td>0.0</td>\n",
       "    </tr>\n",
       "    <tr>\n",
       "      <th>810</th>\n",
       "      <td>NaN</td>\n",
       "      <td>NaN</td>\n",
       "      <td>0.0</td>\n",
       "    </tr>\n",
       "    <tr>\n",
       "      <th>820</th>\n",
       "      <td>0.794169</td>\n",
       "      <td>0.205831</td>\n",
       "      <td>NaN</td>\n",
       "    </tr>\n",
       "    <tr>\n",
       "      <th>847</th>\n",
       "      <td>0.584199</td>\n",
       "      <td>0.415801</td>\n",
       "      <td>NaN</td>\n",
       "    </tr>\n",
       "    <tr>\n",
       "      <th>927</th>\n",
       "      <td>0.799000</td>\n",
       "      <td>0.201000</td>\n",
       "      <td>NaN</td>\n",
       "    </tr>\n",
       "    <tr>\n",
       "      <th>667</th>\n",
       "      <td>0.676374</td>\n",
       "      <td>0.323626</td>\n",
       "      <td>NaN</td>\n",
       "    </tr>\n",
       "    <tr>\n",
       "      <th>489</th>\n",
       "      <td>0.516497</td>\n",
       "      <td>0.483503</td>\n",
       "      <td>NaN</td>\n",
       "    </tr>\n",
       "    <tr>\n",
       "      <th>1031</th>\n",
       "      <td>NaN</td>\n",
       "      <td>NaN</td>\n",
       "      <td>0.0</td>\n",
       "    </tr>\n",
       "    <tr>\n",
       "      <th>456</th>\n",
       "      <td>NaN</td>\n",
       "      <td>NaN</td>\n",
       "      <td>1.0</td>\n",
       "    </tr>\n",
       "    <tr>\n",
       "      <th>386</th>\n",
       "      <td>NaN</td>\n",
       "      <td>NaN</td>\n",
       "      <td>0.0</td>\n",
       "    </tr>\n",
       "    <tr>\n",
       "      <th>1383</th>\n",
       "      <td>0.643771</td>\n",
       "      <td>0.356229</td>\n",
       "      <td>NaN</td>\n",
       "    </tr>\n",
       "    <tr>\n",
       "      <th>304</th>\n",
       "      <td>NaN</td>\n",
       "      <td>NaN</td>\n",
       "      <td>0.0</td>\n",
       "    </tr>\n",
       "    <tr>\n",
       "      <th>864</th>\n",
       "      <td>0.700957</td>\n",
       "      <td>0.299043</td>\n",
       "      <td>NaN</td>\n",
       "    </tr>\n",
       "    <tr>\n",
       "      <th>1346</th>\n",
       "      <td>NaN</td>\n",
       "      <td>NaN</td>\n",
       "      <td>0.0</td>\n",
       "    </tr>\n",
       "    <tr>\n",
       "      <th>572</th>\n",
       "      <td>0.831698</td>\n",
       "      <td>0.168302</td>\n",
       "      <td>NaN</td>\n",
       "    </tr>\n",
       "    <tr>\n",
       "      <th>896</th>\n",
       "      <td>0.585935</td>\n",
       "      <td>0.414065</td>\n",
       "      <td>NaN</td>\n",
       "    </tr>\n",
       "    <tr>\n",
       "      <th>1292</th>\n",
       "      <td>0.730172</td>\n",
       "      <td>0.269828</td>\n",
       "      <td>NaN</td>\n",
       "    </tr>\n",
       "    <tr>\n",
       "      <th>1303</th>\n",
       "      <td>0.746739</td>\n",
       "      <td>0.253261</td>\n",
       "      <td>NaN</td>\n",
       "    </tr>\n",
       "    <tr>\n",
       "      <th>1042</th>\n",
       "      <td>0.799419</td>\n",
       "      <td>0.200581</td>\n",
       "      <td>NaN</td>\n",
       "    </tr>\n",
       "    <tr>\n",
       "      <th>1326</th>\n",
       "      <td>0.739131</td>\n",
       "      <td>0.260869</td>\n",
       "      <td>NaN</td>\n",
       "    </tr>\n",
       "    <tr>\n",
       "      <th>811</th>\n",
       "      <td>0.747206</td>\n",
       "      <td>0.252794</td>\n",
       "      <td>NaN</td>\n",
       "    </tr>\n",
       "    <tr>\n",
       "      <th>92</th>\n",
       "      <td>0.745224</td>\n",
       "      <td>0.254776</td>\n",
       "      <td>NaN</td>\n",
       "    </tr>\n",
       "    <tr>\n",
       "      <th>973</th>\n",
       "      <td>NaN</td>\n",
       "      <td>NaN</td>\n",
       "      <td>0.0</td>\n",
       "    </tr>\n",
       "    <tr>\n",
       "      <th>280</th>\n",
       "      <td>0.696857</td>\n",
       "      <td>0.303143</td>\n",
       "      <td>NaN</td>\n",
       "    </tr>\n",
       "    <tr>\n",
       "      <th>448</th>\n",
       "      <td>0.621469</td>\n",
       "      <td>0.378531</td>\n",
       "      <td>NaN</td>\n",
       "    </tr>\n",
       "    <tr>\n",
       "      <th>78</th>\n",
       "      <td>NaN</td>\n",
       "      <td>NaN</td>\n",
       "      <td>0.0</td>\n",
       "    </tr>\n",
       "    <tr>\n",
       "      <th>568</th>\n",
       "      <td>0.764507</td>\n",
       "      <td>0.235493</td>\n",
       "      <td>NaN</td>\n",
       "    </tr>\n",
       "    <tr>\n",
       "      <th>430</th>\n",
       "      <td>NaN</td>\n",
       "      <td>NaN</td>\n",
       "      <td>0.0</td>\n",
       "    </tr>\n",
       "    <tr>\n",
       "      <th>968</th>\n",
       "      <td>NaN</td>\n",
       "      <td>NaN</td>\n",
       "      <td>0.0</td>\n",
       "    </tr>\n",
       "    <tr>\n",
       "      <th>1203</th>\n",
       "      <td>0.693539</td>\n",
       "      <td>0.306461</td>\n",
       "      <td>NaN</td>\n",
       "    </tr>\n",
       "    <tr>\n",
       "      <th>963</th>\n",
       "      <td>0.499347</td>\n",
       "      <td>0.500653</td>\n",
       "      <td>NaN</td>\n",
       "    </tr>\n",
       "    <tr>\n",
       "      <th>508</th>\n",
       "      <td>NaN</td>\n",
       "      <td>NaN</td>\n",
       "      <td>0.0</td>\n",
       "    </tr>\n",
       "    <tr>\n",
       "      <th>341</th>\n",
       "      <td>0.648770</td>\n",
       "      <td>0.351230</td>\n",
       "      <td>NaN</td>\n",
       "    </tr>\n",
       "    <tr>\n",
       "      <th>453</th>\n",
       "      <td>NaN</td>\n",
       "      <td>NaN</td>\n",
       "      <td>0.0</td>\n",
       "    </tr>\n",
       "    <tr>\n",
       "      <th>1362</th>\n",
       "      <td>0.783787</td>\n",
       "      <td>0.216213</td>\n",
       "      <td>NaN</td>\n",
       "    </tr>\n",
       "    <tr>\n",
       "      <th>698</th>\n",
       "      <td>NaN</td>\n",
       "      <td>NaN</td>\n",
       "      <td>0.0</td>\n",
       "    </tr>\n",
       "    <tr>\n",
       "      <th>768</th>\n",
       "      <td>NaN</td>\n",
       "      <td>NaN</td>\n",
       "      <td>0.0</td>\n",
       "    </tr>\n",
       "    <tr>\n",
       "      <th>1203</th>\n",
       "      <td>NaN</td>\n",
       "      <td>NaN</td>\n",
       "      <td>0.0</td>\n",
       "    </tr>\n",
       "    <tr>\n",
       "      <th>1212</th>\n",
       "      <td>NaN</td>\n",
       "      <td>NaN</td>\n",
       "      <td>0.0</td>\n",
       "    </tr>\n",
       "  </tbody>\n",
       "</table>\n",
       "</div>"
      ],
      "text/plain": [
       "             0         1  prediction\n",
       "1237       NaN       NaN         0.0\n",
       "1265  0.828296  0.171704         NaN\n",
       "1174       NaN       NaN         0.0\n",
       "934   0.775671  0.224329         NaN\n",
       "566        NaN       NaN         0.0\n",
       "1364  0.633586  0.366414         NaN\n",
       "411        NaN       NaN         0.0\n",
       "1369       NaN       NaN         0.0\n",
       "180   0.749203  0.250797         NaN\n",
       "69    0.803047  0.196953         NaN\n",
       "769        NaN       NaN         0.0\n",
       "1019       NaN       NaN         0.0\n",
       "810        NaN       NaN         0.0\n",
       "820   0.794169  0.205831         NaN\n",
       "847   0.584199  0.415801         NaN\n",
       "927   0.799000  0.201000         NaN\n",
       "667   0.676374  0.323626         NaN\n",
       "489   0.516497  0.483503         NaN\n",
       "1031       NaN       NaN         0.0\n",
       "456        NaN       NaN         1.0\n",
       "386        NaN       NaN         0.0\n",
       "1383  0.643771  0.356229         NaN\n",
       "304        NaN       NaN         0.0\n",
       "864   0.700957  0.299043         NaN\n",
       "1346       NaN       NaN         0.0\n",
       "572   0.831698  0.168302         NaN\n",
       "896   0.585935  0.414065         NaN\n",
       "1292  0.730172  0.269828         NaN\n",
       "1303  0.746739  0.253261         NaN\n",
       "1042  0.799419  0.200581         NaN\n",
       "1326  0.739131  0.260869         NaN\n",
       "811   0.747206  0.252794         NaN\n",
       "92    0.745224  0.254776         NaN\n",
       "973        NaN       NaN         0.0\n",
       "280   0.696857  0.303143         NaN\n",
       "448   0.621469  0.378531         NaN\n",
       "78         NaN       NaN         0.0\n",
       "568   0.764507  0.235493         NaN\n",
       "430        NaN       NaN         0.0\n",
       "968        NaN       NaN         0.0\n",
       "1203  0.693539  0.306461         NaN\n",
       "963   0.499347  0.500653         NaN\n",
       "508        NaN       NaN         0.0\n",
       "341   0.648770  0.351230         NaN\n",
       "453        NaN       NaN         0.0\n",
       "1362  0.783787  0.216213         NaN\n",
       "698        NaN       NaN         0.0\n",
       "768        NaN       NaN         0.0\n",
       "1203       NaN       NaN         0.0\n",
       "1212       NaN       NaN         0.0"
      ]
     },
     "execution_count": 62,
     "metadata": {},
     "output_type": "execute_result"
    }
   ],
   "source": [
    "churn_pred_df2.sample(50)"
   ]
  },
  {
   "cell_type": "markdown",
   "id": "2df4859f",
   "metadata": {},
   "source": [
    "# CONCLUSION: Summary\n",
    "\n",
    "The modelling that has been done in this report is, unfortunately, somewhat limited in that it has so far been mostly unable to beat our baseline churn prediction by very much.  \n",
    "\n",
    "Nevertheless, this report has led to a number of interesting conclusions:\n",
    "    \n",
    "    - Having dependents relates to lower monthly charges, as well as a higher lifetime value; churn is less prevalent as well.\n",
    "\n",
    "    - Whatever the benefits of paperless billing, it is also associated with more churn--perhaps because those using it pay more? .\n",
    "\n",
    "    - The higher the tenure the lower the churn, for obvious reasons. Less obvious is that the higher the lifetime value of a customer, the less the churn. \n",
    "        - Significantly, this is only true UP TO A POINT (in the vicinity of 2500 dollars)\n",
    "    \n",
    "    - Electronic check payment method relates to higher churn (and barley higher monthly charges). Could this be a segment ripe for loyalty programs?"
   ]
  },
  {
   "cell_type": "markdown",
   "id": "e63c15a3",
   "metadata": {},
   "source": [
    "# CONCLUSION: Recommendations\n",
    "\n",
    "On a general level, addressing the problem of churn specifically by encouraging GROUP PLANS and AUTOMATIC PAYMENT methods would be of benefit across the board.  These segments of customer have lower churn, and in the case of those with dependents, a higher lifetime value for the company.  To the point, our customers who pay using the electronic payment method churn more (and aren't really paying much more every month); we recommend targeting this segment for loyalty.\n",
    "\n",
    "Interestingly, we find that churn goes down as lifetime value (total charges) go up--but that at some point, this relationship hits a speed bump where churn takes a step up.  We recommend tracking customers' total charges throughout their time with the company, and offering discounts or other incentives to prevent the \"churn bump\" that occurs at about $2500 of total charges."
   ]
  },
  {
   "cell_type": "markdown",
   "id": "f95bb9e4",
   "metadata": {},
   "source": [
    "# CONCLUSION: Next Steps\n",
    "\n",
    "An interesting area for further research will be the relationship of lifetime value and churn, and using this--perhaps using feature engineering--to improve the accuracy of our model.  Likewise, a more detail analysis of segments (the electronic payment customer, for example) that pay the same and churn more could prove to be valuable and perhaps lead to some customer retention insights.  The same goes for other customers that we haven't touched on in this report, such as senior citizens and fiber optics customers, who our analysis did show churn at a higher rate."
   ]
  },
  {
   "cell_type": "code",
   "execution_count": null,
   "id": "d7759dd9",
   "metadata": {},
   "outputs": [],
   "source": []
  },
  {
   "cell_type": "code",
   "execution_count": null,
   "id": "3f5fbfc0",
   "metadata": {},
   "outputs": [],
   "source": []
  }
 ],
 "metadata": {
  "kernelspec": {
   "display_name": "Python 3",
   "language": "python",
   "name": "python3"
  },
  "language_info": {
   "codemirror_mode": {
    "name": "ipython",
    "version": 3
   },
   "file_extension": ".py",
   "mimetype": "text/x-python",
   "name": "python",
   "nbconvert_exporter": "python",
   "pygments_lexer": "ipython3",
   "version": "3.8.8"
  }
 },
 "nbformat": 4,
 "nbformat_minor": 5
}
