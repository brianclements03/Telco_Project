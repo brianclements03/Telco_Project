{
 "cells": [
  {
   "cell_type": "markdown",
   "id": "fe9492d7",
   "metadata": {},
   "source": [
    "# DATA DICTIONARY"
   ]
  },
  {
   "cell_type": "markdown",
   "id": "8d5ca2e2",
   "metadata": {},
   "source": [
    "| Variable    | Meaning     |\n",
    "| ----------- | ----------- |\n",
    "|\n",
    "| customer_id     | Unique identifier for each customer |\n",
    "| gender | Sex of the customer | \n",
    "| senior_citizen     | Is the customer a senior citizen? |\n",
    "| partner       | Does the cust. have a partner? |\n",
    "| dependents   | Does the cust. have dependents?|\n",
    "| tenure  | How long has the cust. been with us? |\n",
    "| phone_service     | Does the cust. have phone svc.?|\n",
    "| multiple_lines    | Does the cust. have multiple lines? |\n",
    "| online_security  | Does the cust. have online security |\n",
    "| online_backup    | Does the cust. have online backup |\n",
    "| device_protection    | Does the cust. have device protection? |\n",
    "| tech_support     | Does the cust. have tech support? |\n",
    "| streaming_tv    | Does the cust. have streaming tv? |\n",
    "| streaming_movies    | Does the cust. have streaming movies? |\n",
    "| paperless_billing   |Does the cust. have paperless billing? |\n",
    "| monthly_charges  | Customer monthly charges |\n",
    "| total_charges     | Customer total charges |\n",
    "| churn             | Has the customer churned? |\n",
    "| contract_type     | Contract type |\n",
    "| internet_service_type  | Internet type |\n",
    "| payment_type          | Payment type |\n",
    "| gender_Male         |Encoded feature: Customer sex |\n",
    "| partner_Yes        | Encoded feature: does the cust. have a partner? | \n",
    "| dependents_Yes   | Encoded feature: does the cust. have dependents? |\n",
    "| phone_service_Yes   | Encoded feature: does the cust. have phone service?|\n",
    "| multiple_lines_No phone service   |   Encoded feature: multiple lines? (no service option) |\n",
    "| multiple_lines_Yes | Encoded feature: multiple lines?  (\"yes\" option; the final option would be \"no\")\n",
    "| online_security_No internet service  |  Encoded feature: online security?  (no service option)\n",
    "| online_security_Yes | Encoded feature: online security?  (\"yes\" option; the final option would be \"no\")\n",
    "| online_backup_No internet service  |  Encoded feature: online backup?  (no service option)\n",
    "| online_backup_Yes | Encoded feature: online backup?  (\"yes\" option; the final option would be \"no\")\n",
    "| device_protection_No internet service |  Encoded feature: device prot.?  (no service option)\n",
    "| device_protection_Yes | Encoded feature: device prot.?  (\"yes\" option; the final option would be \"no\")\n",
    "| tech_support_No internet service |  Encoded feature: tech support?  (no service option)\n",
    "| tech_support_Yes | Encoded feature: tech support?  (\"yes\" option; the final option would be \"no\")  \n",
    "| streaming_tv_No internet service  |  Encoded feature: streaming tv?  (no service option)\n",
    "| streaming_tv_Yes | Encoded feature: streaming tv?  (\"yes\" option; the final option would be \"no\")\n",
    "| streaming_movies_No internet service|  Encoded feature: streaming movies?  (no service option)\n",
    "| streaming_movies_Yes | Encoded feature: streaming movies?  (\"yes\" option; the final option would be \"no\")\n",
    "| paperless_billing_Yes |  Encoded feature: paperless billing?  \n",
    "| churn_Yes |  Encoded feature: is there churn on the account?\n",
    "| contract_type_One year | Encoded feature: contract type  (\"one year\" option)\n",
    "| contract_type_Two year | Encoded feature: contract type  (\"two year\" option; the final option would be \"month-to-month\")\n",
    "| internet_service_type_Fiber optic | Encoded feature: internet type  (\"fiber optic\" option)\n",
    "| internet_service_type_None| Encoded feature: contract type  (\"no svc.\" option; the final option would be \"DSL\")  \n",
    "| payment_type_Credit card (automatic)  | Encoded feature: payment type  (\"credit card\")\n",
    "| payment_type_Electronic check | Encoded feature: payment type  (\"electronic check\" option)\n",
    "| payment_type_Mailed check | Encoded feature: payment type  (\"mailed check\" option; the final option would be \"bank transfer\")"
   ]
  },
  {
   "cell_type": "markdown",
   "id": "2b0d8a31",
   "metadata": {},
   "source": [
    "# REVISIT YOUR BIVARIATE QUESTIONS AFTER MULTIVARIATE ANAL."
   ]
  },
  {
   "cell_type": "markdown",
   "id": "6d423fbc",
   "metadata": {},
   "source": [
    "## After arriving at your MVP, you could go back and tinker with some of the arguments in the different models to see if you can get accuracy up\n",
    "\n",
    "### scaling too; and weights"
   ]
  },
  {
   "cell_type": "markdown",
   "id": "ca01f6c0",
   "metadata": {},
   "source": [
    "## reviewing an example case on towardsdatascience.com\n",
    "\n",
    "- consider cleaning your total charges by recalculating by multiplying tenure by monthly charges? no let's not do this b/c maybe people have changed plan or something?\n",
    "- among \"high lifetime value\" customers, there's a higher percentage that used DSL compared to churn custs\n",
    "- do a barplot of monthly charges (bins!) vs churn"
   ]
  },
  {
   "cell_type": "markdown",
   "id": "be5d2a2f",
   "metadata": {},
   "source": [
    "have Dependents pay less, have a higher lifetime value, and churn less\n",
    "paperless billing pay more and churn more\n",
    "the higher the tenure the lower the churn. the higher the lifetime value, the less the churn. UP TO A POINT, in the vicinity of $2500\n",
    "senior citizens are charged more\n",
    "fiber optic customers pay more and churn more\n",
    "electronic check payment method relates to higher churn (and not higher monthly charges). a segment ripe for loyalty programs?"
   ]
  },
  {
   "cell_type": "code",
   "execution_count": null,
   "id": "145972c3",
   "metadata": {},
   "outputs": [],
   "source": []
  }
 ],
 "metadata": {
  "kernelspec": {
   "display_name": "Python 3",
   "language": "python",
   "name": "python3"
  },
  "language_info": {
   "codemirror_mode": {
    "name": "ipython",
    "version": 3
   },
   "file_extension": ".py",
   "mimetype": "text/x-python",
   "name": "python",
   "nbconvert_exporter": "python",
   "pygments_lexer": "ipython3",
   "version": "3.8.8"
  }
 },
 "nbformat": 4,
 "nbformat_minor": 5
}
