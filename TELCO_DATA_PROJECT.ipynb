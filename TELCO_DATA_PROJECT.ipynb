{
 "cells": [
  {
   "cell_type": "code",
   "execution_count": 1,
   "id": "22155de9",
   "metadata": {},
   "outputs": [],
   "source": [
    "import matplotlib.pyplot as plt\n",
    "import numpy as np\n",
    "import pandas as pd\n",
    "from pydataset import data\n",
    "import statistics\n",
    "import seaborn as sns\n",
    "import env\n",
    "from sklearn.model_selection import train_test_split\n",
    "from sklearn.impute import SimpleImputer\n",
    "import scipy\n",
    "import acquire\n",
    "import prepare\n",
    "from scipy import stats\n",
    "\n",
    "from sklearn.tree import DecisionTreeClassifier\n",
    "from sklearn.tree import export_graphviz\n",
    "from sklearn.metrics import classification_report\n",
    "from sklearn.metrics import confusion_matrix\n",
    "from sklearn.ensemble import RandomForestClassifier\n",
    "from sklearn.neighbors import KNeighborsClassifier\n",
    "from sklearn.linear_model import LogisticRegression\n",
    "import sklearn.linear_model\n",
    "import sklearn.preprocessing"
   ]
  },
  {
   "cell_type": "markdown",
   "id": "ea8828e5",
   "metadata": {},
   "source": [
    "# Data Analysis Project — Telco Churn\n",
    "\n",
    "### by Brian Clements 29 November 2021\n",
    "\n",
    "## GOALS\n",
    "\n",
    "### The goal of this project is to explore factors related to customer churn at Telco, and to develop a machine learning model in an attempt to predict future churn. \n",
    "\n",
    "## DESCRIPTION\n",
    "\n",
    "### Gaining new customers is an expensive proposition for a telecom company--much more economical is their retention.  This project is an exploration of our customers' churn through a database of information related to their accounts. Certain demographic information will be looked at, as well as what types of services and contracts they have, charges, and use behavior (e.g. tenure and churn).  From this analysis, we will move develop a model to predict future customer churn (delivered in a csv file) and recommendations to reduce their attrition."
   ]
  },
  {
   "cell_type": "markdown",
   "id": "61db67a0",
   "metadata": {},
   "source": [
    "## Initial questions\n",
    "1. Are those with dependents paying less?\n",
    "2. Are people with paperless billing being charged differently? More or less?\n",
    "3. Are people with longer tenure being charged more? Less? Different services?\n",
    "4. Is there a reason for the churn amongst those who pay with electronic check?"
   ]
  },
  {
   "cell_type": "markdown",
   "id": "5c1e6dfb",
   "metadata": {},
   "source": [
    "## Executive Summary:\n",
    "\n",
    "- A lot of insight was gained into our customers and there attrition, including useful points that will help guide the company take actions to reduce it.\n",
    "\n",
    "- The modelling that has been done in this report is, unfortunately, somewhat limited in that it has so far been mostly unable to beat our baseline churn prediction by very much.\n",
    "\n",
    "- GROUP PLANS and AUTOMATIC PAYMENT methods are the biggest general recommendation. We recommend targeting this segment for loyalty.\n",
    "\n",
    "- We found that churn goes down as total charges go up--up to a point.  We recommend offering discounts or other incentives to prevent the \"churn bump\" that occurs at about $2500 of total charges."
   ]
  },
  {
   "cell_type": "markdown",
   "id": "0488bc33",
   "metadata": {},
   "source": [
    "## DATA DICTIONARY: "
   ]
  },
  {
   "cell_type": "markdown",
   "id": "ddfc72c4",
   "metadata": {},
   "source": [
    "| Variable    | Meaning     |\n",
    "| ----------- | ----------- |\n",
    "|\n",
    "| customer_id     | Unique identifier for each customer |\n",
    "| gender | Sex of the customer | \n",
    "| senior_citizen     | Is the customer a senior citizen? |\n",
    "| partner       | Does the cust. have a partner? |\n",
    "| dependents   | Does the cust. have dependents?|\n",
    "| tenure  | How long has the cust. been with us? |\n",
    "| phone_service     | Does the cust. have phone svc.?|\n",
    "| multiple_lines    | Does the cust. have multiple lines? |\n",
    "| online_security  | Does the cust. have online security |\n",
    "| online_backup    | Does the cust. have online backup |\n",
    "| device_protection    | Does the cust. have device protection? |\n",
    "| tech_support     | Does the cust. have tech support? |\n",
    "| streaming_tv    | Does the cust. have streaming tv? |\n",
    "| streaming_movies    | Does the cust. have streaming movies? |\n",
    "| paperless_billing   |Does the cust. have paperless billing? |\n",
    "| monthly_charges  | Customer monthly charges |\n",
    "| total_charges     | Customer total charges |\n",
    "| churn             | Has the customer churned? |\n",
    "| contract_type     | Contract type |\n",
    "| internet_service_type  | Internet type |\n",
    "| payment_type          | Payment type |\n",
    "| gender_Male         |Encoded feature: Customer sex |\n",
    "| partner_Yes        | Encoded feature: does the cust. have a partner? | \n",
    "| dependents_Yes   | Encoded feature: does the cust. have dependents? |\n",
    "| phone_service_Yes   | Encoded feature: does the cust. have phone service?|\n",
    "| multiple_lines_No phone service   |   Encoded feature: multiple lines? (no service option) |\n",
    "| multiple_lines_Yes | Encoded feature: multiple lines?  (\"yes\" option; the final option would be \"no\")\n",
    "| online_security_No internet service  |  Encoded feature: online security?  (no service option)\n",
    "| online_security_Yes | Encoded feature: online security?  (\"yes\" option; the final option would be \"no\")\n",
    "| online_backup_No internet service  |  Encoded feature: online backup?  (no service option)\n",
    "| online_backup_Yes | Encoded feature: online backup?  (\"yes\" option; the final option would be \"no\")\n",
    "| device_protection_No internet service |  Encoded feature: device prot.?  (no service option)\n",
    "| device_protection_Yes | Encoded feature: device prot.?  (\"yes\" option; the final option would be \"no\")\n",
    "| tech_support_No internet service |  Encoded feature: tech support?  (no service option)\n",
    "| tech_support_Yes | Encoded feature: tech support?  (\"yes\" option; the final option would be \"no\")  \n",
    "| streaming_tv_No internet service  |  Encoded feature: streaming tv?  (no service option)\n",
    "| streaming_tv_Yes | Encoded feature: streaming tv?  (\"yes\" option; the final option would be \"no\")\n",
    "| streaming_movies_No internet service|  Encoded feature: streaming movies?  (no service option)\n",
    "| streaming_movies_Yes | Encoded feature: streaming movies?  (\"yes\" option; the final option would be \"no\")\n",
    "| paperless_billing_Yes |  Encoded feature: paperless billing?  \n",
    "| churn_Yes |  Encoded feature: is there churn on the account?\n",
    "| contract_type_One year | Encoded feature: contract type  (\"one year\" option)\n",
    "| contract_type_Two year | Encoded feature: contract type  (\"two year\" option; the final option would be \"month-to-month\")\n",
    "| internet_service_type_Fiber optic | Encoded feature: internet type  (\"fiber optic\" option)\n",
    "| internet_service_type_None| Encoded feature: contract type  (\"no svc.\" option; the final option would be \"DSL\")  \n",
    "| payment_type_Credit card (automatic)  | Encoded feature: payment type  (\"credit card\")\n",
    "| payment_type_Electronic check | Encoded feature: payment type  (\"electronic check\" option)\n",
    "| payment_type_Mailed check | Encoded feature: payment type  (\"mailed check\" option; the final option would be \"bank transfer\")"
   ]
  },
  {
   "cell_type": "markdown",
   "id": "7eea29d2",
   "metadata": {},
   "source": [
    "## Wrangle the data\n",
    "\n",
    "To acquire the telco data, I relied on a function that I built and stored in my acquire.py file.  This function pulls the telco dataset (and in its absence, queries the Codeup database using SQL to build it from scratch)"
   ]
  },
  {
   "cell_type": "code",
   "execution_count": 2,
   "id": "874e421e",
   "metadata": {},
   "outputs": [
    {
     "data": {
      "text/html": [
       "<div>\n",
       "<style scoped>\n",
       "    .dataframe tbody tr th:only-of-type {\n",
       "        vertical-align: middle;\n",
       "    }\n",
       "\n",
       "    .dataframe tbody tr th {\n",
       "        vertical-align: top;\n",
       "    }\n",
       "\n",
       "    .dataframe thead th {\n",
       "        text-align: right;\n",
       "    }\n",
       "</style>\n",
       "<table border=\"1\" class=\"dataframe\">\n",
       "  <thead>\n",
       "    <tr style=\"text-align: right;\">\n",
       "      <th></th>\n",
       "      <th>payment_type_id</th>\n",
       "      <th>internet_service_type_id</th>\n",
       "      <th>contract_type_id</th>\n",
       "      <th>customer_id</th>\n",
       "      <th>gender</th>\n",
       "      <th>senior_citizen</th>\n",
       "      <th>partner</th>\n",
       "      <th>dependents</th>\n",
       "      <th>tenure</th>\n",
       "      <th>phone_service</th>\n",
       "      <th>...</th>\n",
       "      <th>tech_support</th>\n",
       "      <th>streaming_tv</th>\n",
       "      <th>streaming_movies</th>\n",
       "      <th>paperless_billing</th>\n",
       "      <th>monthly_charges</th>\n",
       "      <th>total_charges</th>\n",
       "      <th>churn</th>\n",
       "      <th>contract_type</th>\n",
       "      <th>internet_service_type</th>\n",
       "      <th>payment_type</th>\n",
       "    </tr>\n",
       "  </thead>\n",
       "  <tbody>\n",
       "    <tr>\n",
       "      <th>2092</th>\n",
       "      <td>3</td>\n",
       "      <td>1</td>\n",
       "      <td>1</td>\n",
       "      <td>7319-VENRZ</td>\n",
       "      <td>Male</td>\n",
       "      <td>0</td>\n",
       "      <td>No</td>\n",
       "      <td>No</td>\n",
       "      <td>7</td>\n",
       "      <td>Yes</td>\n",
       "      <td>...</td>\n",
       "      <td>Yes</td>\n",
       "      <td>Yes</td>\n",
       "      <td>No</td>\n",
       "      <td>No</td>\n",
       "      <td>64.3</td>\n",
       "      <td>445.95</td>\n",
       "      <td>No</td>\n",
       "      <td>Month-to-month</td>\n",
       "      <td>DSL</td>\n",
       "      <td>Bank transfer (automatic)</td>\n",
       "    </tr>\n",
       "  </tbody>\n",
       "</table>\n",
       "<p>1 rows × 24 columns</p>\n",
       "</div>"
      ],
      "text/plain": [
       "      payment_type_id  internet_service_type_id  contract_type_id customer_id  \\\n",
       "2092                3                         1                 1  7319-VENRZ   \n",
       "\n",
       "     gender  senior_citizen partner dependents  tenure phone_service  ...  \\\n",
       "2092   Male               0      No         No       7           Yes  ...   \n",
       "\n",
       "     tech_support streaming_tv streaming_movies paperless_billing  \\\n",
       "2092          Yes          Yes               No                No   \n",
       "\n",
       "     monthly_charges total_charges churn   contract_type  \\\n",
       "2092            64.3        445.95    No  Month-to-month   \n",
       "\n",
       "      internet_service_type               payment_type  \n",
       "2092                    DSL  Bank transfer (automatic)  \n",
       "\n",
       "[1 rows x 24 columns]"
      ]
     },
     "execution_count": 2,
     "metadata": {},
     "output_type": "execute_result"
    }
   ],
   "source": [
    "# Create and check the telco dataframe\n",
    "raw_telco_df = acquire.get_telco_data()\n",
    "raw_telco_df.sample(1)"
   ]
  },
  {
   "cell_type": "markdown",
   "id": "6bdda2e4",
   "metadata": {},
   "source": [
    "## Clean and split the data\n",
    "\n",
    "I utilized my prep_telco and split_telco_data functions from prepare.py to get the data ready\n",
    "\n",
    "There were no issues with \"tidiness,\" but there were a few items that needed to be cleaned, not least of all the data type for 'total_charges' and several NaN values in that feature\n",
    "\n",
    "### Missing values: in the total_charges feature, I replaced the missing values with zeroes; these cells seemed to represent new customers who had yet to accumulate charges.\n",
    "\n",
    "### Additionally, the total_charges column has a few values that do not equal their 'tenure' multiplied by 'monthly_charges;' I chose not to make any changes, in case these values possibly represented customers whose monthly charges have changed over time.\n"
   ]
  },
  {
   "cell_type": "code",
   "execution_count": 3,
   "id": "a7bddd71",
   "metadata": {},
   "outputs": [],
   "source": [
    "# Create a dataframe for the prepared telco data from my prepare.py file.\n",
    "telco_prepped = prepare.prep_telco(raw_telco_df)"
   ]
  },
  {
   "cell_type": "code",
   "execution_count": 4,
   "id": "d1d41f5f",
   "metadata": {},
   "outputs": [
    {
     "name": "stdout",
     "output_type": "stream",
     "text": [
      "telco_train: (3943, 61)\n",
      "telco_validate: (1691, 61)\n",
      "telco_test: (1409, 61)\n"
     ]
    }
   ],
   "source": [
    "#Here, we reassign the three values returned from the split_data function to new variables\n",
    "telco_train, telco_validate, telco_test = prepare.split_telco_data(telco_prepped)\n",
    "print(f'telco_train: {telco_train.shape}')\n",
    "print(f'telco_validate: {telco_validate.shape}')\n",
    "print(f'telco_test: {telco_test.shape}')"
   ]
  },
  {
   "cell_type": "code",
   "execution_count": 5,
   "id": "0d677dcc",
   "metadata": {},
   "outputs": [],
   "source": [
    "# Create X & y version of train, where y is a series with just the target variable and X are all the features. \n",
    "\n",
    "telco_X_train = telco_train.drop(columns=['churn_Yes'])\n",
    "telco_y_train = telco_train.churn_Yes\n",
    "\n",
    "telco_X_validate = telco_validate.drop(columns=['churn_Yes'])\n",
    "telco_y_validate = telco_validate.churn_Yes\n",
    "\n",
    "telco_X_test = telco_test.drop(columns=['churn_Yes'])\n",
    "telco_y_test = telco_test.churn_Yes"
   ]
  },
  {
   "cell_type": "markdown",
   "id": "fbcee683",
   "metadata": {},
   "source": [
    "# At this point, we now have our train, validate, test data sets\n",
    "\n",
    "- We will set alpha to 0.05 for all subsequent stats tests"
   ]
  },
  {
   "cell_type": "code",
   "execution_count": 6,
   "id": "759406e3",
   "metadata": {},
   "outputs": [],
   "source": [
    "alpha = 0.05"
   ]
  },
  {
   "cell_type": "markdown",
   "id": "7a3930ee",
   "metadata": {},
   "source": [
    "## Research Question 1\n",
    "Are those with dependents paying less? What about their churn? We can see in the next cell that they churn less."
   ]
  },
  {
   "cell_type": "code",
   "execution_count": 7,
   "id": "060cb5b8",
   "metadata": {
    "scrolled": true
   },
   "outputs": [
    {
     "name": "stderr",
     "output_type": "stream",
     "text": [
      "No handles with labels found to put in legend.\n"
     ]
    },
    {
     "data": {
      "image/png": "[encoded data removed]",
      "text/plain": [
       "<Figure size 432x288 with 1 Axes>"
      ]
     },
     "metadata": {
      "needs_background": "light"
     },
     "output_type": "display_data"
    }
   ],
   "source": [
    "# Here, we graphically represent the relationship between having dependents and churn using a barplot.\n",
    "\n",
    "plt.title(\"There is a possible relationship between having dependents and churn\")\n",
    "sns.barplot(y=telco_y_train, x=\"dependents\", data=telco_X_train)\n",
    "plt.legend()\n",
    "plt.show()\n",
    "\n",
    "# The next step will be a stat test: chi^2"
   ]
  },
  {
   "cell_type": "code",
   "execution_count": 8,
   "id": "4299412c",
   "metadata": {
    "scrolled": true
   },
   "outputs": [
    {
     "data": {
      "image/png": "[encoded data removed]",
      "text/plain": [
       "<Figure size 432x288 with 1 Axes>"
      ]
     },
     "metadata": {
      "needs_background": "light"
     },
     "output_type": "display_data"
    }
   ],
   "source": [
    "# The code in this cell creates a seaborns barplot using hue to distignuish between having dependents and not.\n",
    "\n",
    "plt.title(\"For each contract type, people with dependents churn less. Especially month-to-month\")\n",
    "sns.barplot(x=\"contract_type\", y=telco_y_train, data=telco_X_train, hue=\"dependents\")\n",
    "plt.show()"
   ]
  },
  {
   "cell_type": "code",
   "execution_count": 9,
   "id": "6c57ed2e",
   "metadata": {
    "scrolled": true
   },
   "outputs": [
    {
     "data": {
      "text/html": [
       "<div>\n",
       "<style scoped>\n",
       "    .dataframe tbody tr th:only-of-type {\n",
       "        vertical-align: middle;\n",
       "    }\n",
       "\n",
       "    .dataframe tbody tr th {\n",
       "        vertical-align: top;\n",
       "    }\n",
       "\n",
       "    .dataframe thead th {\n",
       "        text-align: right;\n",
       "    }\n",
       "</style>\n",
       "<table border=\"1\" class=\"dataframe\">\n",
       "  <thead>\n",
       "    <tr style=\"text-align: right;\">\n",
       "      <th>churn_Yes</th>\n",
       "      <th>0</th>\n",
       "      <th>1</th>\n",
       "    </tr>\n",
       "    <tr>\n",
       "      <th>dependents</th>\n",
       "      <th></th>\n",
       "      <th></th>\n",
       "    </tr>\n",
       "  </thead>\n",
       "  <tbody>\n",
       "    <tr>\n",
       "      <th>No</th>\n",
       "      <td>1917</td>\n",
       "      <td>866</td>\n",
       "    </tr>\n",
       "    <tr>\n",
       "      <th>Yes</th>\n",
       "      <td>980</td>\n",
       "      <td>180</td>\n",
       "    </tr>\n",
       "  </tbody>\n",
       "</table>\n",
       "</div>"
      ],
      "text/plain": [
       "churn_Yes      0    1\n",
       "dependents           \n",
       "No          1917  866\n",
       "Yes          980  180"
      ]
     },
     "execution_count": 9,
     "metadata": {},
     "output_type": "execute_result"
    }
   ],
   "source": [
    "# This code creates a crosstab for depedents and churn, to be used in a stats test in the next cell\n",
    "\n",
    "observed_dependents = pd.crosstab(telco_X_train.dependents, telco_y_train)\n",
    "observed_dependents"
   ]
  },
  {
   "cell_type": "markdown",
   "id": "1597dee7",
   "metadata": {},
   "source": [
    "### Hypothesis to test in a stats test regarding dependents:   \n",
    "    - 𝐻𝑜 : having dependents is unrelated to churn\n",
    "    - 𝐻𝑎 : having dependents is related to churn\n",
    "    \n",
    "    - We reject the null hypothesis"
   ]
  },
  {
   "cell_type": "code",
   "execution_count": 10,
   "id": "2477e18a",
   "metadata": {},
   "outputs": [
    {
     "name": "stdout",
     "output_type": "stream",
     "text": [
      "Observed\n",
      "\n",
      "[[1917  866]\n",
      " [ 980  180]]\n",
      "---\n",
      "Expected\n",
      "\n",
      "[[2044  738]\n",
      " [ 852  307]]\n",
      "---\n",
      "\n",
      "chi^2 = 101.4319\n",
      "p     = 0.0000\n",
      "We reject the null hypothesis\n"
     ]
    }
   ],
   "source": [
    "# This cell performs a chi^2 test on the observed_dependents crosstab above.\n",
    "chi2, p, degf, expected = stats.chi2_contingency(observed_dependents)\n",
    "print('Observed\\n')\n",
    "print(observed_dependents.values)\n",
    "print('---\\nExpected\\n')\n",
    "print(expected.astype(int))\n",
    "print('---\\n')\n",
    "print(f'chi^2 = {chi2:.4f}')\n",
    "print(f'p     = {p:.4f}')\n",
    "if p < alpha:\n",
    "    print(\"We reject the null hypothesis\")\n",
    "else:\n",
    "    print(\"We fail to reject the null hypothesis\")"
   ]
  },
  {
   "cell_type": "code",
   "execution_count": 11,
   "id": "eed3c67d",
   "metadata": {},
   "outputs": [
    {
     "name": "stderr",
     "output_type": "stream",
     "text": [
      "No handles with labels found to put in legend.\n"
     ]
    },
    {
     "data": {
      "image/png": "[encoded data removed]",
      "text/plain": [
       "<Figure size 432x288 with 1 Axes>"
      ]
     },
     "metadata": {
      "needs_background": "light"
     },
     "output_type": "display_data"
    }
   ],
   "source": [
    "plt.title(\"Those with dependents are charged less per month\")\n",
    "sns.barplot(y=\"monthly_charges\", x=\"dependents\", data=telco_X_train)\n",
    "plt.legend()\n",
    "plt.show()"
   ]
  },
  {
   "cell_type": "code",
   "execution_count": 12,
   "id": "1db3413c",
   "metadata": {
    "scrolled": true
   },
   "outputs": [
    {
     "name": "stderr",
     "output_type": "stream",
     "text": [
      "No handles with labels found to put in legend.\n"
     ]
    },
    {
     "data": {
      "image/png": "[encoded data removed]",
      "text/plain": [
       "<Figure size 432x288 with 1 Axes>"
      ]
     },
     "metadata": {
      "needs_background": "light"
     },
     "output_type": "display_data"
    }
   ],
   "source": [
    "plt.title(\"And yet, they have a higher lifetime value\")\n",
    "sns.barplot(y=\"total_charges\", x=\"dependents\", data=telco_X_train)\n",
    "plt.legend()\n",
    "plt.show()"
   ]
  },
  {
   "cell_type": "code",
   "execution_count": 110,
   "id": "f7420c7a",
   "metadata": {},
   "outputs": [],
   "source": [
    "# Commented out for time purposes\n",
    "\n",
    "# # Seaborns barplot comparing contract type/dependents to monthly charges.  \n",
    "# plt.title(\"For each contract type, people with dependents pay less\")\n",
    "# sns.barplot(x=\"contract_type\", y='monthly_charges', data=telco_X_train, hue=\"dependents\")\n",
    "# plt.show()"
   ]
  },
  {
   "cell_type": "markdown",
   "id": "c731f788",
   "metadata": {},
   "source": [
    "### Answer to Research Question 1:\n",
    "\n",
    "Our chi^2 test shows that we can proceed with the understanding that customers with dependents churn less; additionally, it is clear from the charts that they are charged less but still provide a higher lifetime value."
   ]
  },
  {
   "cell_type": "markdown",
   "id": "51734642",
   "metadata": {},
   "source": [
    "## Research Question 2\n",
    "We know that people with paperless billing churn at a higher rate; could this be related to their contract type, or perhaps higher monthly charges?"
   ]
  },
  {
   "cell_type": "code",
   "execution_count": 14,
   "id": "2d6930ed",
   "metadata": {
    "scrolled": true
   },
   "outputs": [
    {
     "name": "stderr",
     "output_type": "stream",
     "text": [
      "No handles with labels found to put in legend.\n"
     ]
    },
    {
     "data": {
      "image/png": "[encoded data removed]",
      "text/plain": [
       "<Figure size 432x288 with 1 Axes>"
      ]
     },
     "metadata": {
      "needs_background": "light"
     },
     "output_type": "display_data"
    }
   ],
   "source": [
    "# Here, we see the relationship between paperless billing and churn.\n",
    "plt.title(\"Higher churn for those with paperless billing\")\n",
    "sns.barplot(y=telco_y_train, x=\"paperless_billing\", data=telco_X_train)\n",
    "plt.legend()\n",
    "plt.show()"
   ]
  },
  {
   "cell_type": "code",
   "execution_count": 15,
   "id": "804c9de4",
   "metadata": {},
   "outputs": [
    {
     "data": {
      "image/png": "[encoded data removed]",
      "text/plain": [
       "<Figure size 432x288 with 1 Axes>"
      ]
     },
     "metadata": {
      "needs_background": "light"
     },
     "output_type": "display_data"
    }
   ],
   "source": [
    "#monthly charges, paperless billing, churn, contract type\n",
    "\n",
    "# For each contract type, people with dependents churn less\n",
    "plt.title(\"For each contract type, people with paperless billing churn more. Esp. month-to-month\")\n",
    "sns.barplot(x=\"contract_type\", y=telco_y_train, data=telco_X_train, hue=\"paperless_billing\")\n",
    "#population_survival_rate = train.survived.mean()\n",
    "#plt.axhline(population_survival_rate)\n",
    "plt.show()"
   ]
  },
  {
   "cell_type": "code",
   "execution_count": 16,
   "id": "b02de9c4",
   "metadata": {},
   "outputs": [],
   "source": [
    "# This cell creates a crosstab for use in a stats test below.\n",
    "\n",
    "observed_billing = pd.crosstab(telco_X_train.paperless_billing, telco_y_train)"
   ]
  },
  {
   "cell_type": "markdown",
   "id": "1b15938b",
   "metadata": {},
   "source": [
    "### My hypotheses regarding paperless billing and churn\n",
    "    \n",
    "    - 𝐻𝑜 : having paperless billing is unrelated to churn\n",
    "    - 𝐻𝑎 : having paperless billing is related to churn\n",
    "    \n",
    "    - We rejected the null hypothesis"
   ]
  },
  {
   "cell_type": "code",
   "execution_count": 17,
   "id": "49bd5f57",
   "metadata": {},
   "outputs": [
    {
     "name": "stdout",
     "output_type": "stream",
     "text": [
      "Observed\n",
      "\n",
      "[[1341  250]\n",
      " [1556  796]]\n",
      "---\n",
      "Expected\n",
      "\n",
      "[[1168  422]\n",
      " [1728  623]]\n",
      "---\n",
      "\n",
      "chi^2 = 159.1216\n",
      "p     = 0.0000\n",
      "We reject the null hypothesis\n"
     ]
    }
   ],
   "source": [
    "# The following code runs a \n",
    "chi2, p, degf, expected = stats.chi2_contingency(observed_billing)\n",
    "print('Observed\\n')\n",
    "print(observed_billing.values)\n",
    "print('---\\nExpected\\n')\n",
    "print(expected.astype(int))\n",
    "print('---\\n')\n",
    "print(f'chi^2 = {chi2:.4f}')\n",
    "print(f'p     = {p:.4f}')\n",
    "if p < alpha:\n",
    "    print(\"We reject the null hypothesis\")\n",
    "else:\n",
    "    print(\"We fail to reject the null hypothesis\")"
   ]
  },
  {
   "cell_type": "code",
   "execution_count": 18,
   "id": "7a30c39f",
   "metadata": {},
   "outputs": [
    {
     "name": "stderr",
     "output_type": "stream",
     "text": [
      "No handles with labels found to put in legend.\n"
     ]
    },
    {
     "data": {
      "image/png": "[encoded data removed]",
      "text/plain": [
       "<Figure size 432x288 with 1 Axes>"
      ]
     },
     "metadata": {
      "needs_background": "light"
     },
     "output_type": "display_data"
    }
   ],
   "source": [
    "plt.title(\"Those with paperless billing pay more every month\")\n",
    "sns.barplot(y=\"monthly_charges\", x=\"paperless_billing\", data=telco_X_train)\n",
    "plt.legend()\n",
    "plt.show()"
   ]
  },
  {
   "cell_type": "code",
   "execution_count": 19,
   "id": "6a58e4ce",
   "metadata": {
    "scrolled": true
   },
   "outputs": [
    {
     "data": {
      "image/png": "[encoded data removed]",
      "text/plain": [
       "<Figure size 432x288 with 1 Axes>"
      ]
     },
     "metadata": {
      "needs_background": "light"
     },
     "output_type": "display_data"
    }
   ],
   "source": [
    "# For each contract type, people with dependents churn less\n",
    "plt.title(\"For each contract type, people with paperless billing pay more\")\n",
    "sns.barplot(x=\"contract_type\", y='monthly_charges', data=telco_X_train, hue=\"paperless_billing\")\n",
    "#population_survival_rate = train.survived.mean()\n",
    "#plt.axhline(population_survival_rate)\n",
    "plt.show()"
   ]
  },
  {
   "cell_type": "markdown",
   "id": "810101c6",
   "metadata": {},
   "source": [
    "### Answer to Research Question 2:\n",
    "\n",
    "Our chi^2 test shows that we can proceed with the understanding that paperless billing is related to churn; these customers also pay more every month."
   ]
  },
  {
   "cell_type": "markdown",
   "id": "84966814",
   "metadata": {},
   "source": [
    "## Research Question 3\n",
    "Are people with longer tenure creating more long-term value? "
   ]
  },
  {
   "cell_type": "code",
   "execution_count": 111,
   "id": "ea085ea7",
   "metadata": {
    "scrolled": false
   },
   "outputs": [],
   "source": [
    "# Commented out for time's sake.  The next visual is more helpful.\n",
    "\n",
    "# # This cell creates a chart showing customer tenure and monthly charges, differentiated by churn (\"1\" = Churn, \"0\" = No Churn)\n",
    "# plt.figure(figsize=(15,6))\n",
    "# plt.title(\"There is an apparent relationship between tenure and monthly charges\")\n",
    "# sns.scatterplot(y='monthly_charges', x=\"tenure\", data=telco_X_train, hue=telco_y_train)\n",
    "# plt.legend()\n",
    "# plt.show()\n",
    "# plt.tight_layout"
   ]
  },
  {
   "cell_type": "code",
   "execution_count": 112,
   "id": "3c0a7351",
   "metadata": {
    "scrolled": false
   },
   "outputs": [
    {
     "data": {
      "image/png": "[encoded data removed]",
      "text/plain": [
       "<Figure size 1137.62x360 with 3 Axes>"
      ]
     },
     "metadata": {
      "needs_background": "light"
     },
     "output_type": "display_data"
    }
   ],
   "source": [
    "# slight correlation. far less churn and higher tenure in two year contracts.  For what it's worth\n",
    "rel = sns.relplot(x='tenure', y='monthly_charges', data=telco_X_train, col=\"contract_type\", hue=telco_y_train)\n",
    "rel.fig.suptitle('Tenure to Monthly Charges by Contract Type') # One way to title a relplot\n",
    "plt.tight_layout()"
   ]
  },
  {
   "cell_type": "markdown",
   "id": "cadb037f",
   "metadata": {},
   "source": [
    "### The above charts imply generally more churn for shorter-tenured customers; less clear is the relationship between monthly charges and tenure.  Month-to-month contracts have visibly more churn than other contract durations."
   ]
  },
  {
   "cell_type": "markdown",
   "id": "c6c1216f",
   "metadata": {},
   "source": [
    "### My hypotheses regarding churn and tenure:\n",
    "\n",
    "    - 𝐻𝑜 : tenure among churn and non-churn is unrelated\n",
    "    - 𝐻𝑎 : tenure is related to churn\n",
    "\n",
    "    - We rejected the null hypothesis"
   ]
  },
  {
   "cell_type": "code",
   "execution_count": 22,
   "id": "84bc8e57",
   "metadata": {},
   "outputs": [
    {
     "name": "stdout",
     "output_type": "stream",
     "text": [
      "We reject the null hypothesis\n"
     ]
    },
    {
     "data": {
      "text/plain": [
       "(188603.0, 0.0)"
      ]
     },
     "execution_count": 22,
     "metadata": {},
     "output_type": "execute_result"
    }
   ],
   "source": [
    "# This cell runs a mann-whitney stats test on tenure vs. churn; the result shows a clear correlation.\n",
    "\n",
    "mann_whit, p_value = scipy.stats.mannwhitneyu(telco_X_train.tenure, telco_y_train, )\n",
    "\n",
    "\n",
    "if p_value < alpha:\n",
    "    print(\"We reject the null hypothesis\")\n",
    "else:\n",
    "    print(\"We fail to reject the null hypothesis\")\n",
    "    \n",
    "mann_whit, p_value"
   ]
  },
  {
   "cell_type": "code",
   "execution_count": 23,
   "id": "c67a5f3a",
   "metadata": {},
   "outputs": [
    {
     "name": "stderr",
     "output_type": "stream",
     "text": [
      "No handles with labels found to put in legend.\n"
     ]
    },
    {
     "data": {
      "image/png": "[encoded data removed]",
      "text/plain": [
       "<Figure size 1080x432 with 1 Axes>"
      ]
     },
     "metadata": {
      "needs_background": "light"
     },
     "output_type": "display_data"
    },
    {
     "data": {
      "text/plain": [
       "<function matplotlib.pyplot.tight_layout(*, pad=1.08, h_pad=None, w_pad=None, rect=None)>"
      ]
     },
     "execution_count": 23,
     "metadata": {},
     "output_type": "execute_result"
    }
   ],
   "source": [
    "# This cell compares total_charges, which have been separated in 8 bins, to churn\n",
    "plt.figure(figsize=(15,6))\n",
    "plt.title(\"Churn goes down as total charges go up...up to a point\")\n",
    "sns.barplot(y=telco_y_train, x=\"total_charges_bins\", data=telco_X_train)\n",
    "plt.legend()\n",
    "plt.show()\n",
    "plt.tight_layout"
   ]
  },
  {
   "cell_type": "markdown",
   "id": "28736fd3",
   "metadata": {},
   "source": [
    "### The above chart shows that there is a a point at which, as total charges rise, our customers' churn rate rises before falling again."
   ]
  },
  {
   "cell_type": "markdown",
   "id": "a02449fa",
   "metadata": {},
   "source": [
    "### Answer to Research Question 3:\n",
    "\n",
    "Our mann-whitney test shows that we can proceed with the understanding that tenure is related to churn, obvious as it may seem; customer churn goes down as their lifetime value (measured in total charges) goes up. Interestingly, their is a point at which total charges point to a higher level of churn--perhaps an area for further exploration. "
   ]
  },
  {
   "cell_type": "markdown",
   "id": "4c3d1368",
   "metadata": {},
   "source": [
    "## Research Question 4\n",
    "\n",
    "How does the electronic check payment method relates to higher churn?"
   ]
  },
  {
   "cell_type": "code",
   "execution_count": 31,
   "id": "99062f9d",
   "metadata": {
    "scrolled": true
   },
   "outputs": [
    {
     "data": {
      "text/plain": [
       "<AxesSubplot:title={'center':'Way higher churn for electronic check'}, xlabel='payment_type', ylabel='churn_Yes'>"
      ]
     },
     "execution_count": 31,
     "metadata": {},
     "output_type": "execute_result"
    },
    {
     "data": {
      "image/png": "[encoded data removed]",
      "text/plain": [
       "<Figure size 720x360 with 1 Axes>"
      ]
     },
     "metadata": {
      "needs_background": "light"
     },
     "output_type": "display_data"
    }
   ],
   "source": [
    "# This simple yet effective chart shows the stark difference in churn for electronic check payments.\n",
    "plt.figure(figsize=(10,5))\n",
    "plt.title(\"Way higher churn for electronic check\")\n",
    "sns.barplot(y=telco_y_train, x= 'payment_type', data=telco_X_train)"
   ]
  },
  {
   "cell_type": "code",
   "execution_count": 32,
   "id": "17f78a0f",
   "metadata": {
    "scrolled": false
   },
   "outputs": [
    {
     "data": {
      "text/html": [
       "<div>\n",
       "<style scoped>\n",
       "    .dataframe tbody tr th:only-of-type {\n",
       "        vertical-align: middle;\n",
       "    }\n",
       "\n",
       "    .dataframe tbody tr th {\n",
       "        vertical-align: top;\n",
       "    }\n",
       "\n",
       "    .dataframe thead th {\n",
       "        text-align: right;\n",
       "    }\n",
       "</style>\n",
       "<table border=\"1\" class=\"dataframe\">\n",
       "  <thead>\n",
       "    <tr style=\"text-align: right;\">\n",
       "      <th>churn_Yes</th>\n",
       "      <th>0</th>\n",
       "      <th>1</th>\n",
       "    </tr>\n",
       "    <tr>\n",
       "      <th>payment_type_Electronic check</th>\n",
       "      <th></th>\n",
       "      <th></th>\n",
       "    </tr>\n",
       "  </thead>\n",
       "  <tbody>\n",
       "    <tr>\n",
       "      <th>0</th>\n",
       "      <td>2145</td>\n",
       "      <td>456</td>\n",
       "    </tr>\n",
       "    <tr>\n",
       "      <th>1</th>\n",
       "      <td>752</td>\n",
       "      <td>590</td>\n",
       "    </tr>\n",
       "  </tbody>\n",
       "</table>\n",
       "</div>"
      ],
      "text/plain": [
       "churn_Yes                         0    1\n",
       "payment_type_Electronic check           \n",
       "0                              2145  456\n",
       "1                               752  590"
      ]
     },
     "execution_count": 32,
     "metadata": {},
     "output_type": "execute_result"
    }
   ],
   "source": [
    "# This cell creates a crosstab for use in chi^2 testing.\n",
    "\n",
    "# Please note that we used the encoded column for electronic check\n",
    "# This way, we are running the test on echeck only (not on general 'payment method' vs. 'churn')\n",
    "\n",
    "observed_payment_type_Electronic_check = pd.crosstab(telco_X_train['payment_type_Electronic check'], telco_y_train)\n",
    "\n",
    "observed_payment_type_Electronic_check"
   ]
  },
  {
   "cell_type": "markdown",
   "id": "124db532",
   "metadata": {},
   "source": [
    "### My hypotheses vis-a-vis electronic check and churn:\n",
    "\n",
    "    - 𝐻𝑜 : paying by electronic check is unrelated to churn\n",
    "    - 𝐻𝑎 : paying by electronic check is related to churn\n",
    "    \n",
    "    - We rejected the null hypothesis after testing."
   ]
  },
  {
   "cell_type": "code",
   "execution_count": 33,
   "id": "b4729a18",
   "metadata": {},
   "outputs": [
    {
     "name": "stdout",
     "output_type": "stream",
     "text": [
      "Observed\n",
      "\n",
      "[[2145  456]\n",
      " [ 752  590]]\n",
      "---\n",
      "Expected\n",
      "\n",
      "[[1911  689]\n",
      " [ 985  356]]\n",
      "---\n",
      "\n",
      "chi^2 = 315.9791\n",
      "p     = 0.0000\n",
      "We reject the null hypothesis\n"
     ]
    }
   ],
   "source": [
    "# Creating various variables related to chi^2 testing and printing them below:\n",
    "\n",
    "chi2, p, degf, expected = stats.chi2_contingency(observed_payment_type_Electronic_check)\n",
    "print('Observed\\n')\n",
    "print(observed_payment_type_Electronic_check.values)\n",
    "print('---\\nExpected\\n')\n",
    "print(expected.astype(int))\n",
    "print('---\\n')\n",
    "print(f'chi^2 = {chi2:.4f}')\n",
    "print(f'p     = {p:.4f}')\n",
    "if p < alpha:\n",
    "    print(\"We reject the null hypothesis\")\n",
    "else:\n",
    "    print(\"We fail to reject the null hypothesis\")"
   ]
  },
  {
   "cell_type": "code",
   "execution_count": 34,
   "id": "b1dd366a",
   "metadata": {
    "scrolled": true
   },
   "outputs": [
    {
     "data": {
      "image/png": "[encoded data removed]",
      "text/plain": [
       "<Figure size 1080x432 with 1 Axes>"
      ]
     },
     "metadata": {
      "needs_background": "light"
     },
     "output_type": "display_data"
    },
    {
     "data": {
      "text/plain": [
       "<function matplotlib.pyplot.tight_layout(*, pad=1.08, h_pad=None, w_pad=None, rect=None)>"
      ]
     },
     "execution_count": 34,
     "metadata": {},
     "output_type": "execute_result"
    }
   ],
   "source": [
    "# This cell creates a seaborns barplot to emphasize that in spite of their higher churn,\n",
    "# customers paying with electronic check don't have considerably higher monthly charges.\n",
    "plt.figure(figsize=(15,6))\n",
    "plt.title(\"Electronic check payment is not strongly related to monthly charges\")\n",
    "sns.barplot(x=\"payment_type\", y='monthly_charges', data=telco_X_train, hue=\"contract_type\")\n",
    "plt.show()\n",
    "plt.tight_layout"
   ]
  },
  {
   "cell_type": "markdown",
   "id": "7e56f6ee",
   "metadata": {},
   "source": [
    "### Answer to Research Question 4:\n",
    "\n",
    "The seaborns charts and chi^2 test above demonstrate that paying by electronic check relates to higher churn--in spite of the fact that these customers are not paying very much more per month! One conclusion is that this form of payment relates to a lower commitment to the the company, and therefore higher churn."
   ]
  },
  {
   "cell_type": "markdown",
   "id": "df423230",
   "metadata": {},
   "source": [
    "## Summary, exploration:\n",
    "\n",
    "We can proceed with the understanding that customers with dependents churn less; additionally, it is clear from the charts that they are charged less but still provide a higher lifetime value.\n",
    "\n",
    "We can proceed with the understanding that paperless billing is related to churn; these customers also pay more every month.\n",
    "\n",
    "We can proceed with the understanding that tenure is related to churn. Interestingly, there is a point at which total charges point to a higher level of churn--perhaps an area for further exploration. \n",
    "\n",
    "Paying by electronic check relates to higher churn--in spite of the fact that these customers are not paying very much more per month.\n",
    "\n",
    "\n",
    "I'd like to proceed with the four features explored here in a future model; currently, my report includes modelling that uses most or all features."
   ]
  },
  {
   "cell_type": "markdown",
   "id": "085fddbb",
   "metadata": {},
   "source": [
    "# ON TO MODELLING"
   ]
  },
  {
   "cell_type": "markdown",
   "id": "ec3e77b6",
   "metadata": {},
   "source": [
    "### What are we optimizing for?  ACCURACY because we want to pinpoint the best we can the customers who will churn. Not a case of trying to prevent false positives or false negatives, etc; we must specifically identify as exactly as possible those who will churn.\n",
    "\n",
    "### The top performing models I built were Decision Tree, Random Forest, and KNN model; the best-performing of these, Random Forest, returned just over 74% accuracy."
   ]
  },
  {
   "cell_type": "markdown",
   "id": "45589a04",
   "metadata": {},
   "source": [
    "### What is our baseline? See the following cells:"
   ]
  },
  {
   "cell_type": "code",
   "execution_count": 35,
   "id": "79e9b3d4",
   "metadata": {},
   "outputs": [
    {
     "data": {
      "text/plain": [
       "0    2897\n",
       "1    1046\n",
       "Name: churn_Yes, dtype: int64"
      ]
     },
     "execution_count": 35,
     "metadata": {},
     "output_type": "execute_result"
    }
   ],
   "source": [
    "# Checking which y_tran value is higher to establish baseline. \"no churn\" wins.\n",
    "telco_y_train.value_counts()"
   ]
  },
  {
   "cell_type": "code",
   "execution_count": 36,
   "id": "715370c7",
   "metadata": {},
   "outputs": [],
   "source": [
    "# Creating a baseline column valued 0 (because no churn, '0', is the baseline)\n",
    "\n",
    "telco_X_train['baseline'] = 0\n",
    "telco_X_validate['baseline'] = 0\n",
    "telco_X_test['baseline']= 0"
   ]
  },
  {
   "cell_type": "code",
   "execution_count": 37,
   "id": "a3567590",
   "metadata": {},
   "outputs": [
    {
     "name": "stdout",
     "output_type": "stream",
     "text": [
      "baseline accuracy: 73.47%\n"
     ]
    }
   ],
   "source": [
    "# Baseline accuracy\n",
    "baseline_accuracy = (telco_y_train == telco_X_train.baseline).mean()\n",
    "\n",
    "# print(f'model1 accuracy: {model1_accuracy:.2%}')\n",
    "# print(f'model2 accuracy: {model2_accuracy:.2%}')\n",
    "# print(f'model3 accuracy: {model3_accuracy:.2%}')\n",
    "print(f'baseline accuracy: {baseline_accuracy:.2%}')"
   ]
  },
  {
   "cell_type": "code",
   "execution_count": 38,
   "id": "051cee19",
   "metadata": {},
   "outputs": [],
   "source": [
    "# The decision tree model was throwing errors bc of the string type data in the train set.\n",
    "# This code uses a function i made to encode and drop columns for the model.  \n",
    "\n",
    "telco_X_train_encoded = prepare.cols_to_dummy(telco_X_train)\n",
    "\n",
    "# there were a large number of NaNs in the resulting df, so this code drops them\n",
    "telco_X_train_encoded = telco_X_train_encoded.dropna()\n",
    "\n",
    "# Repeat on validate and test sets:\n",
    "telco_X_validate_encoded = prepare.cols_to_dummy(telco_X_validate)\n",
    "telco_X_validate_encoded = telco_X_validate_encoded.dropna()\n",
    "\n",
    "telco_X_test_encoded = prepare.cols_to_dummy(telco_X_test)\n",
    "telco_X_test_encoded = telco_X_test_encoded.dropna()"
   ]
  },
  {
   "cell_type": "markdown",
   "id": "8d78f0b7",
   "metadata": {},
   "source": [
    "# Decision Tree Model"
   ]
  },
  {
   "cell_type": "markdown",
   "id": "7449dfb1",
   "metadata": {},
   "source": [
    "## I'm going to iterate at different max depths in the following cell"
   ]
  },
  {
   "cell_type": "code",
   "execution_count": 39,
   "id": "e923638f",
   "metadata": {},
   "outputs": [
    {
     "name": "stdout",
     "output_type": "stream",
     "text": [
      "Tree with max depth of 1\n",
      "                     0            1  accuracy    macro avg  weighted avg\n",
      "precision     0.735466     1.000000  0.735734     0.867733      0.805642\n",
      "recall        1.000000     0.003824  0.735734     0.501912      0.735734\n",
      "f1-score      0.847572     0.007619  0.735734     0.427595      0.624749\n",
      "support    2897.000000  1046.000000  0.735734  3943.000000   3943.000000\n",
      "\n",
      "Tree with max depth of 2\n",
      "                     0            1  accuracy    macro avg  weighted avg\n",
      "precision     0.735466     1.000000  0.735734     0.867733      0.805642\n",
      "recall        1.000000     0.003824  0.735734     0.501912      0.735734\n",
      "f1-score      0.847572     0.007619  0.735734     0.427595      0.624749\n",
      "support    2897.000000  1046.000000  0.735734  3943.000000   3943.000000\n",
      "\n",
      "Tree with max depth of 3\n",
      "                     0            1  accuracy    macro avg  weighted avg\n",
      "precision     0.735466     1.000000  0.735734     0.867733      0.805642\n",
      "recall        1.000000     0.003824  0.735734     0.501912      0.735734\n",
      "f1-score      0.847572     0.007619  0.735734     0.427595      0.624749\n",
      "support    2897.000000  1046.000000  0.735734  3943.000000   3943.000000\n",
      "\n",
      "Tree with max depth of 4\n",
      "                     0            1  accuracy    macro avg  weighted avg\n",
      "precision     0.737567     0.772727  0.737763     0.755147      0.746894\n",
      "recall        0.998274     0.016252  0.737763     0.507263      0.737763\n",
      "f1-score      0.848343     0.031835  0.737763     0.440089      0.631739\n",
      "support    2897.000000  1046.000000  0.737763  3943.000000   3943.000000\n",
      "\n",
      "Tree with max depth of 5\n",
      "                     0            1  accuracy    macro avg  weighted avg\n",
      "precision     0.739097     0.644444  0.738017     0.691771      0.713988\n",
      "recall        0.994477     0.027725  0.738017     0.511101      0.738017\n",
      "f1-score      0.847976     0.053162  0.738017     0.450569      0.637128\n",
      "support    2897.000000  1046.000000  0.738017  3943.000000   3943.000000\n",
      "\n",
      "Tree with max depth of 6\n",
      "                     0            1  accuracy    macro avg  weighted avg\n",
      "precision     0.741035     0.897436  0.742582     0.819235      0.782525\n",
      "recall        0.998619     0.033461  0.742582     0.516040      0.742582\n",
      "f1-score      0.850757     0.064516  0.742582     0.457637      0.642183\n",
      "support    2897.000000  1046.000000  0.742582  3943.000000   3943.000000\n",
      "\n",
      "Tree with max depth of 7\n",
      "                     0            1  accuracy    macro avg  weighted avg\n",
      "precision     0.747210     0.800000  0.748415     0.773605      0.761214\n",
      "recall        0.993787     0.068834  0.748415     0.531310      0.748415\n",
      "f1-score      0.853037     0.126761  0.748415     0.489899      0.660370\n",
      "support    2897.000000  1046.000000  0.748415  3943.000000   3943.000000\n",
      "\n",
      "Tree with max depth of 8\n",
      "                     0            1  accuracy    macro avg  weighted avg\n",
      "precision     0.751825     0.878505  0.755262     0.815165      0.785430\n",
      "recall        0.995513     0.089866  0.755262     0.542689      0.755262\n",
      "f1-score      0.856676     0.163053  0.755262     0.509864      0.672672\n",
      "support    2897.000000  1046.000000  0.755262  3943.000000   3943.000000\n",
      "\n",
      "Tree with max depth of 9\n",
      "                     0            1  accuracy    macro avg  weighted avg\n",
      "precision     0.756289     0.913386  0.761349     0.834838      0.797964\n",
      "recall        0.996203     0.110899  0.761349     0.553551      0.761349\n",
      "f1-score      0.859824     0.197783  0.761349     0.528804      0.684198\n",
      "support    2897.000000  1046.000000  0.761349  3943.000000   3943.000000\n",
      "\n",
      "Tree with max depth of 10\n",
      "                     0            1  accuracy    macro avg  weighted avg\n",
      "precision     0.766355     0.863636   0.77124     0.814996      0.792162\n",
      "recall        0.990680     0.163480   0.77124     0.577080      0.771240\n",
      "f1-score      0.864198     0.274920   0.77124     0.569559      0.707874\n",
      "support    2897.000000  1046.000000   0.77124  3943.000000   3943.000000\n",
      "\n",
      "Tree with max depth of 11\n",
      "                     0            1  accuracy    macro avg  weighted avg\n",
      "precision     0.774939     0.933036  0.783921     0.853988      0.816879\n",
      "recall        0.994822     0.199809  0.783921     0.597316      0.783921\n",
      "f1-score      0.871221     0.329134  0.783921     0.600178      0.727416\n",
      "support    2897.000000  1046.000000  0.783921  3943.000000   3943.000000\n",
      "\n",
      "Tree with max depth of 12\n",
      "                     0            1  accuracy    macro avg  weighted avg\n",
      "precision     0.794192     0.853591  0.799645     0.823891      0.809949\n",
      "recall        0.981705     0.295411  0.799645     0.638558      0.799645\n",
      "f1-score      0.878049     0.438920  0.799645     0.658485      0.761557\n",
      "support    2897.000000  1046.000000  0.799645  3943.000000   3943.000000\n",
      "\n",
      "Tree with max depth of 13\n",
      "                     0            1  accuracy    macro avg  weighted avg\n",
      "precision     0.803136     0.922043  0.814355     0.862590      0.834680\n",
      "recall        0.989990     0.327916  0.814355     0.658953      0.814355\n",
      "f1-score      0.886827     0.483780  0.814355     0.685304      0.779907\n",
      "support    2897.000000  1046.000000  0.814355  3943.000000   3943.000000\n",
      "\n",
      "Tree with max depth of 14\n",
      "                     0            1  accuracy    macro avg  weighted avg\n",
      "precision     0.825181     0.905738  0.835151     0.865459      0.846551\n",
      "recall        0.984122     0.422562  0.835151     0.703342      0.835151\n",
      "f1-score      0.897670     0.576271  0.835151     0.736971      0.812409\n",
      "support    2897.000000  1046.000000  0.835151  3943.000000   3943.000000\n",
      "\n",
      "Tree with max depth of 15\n",
      "                     0            1  accuracy    macro avg  weighted avg\n",
      "precision     0.845192     0.900685  0.853411     0.872938      0.859913\n",
      "recall        0.979979     0.502868  0.853411     0.741424      0.853411\n",
      "f1-score      0.907609     0.645399  0.853411     0.776504      0.838050\n",
      "support    2897.000000  1046.000000  0.853411  3943.000000   3943.000000\n",
      "\n",
      "Tree with max depth of 16\n",
      "                     0            1  accuracy    macro avg  weighted avg\n",
      "precision     0.865104     0.915023  0.873447     0.890063      0.878346\n",
      "recall        0.980670     0.576482  0.873447     0.778576      0.873447\n",
      "f1-score      0.919269     0.707331  0.873447     0.813300      0.863046\n",
      "support    2897.000000  1046.000000  0.873447  3943.000000   3943.000000\n",
      "\n",
      "Tree with max depth of 17\n",
      "                     0            1  accuracy    macro avg  weighted avg\n",
      "precision     0.874273     0.942136  0.885874     0.908205      0.892276\n",
      "recall        0.986538     0.607075  0.885874     0.796806      0.885874\n",
      "f1-score      0.927019     0.738372  0.885874     0.832696      0.876975\n",
      "support    2897.000000  1046.000000  0.885874  3943.000000   3943.000000\n",
      "\n",
      "Tree with max depth of 18\n",
      "                     0            1  accuracy    macro avg  weighted avg\n",
      "precision     0.896541     0.939712  0.904895     0.918126      0.907993\n",
      "recall        0.984122     0.685468  0.904895     0.834795      0.904895\n",
      "f1-score      0.938292     0.792703  0.904895     0.865498      0.899670\n",
      "support    2897.000000  1046.000000  0.904895  3943.000000   3943.000000\n",
      "\n",
      "Tree with max depth of 19\n",
      "                     0            1  accuracy    macro avg  weighted avg\n",
      "precision     0.908457     0.963104  0.919351     0.935781      0.922954\n",
      "recall        0.989990     0.723709  0.919351     0.856850      0.919351\n",
      "f1-score      0.947473     0.826419  0.919351     0.886946      0.915360\n",
      "support    2897.000000  1046.000000  0.919351  3943.000000   3943.000000\n",
      "\n",
      "Tree with max depth of 20\n",
      "                     0            1  accuracy    macro avg  weighted avg\n",
      "precision     0.928967     0.947368  0.933046     0.938168      0.933849\n",
      "recall        0.984122     0.791587  0.933046     0.887854      0.933046\n",
      "f1-score      0.955749     0.862500  0.933046     0.909125      0.931012\n",
      "support    2897.000000  1046.000000  0.933046  3943.000000   3943.000000\n",
      "\n"
     ]
    }
   ],
   "source": [
    "# This is Adam's 'for' loop\n",
    "for i in range(1,21):\n",
    "    # Make the model\n",
    "    tree = DecisionTreeClassifier(max_depth=i, random_state=123)\n",
    "    # Fit the model (on train and only train)\n",
    "    tree = tree.fit(telco_X_train_encoded, telco_y_train)\n",
    "    # Use the model\n",
    "    y_predictions = tree.predict(telco_X_train_encoded)\n",
    "    # Produce the classification report on the actual y values and this model's predicted y values\n",
    "    report = classification_report(telco_y_train, y_predictions, output_dict=True)\n",
    "    print(f\"Tree with max depth of {i}\")\n",
    "    print(pd.DataFrame(report))\n",
    "    print()"
   ]
  },
  {
   "cell_type": "code",
   "execution_count": 40,
   "id": "85f7d408",
   "metadata": {},
   "outputs": [
    {
     "data": {
      "text/html": [
       "<div>\n",
       "<style scoped>\n",
       "    .dataframe tbody tr th:only-of-type {\n",
       "        vertical-align: middle;\n",
       "    }\n",
       "\n",
       "    .dataframe tbody tr th {\n",
       "        vertical-align: top;\n",
       "    }\n",
       "\n",
       "    .dataframe thead th {\n",
       "        text-align: right;\n",
       "    }\n",
       "</style>\n",
       "<table border=\"1\" class=\"dataframe\">\n",
       "  <thead>\n",
       "    <tr style=\"text-align: right;\">\n",
       "      <th></th>\n",
       "      <th>max_depth</th>\n",
       "      <th>train_accuracy</th>\n",
       "      <th>validate_accuracy</th>\n",
       "      <th>difference</th>\n",
       "    </tr>\n",
       "  </thead>\n",
       "  <tbody>\n",
       "    <tr>\n",
       "      <th>0</th>\n",
       "      <td>1</td>\n",
       "      <td>0.735734</td>\n",
       "      <td>0.733885</td>\n",
       "      <td>0.001849</td>\n",
       "    </tr>\n",
       "    <tr>\n",
       "      <th>1</th>\n",
       "      <td>2</td>\n",
       "      <td>0.735734</td>\n",
       "      <td>0.733885</td>\n",
       "      <td>0.001849</td>\n",
       "    </tr>\n",
       "    <tr>\n",
       "      <th>2</th>\n",
       "      <td>3</td>\n",
       "      <td>0.735734</td>\n",
       "      <td>0.733885</td>\n",
       "      <td>0.001849</td>\n",
       "    </tr>\n",
       "    <tr>\n",
       "      <th>3</th>\n",
       "      <td>4</td>\n",
       "      <td>0.737763</td>\n",
       "      <td>0.730337</td>\n",
       "      <td>0.007426</td>\n",
       "    </tr>\n",
       "    <tr>\n",
       "      <th>4</th>\n",
       "      <td>5</td>\n",
       "      <td>0.738017</td>\n",
       "      <td>0.726789</td>\n",
       "      <td>0.011228</td>\n",
       "    </tr>\n",
       "    <tr>\n",
       "      <th>5</th>\n",
       "      <td>6</td>\n",
       "      <td>0.742582</td>\n",
       "      <td>0.727972</td>\n",
       "      <td>0.014610</td>\n",
       "    </tr>\n",
       "    <tr>\n",
       "      <th>6</th>\n",
       "      <td>7</td>\n",
       "      <td>0.748415</td>\n",
       "      <td>0.721467</td>\n",
       "      <td>0.026948</td>\n",
       "    </tr>\n",
       "    <tr>\n",
       "      <th>7</th>\n",
       "      <td>8</td>\n",
       "      <td>0.755262</td>\n",
       "      <td>0.715553</td>\n",
       "      <td>0.039710</td>\n",
       "    </tr>\n",
       "    <tr>\n",
       "      <th>8</th>\n",
       "      <td>9</td>\n",
       "      <td>0.761349</td>\n",
       "      <td>0.715553</td>\n",
       "      <td>0.045796</td>\n",
       "    </tr>\n",
       "    <tr>\n",
       "      <th>9</th>\n",
       "      <td>10</td>\n",
       "      <td>0.771240</td>\n",
       "      <td>0.707274</td>\n",
       "      <td>0.063966</td>\n",
       "    </tr>\n",
       "    <tr>\n",
       "      <th>10</th>\n",
       "      <td>11</td>\n",
       "      <td>0.783921</td>\n",
       "      <td>0.704317</td>\n",
       "      <td>0.079604</td>\n",
       "    </tr>\n",
       "    <tr>\n",
       "      <th>11</th>\n",
       "      <td>12</td>\n",
       "      <td>0.799645</td>\n",
       "      <td>0.687167</td>\n",
       "      <td>0.112478</td>\n",
       "    </tr>\n",
       "    <tr>\n",
       "      <th>12</th>\n",
       "      <td>13</td>\n",
       "      <td>0.814355</td>\n",
       "      <td>0.689533</td>\n",
       "      <td>0.124822</td>\n",
       "    </tr>\n",
       "    <tr>\n",
       "      <th>13</th>\n",
       "      <td>14</td>\n",
       "      <td>0.835151</td>\n",
       "      <td>0.675931</td>\n",
       "      <td>0.159219</td>\n",
       "    </tr>\n",
       "    <tr>\n",
       "      <th>14</th>\n",
       "      <td>15</td>\n",
       "      <td>0.853411</td>\n",
       "      <td>0.667061</td>\n",
       "      <td>0.186350</td>\n",
       "    </tr>\n",
       "    <tr>\n",
       "      <th>15</th>\n",
       "      <td>16</td>\n",
       "      <td>0.873447</td>\n",
       "      <td>0.661147</td>\n",
       "      <td>0.212299</td>\n",
       "    </tr>\n",
       "    <tr>\n",
       "      <th>16</th>\n",
       "      <td>17</td>\n",
       "      <td>0.885874</td>\n",
       "      <td>0.655825</td>\n",
       "      <td>0.230049</td>\n",
       "    </tr>\n",
       "    <tr>\n",
       "      <th>17</th>\n",
       "      <td>18</td>\n",
       "      <td>0.904895</td>\n",
       "      <td>0.651094</td>\n",
       "      <td>0.253801</td>\n",
       "    </tr>\n",
       "    <tr>\n",
       "      <th>18</th>\n",
       "      <td>19</td>\n",
       "      <td>0.919351</td>\n",
       "      <td>0.646954</td>\n",
       "      <td>0.272396</td>\n",
       "    </tr>\n",
       "    <tr>\n",
       "      <th>19</th>\n",
       "      <td>20</td>\n",
       "      <td>0.933046</td>\n",
       "      <td>0.630396</td>\n",
       "      <td>0.302650</td>\n",
       "    </tr>\n",
       "  </tbody>\n",
       "</table>\n",
       "</div>"
      ],
      "text/plain": [
       "    max_depth  train_accuracy  validate_accuracy  difference\n",
       "0           1        0.735734           0.733885    0.001849\n",
       "1           2        0.735734           0.733885    0.001849\n",
       "2           3        0.735734           0.733885    0.001849\n",
       "3           4        0.737763           0.730337    0.007426\n",
       "4           5        0.738017           0.726789    0.011228\n",
       "5           6        0.742582           0.727972    0.014610\n",
       "6           7        0.748415           0.721467    0.026948\n",
       "7           8        0.755262           0.715553    0.039710\n",
       "8           9        0.761349           0.715553    0.045796\n",
       "9          10        0.771240           0.707274    0.063966\n",
       "10         11        0.783921           0.704317    0.079604\n",
       "11         12        0.799645           0.687167    0.112478\n",
       "12         13        0.814355           0.689533    0.124822\n",
       "13         14        0.835151           0.675931    0.159219\n",
       "14         15        0.853411           0.667061    0.186350\n",
       "15         16        0.873447           0.661147    0.212299\n",
       "16         17        0.885874           0.655825    0.230049\n",
       "17         18        0.904895           0.651094    0.253801\n",
       "18         19        0.919351           0.646954    0.272396\n",
       "19         20        0.933046           0.630396    0.302650"
      ]
     },
     "execution_count": 40,
     "metadata": {},
     "output_type": "execute_result"
    }
   ],
   "source": [
    "# Adam's code for a nice, clean view:\n",
    "metrics = []\n",
    "\n",
    "for i in range(1, 21):\n",
    "    # Make the model\n",
    "    tree = DecisionTreeClassifier(max_depth=i, random_state=123)\n",
    "    # Fit the model (on train and only train)\n",
    "    tree = tree.fit(telco_X_train_encoded, telco_y_train)\n",
    "    # Use the model\n",
    "        # The following line runs the accuracy test on the train data set\n",
    "    in_sample_accuracy = tree.score(telco_X_train_encoded, telco_y_train)\n",
    "        # This line runs it on the validate set\n",
    "    out_of_sample_accuracy = tree.score(telco_X_validate_encoded, telco_y_validate)\n",
    "    output = {\n",
    "        \"max_depth\": i,\n",
    "        \"train_accuracy\": in_sample_accuracy,\n",
    "        \"validate_accuracy\": out_of_sample_accuracy\n",
    "    }\n",
    "    \n",
    "    metrics.append(output)\n",
    "    \n",
    "df = pd.DataFrame(metrics)\n",
    "df[\"difference\"] = df.train_accuracy - df.validate_accuracy\n",
    "df\n",
    "\n",
    "# The resulting dataframe returns the accuracy for both datasets and the difference between them\n",
    "# This will help us decide which max depth provides an adequate accuracy on 'validate,' without overfit"
   ]
  },
  {
   "cell_type": "code",
   "execution_count": 41,
   "id": "81c268c1",
   "metadata": {},
   "outputs": [],
   "source": [
    "# Commenting out this code, since I didn't ultimately choose the Decision Tree as my best model.\n",
    "\n",
    "# df.set_index('max_depth')[['train_accuracy', 'validate_accuracy','difference']].plot(figsize = (16,9))\n",
    "# plt.ylabel('Accuracy')\n",
    "# plt.xticks(np.arange(0,21,1))\n",
    "# plt.grid()"
   ]
  },
  {
   "cell_type": "code",
   "execution_count": 42,
   "id": "753f919f",
   "metadata": {},
   "outputs": [
    {
     "data": {
      "text/html": [
       "<div>\n",
       "<style scoped>\n",
       "    .dataframe tbody tr th:only-of-type {\n",
       "        vertical-align: middle;\n",
       "    }\n",
       "\n",
       "    .dataframe tbody tr th {\n",
       "        vertical-align: top;\n",
       "    }\n",
       "\n",
       "    .dataframe thead th {\n",
       "        text-align: right;\n",
       "    }\n",
       "</style>\n",
       "<table border=\"1\" class=\"dataframe\">\n",
       "  <thead>\n",
       "    <tr style=\"text-align: right;\">\n",
       "      <th></th>\n",
       "      <th>max_depth</th>\n",
       "      <th>train_accuracy</th>\n",
       "      <th>validate_accuracy</th>\n",
       "      <th>difference</th>\n",
       "    </tr>\n",
       "  </thead>\n",
       "  <tbody>\n",
       "    <tr>\n",
       "      <th>0</th>\n",
       "      <td>1</td>\n",
       "      <td>0.735734</td>\n",
       "      <td>0.733885</td>\n",
       "      <td>0.001849</td>\n",
       "    </tr>\n",
       "    <tr>\n",
       "      <th>1</th>\n",
       "      <td>2</td>\n",
       "      <td>0.735734</td>\n",
       "      <td>0.733885</td>\n",
       "      <td>0.001849</td>\n",
       "    </tr>\n",
       "    <tr>\n",
       "      <th>2</th>\n",
       "      <td>3</td>\n",
       "      <td>0.735734</td>\n",
       "      <td>0.733885</td>\n",
       "      <td>0.001849</td>\n",
       "    </tr>\n",
       "    <tr>\n",
       "      <th>3</th>\n",
       "      <td>4</td>\n",
       "      <td>0.737763</td>\n",
       "      <td>0.730337</td>\n",
       "      <td>0.007426</td>\n",
       "    </tr>\n",
       "    <tr>\n",
       "      <th>5</th>\n",
       "      <td>6</td>\n",
       "      <td>0.742582</td>\n",
       "      <td>0.727972</td>\n",
       "      <td>0.014610</td>\n",
       "    </tr>\n",
       "    <tr>\n",
       "      <th>4</th>\n",
       "      <td>5</td>\n",
       "      <td>0.738017</td>\n",
       "      <td>0.726789</td>\n",
       "      <td>0.011228</td>\n",
       "    </tr>\n",
       "    <tr>\n",
       "      <th>6</th>\n",
       "      <td>7</td>\n",
       "      <td>0.748415</td>\n",
       "      <td>0.721467</td>\n",
       "      <td>0.026948</td>\n",
       "    </tr>\n",
       "    <tr>\n",
       "      <th>7</th>\n",
       "      <td>8</td>\n",
       "      <td>0.755262</td>\n",
       "      <td>0.715553</td>\n",
       "      <td>0.039710</td>\n",
       "    </tr>\n",
       "    <tr>\n",
       "      <th>8</th>\n",
       "      <td>9</td>\n",
       "      <td>0.761349</td>\n",
       "      <td>0.715553</td>\n",
       "      <td>0.045796</td>\n",
       "    </tr>\n",
       "    <tr>\n",
       "      <th>9</th>\n",
       "      <td>10</td>\n",
       "      <td>0.771240</td>\n",
       "      <td>0.707274</td>\n",
       "      <td>0.063966</td>\n",
       "    </tr>\n",
       "    <tr>\n",
       "      <th>10</th>\n",
       "      <td>11</td>\n",
       "      <td>0.783921</td>\n",
       "      <td>0.704317</td>\n",
       "      <td>0.079604</td>\n",
       "    </tr>\n",
       "  </tbody>\n",
       "</table>\n",
       "</div>"
      ],
      "text/plain": [
       "    max_depth  train_accuracy  validate_accuracy  difference\n",
       "0           1        0.735734           0.733885    0.001849\n",
       "1           2        0.735734           0.733885    0.001849\n",
       "2           3        0.735734           0.733885    0.001849\n",
       "3           4        0.737763           0.730337    0.007426\n",
       "5           6        0.742582           0.727972    0.014610\n",
       "4           5        0.738017           0.726789    0.011228\n",
       "6           7        0.748415           0.721467    0.026948\n",
       "7           8        0.755262           0.715553    0.039710\n",
       "8           9        0.761349           0.715553    0.045796\n",
       "9          10        0.771240           0.707274    0.063966\n",
       "10         11        0.783921           0.704317    0.079604"
      ]
     },
     "execution_count": 42,
     "metadata": {},
     "output_type": "execute_result"
    }
   ],
   "source": [
    "# Here, we're comparing differences between the train and validate data sets\n",
    "# We throw out any differences above a certain amount (.10) and order by difference as a tie-breaker\n",
    "df[df.difference <= 0.10].sort_values(by=['validate_accuracy', 'difference'], ascending = [False,True])\n",
    "\n",
    "# The best max_depth, following these criteria, is 1\n",
    "# Unfortunately, this doesn't beat baseline."
   ]
  },
  {
   "cell_type": "markdown",
   "id": "94933058",
   "metadata": {},
   "source": [
    "## Given the baseline accuracy, none of the Decision Tree models is very satisfactory"
   ]
  },
  {
   "cell_type": "markdown",
   "id": "3a08ea77",
   "metadata": {},
   "source": [
    "# Random Forest"
   ]
  },
  {
   "cell_type": "code",
   "execution_count": 43,
   "id": "b9fcebee",
   "metadata": {},
   "outputs": [
    {
     "data": {
      "text/html": [
       "<div>\n",
       "<style scoped>\n",
       "    .dataframe tbody tr th:only-of-type {\n",
       "        vertical-align: middle;\n",
       "    }\n",
       "\n",
       "    .dataframe tbody tr th {\n",
       "        vertical-align: top;\n",
       "    }\n",
       "\n",
       "    .dataframe thead th {\n",
       "        text-align: right;\n",
       "    }\n",
       "</style>\n",
       "<table border=\"1\" class=\"dataframe\">\n",
       "  <thead>\n",
       "    <tr style=\"text-align: right;\">\n",
       "      <th></th>\n",
       "      <th>max_depth</th>\n",
       "      <th>min_leaves</th>\n",
       "      <th>train_accuracy</th>\n",
       "      <th>validate_accuracy</th>\n",
       "      <th>difference</th>\n",
       "    </tr>\n",
       "  </thead>\n",
       "  <tbody>\n",
       "    <tr>\n",
       "      <th>0</th>\n",
       "      <td>20</td>\n",
       "      <td>1</td>\n",
       "      <td>0.996957</td>\n",
       "      <td>0.729154</td>\n",
       "      <td>0.267802</td>\n",
       "    </tr>\n",
       "    <tr>\n",
       "      <th>1</th>\n",
       "      <td>20</td>\n",
       "      <td>2</td>\n",
       "      <td>0.872686</td>\n",
       "      <td>0.729746</td>\n",
       "      <td>0.142940</td>\n",
       "    </tr>\n",
       "    <tr>\n",
       "      <th>2</th>\n",
       "      <td>20</td>\n",
       "      <td>3</td>\n",
       "      <td>0.780624</td>\n",
       "      <td>0.735068</td>\n",
       "      <td>0.045556</td>\n",
       "    </tr>\n",
       "    <tr>\n",
       "      <th>3</th>\n",
       "      <td>20</td>\n",
       "      <td>4</td>\n",
       "      <td>0.747147</td>\n",
       "      <td>0.733885</td>\n",
       "      <td>0.013262</td>\n",
       "    </tr>\n",
       "    <tr>\n",
       "      <th>4</th>\n",
       "      <td>20</td>\n",
       "      <td>5</td>\n",
       "      <td>0.739538</td>\n",
       "      <td>0.734477</td>\n",
       "      <td>0.005062</td>\n",
       "    </tr>\n",
       "    <tr>\n",
       "      <th>...</th>\n",
       "      <td>...</td>\n",
       "      <td>...</td>\n",
       "      <td>...</td>\n",
       "      <td>...</td>\n",
       "      <td>...</td>\n",
       "    </tr>\n",
       "    <tr>\n",
       "      <th>395</th>\n",
       "      <td>1</td>\n",
       "      <td>16</td>\n",
       "      <td>0.734720</td>\n",
       "      <td>0.734477</td>\n",
       "      <td>0.000243</td>\n",
       "    </tr>\n",
       "    <tr>\n",
       "      <th>396</th>\n",
       "      <td>1</td>\n",
       "      <td>17</td>\n",
       "      <td>0.734720</td>\n",
       "      <td>0.734477</td>\n",
       "      <td>0.000243</td>\n",
       "    </tr>\n",
       "    <tr>\n",
       "      <th>397</th>\n",
       "      <td>1</td>\n",
       "      <td>18</td>\n",
       "      <td>0.734720</td>\n",
       "      <td>0.734477</td>\n",
       "      <td>0.000243</td>\n",
       "    </tr>\n",
       "    <tr>\n",
       "      <th>398</th>\n",
       "      <td>1</td>\n",
       "      <td>19</td>\n",
       "      <td>0.734720</td>\n",
       "      <td>0.734477</td>\n",
       "      <td>0.000243</td>\n",
       "    </tr>\n",
       "    <tr>\n",
       "      <th>399</th>\n",
       "      <td>1</td>\n",
       "      <td>20</td>\n",
       "      <td>0.734720</td>\n",
       "      <td>0.734477</td>\n",
       "      <td>0.000243</td>\n",
       "    </tr>\n",
       "  </tbody>\n",
       "</table>\n",
       "<p>400 rows × 5 columns</p>\n",
       "</div>"
      ],
      "text/plain": [
       "     max_depth  min_leaves  train_accuracy  validate_accuracy  difference\n",
       "0           20           1        0.996957           0.729154    0.267802\n",
       "1           20           2        0.872686           0.729746    0.142940\n",
       "2           20           3        0.780624           0.735068    0.045556\n",
       "3           20           4        0.747147           0.733885    0.013262\n",
       "4           20           5        0.739538           0.734477    0.005062\n",
       "..         ...         ...             ...                ...         ...\n",
       "395          1          16        0.734720           0.734477    0.000243\n",
       "396          1          17        0.734720           0.734477    0.000243\n",
       "397          1          18        0.734720           0.734477    0.000243\n",
       "398          1          19        0.734720           0.734477    0.000243\n",
       "399          1          20        0.734720           0.734477    0.000243\n",
       "\n",
       "[400 rows x 5 columns]"
      ]
     },
     "execution_count": 43,
     "metadata": {},
     "output_type": "execute_result"
    }
   ],
   "source": [
    "# Creating lists that i can put into a DF for easy comparison below\n",
    "\n",
    "# Also, this for loop is creating a list of every possible min_samples_leaf for every max_depth\n",
    "        # in other words, 20 max_depths * 20 min_leaves\n",
    "\n",
    "\n",
    "metrics = []\n",
    "\n",
    "for i in range(20,0, -1):\n",
    "    for n in range(1, 21):\n",
    "        # Make the model\n",
    "        forest = RandomForestClassifier(max_depth=i, min_samples_leaf=n)\n",
    "        # Fit the model (on train and only train)\n",
    "        forest.fit(telco_X_train_encoded, telco_y_train)\n",
    "\n",
    "        # Use the model\n",
    "        # We'll evaluate the model's performance on train, first\n",
    "        in_sample_accuracy = forest.score(telco_X_train_encoded, telco_y_train)\n",
    "        # And then on validate:\n",
    "        out_of_sample_accuracy = forest.score(telco_X_validate_encoded, telco_y_validate)\n",
    "\n",
    "        output = {\n",
    "            \"max_depth\": i,\n",
    "            \"min_leaves\": n,\n",
    "            \"train_accuracy\": in_sample_accuracy,\n",
    "            \"validate_accuracy\": out_of_sample_accuracy\n",
    "        }\n",
    "\n",
    "        metrics.append(output)\n",
    "\n",
    "df = pd.DataFrame(metrics)\n",
    "df[\"difference\"] = df.train_accuracy - df.validate_accuracy\n",
    "df\n",
    "\n",
    "# The result, much like with the Decision Tree, is a dataframe that makes comparison of the accuracies easier"
   ]
  },
  {
   "cell_type": "code",
   "execution_count": 44,
   "id": "0d538cb1",
   "metadata": {},
   "outputs": [
    {
     "data": {
      "image/png": "[encoded data removed]",
      "text/plain": [
       "<Figure size 1152x648 with 1 Axes>"
      ]
     },
     "metadata": {
      "needs_background": "light"
     },
     "output_type": "display_data"
    }
   ],
   "source": [
    "# Graph of the above:\n",
    "\n",
    "df.set_index('max_depth')[['train_accuracy', 'validate_accuracy','difference']].plot(figsize = (16,9))\n",
    "plt.ylabel('Accuracy')\n",
    "plt.xticks(np.arange(0,21,1))\n",
    "plt.grid()"
   ]
  },
  {
   "cell_type": "code",
   "execution_count": 45,
   "id": "23b6c77a",
   "metadata": {},
   "outputs": [
    {
     "data": {
      "text/html": [
       "<div>\n",
       "<style scoped>\n",
       "    .dataframe tbody tr th:only-of-type {\n",
       "        vertical-align: middle;\n",
       "    }\n",
       "\n",
       "    .dataframe tbody tr th {\n",
       "        vertical-align: top;\n",
       "    }\n",
       "\n",
       "    .dataframe thead th {\n",
       "        text-align: right;\n",
       "    }\n",
       "</style>\n",
       "<table border=\"1\" class=\"dataframe\">\n",
       "  <thead>\n",
       "    <tr style=\"text-align: right;\">\n",
       "      <th></th>\n",
       "      <th>max_depth</th>\n",
       "      <th>min_leaves</th>\n",
       "      <th>train_accuracy</th>\n",
       "      <th>validate_accuracy</th>\n",
       "      <th>difference</th>\n",
       "    </tr>\n",
       "  </thead>\n",
       "  <tbody>\n",
       "    <tr>\n",
       "      <th>240</th>\n",
       "      <td>8</td>\n",
       "      <td>1</td>\n",
       "      <td>0.736749</td>\n",
       "      <td>0.735068</td>\n",
       "      <td>0.001681</td>\n",
       "    </tr>\n",
       "    <tr>\n",
       "      <th>83</th>\n",
       "      <td>16</td>\n",
       "      <td>4</td>\n",
       "      <td>0.744611</td>\n",
       "      <td>0.735068</td>\n",
       "      <td>0.009543</td>\n",
       "    </tr>\n",
       "    <tr>\n",
       "      <th>43</th>\n",
       "      <td>18</td>\n",
       "      <td>4</td>\n",
       "      <td>0.746386</td>\n",
       "      <td>0.735068</td>\n",
       "      <td>0.011318</td>\n",
       "    </tr>\n",
       "    <tr>\n",
       "      <th>142</th>\n",
       "      <td>13</td>\n",
       "      <td>3</td>\n",
       "      <td>0.747400</td>\n",
       "      <td>0.735068</td>\n",
       "      <td>0.012332</td>\n",
       "    </tr>\n",
       "    <tr>\n",
       "      <th>2</th>\n",
       "      <td>20</td>\n",
       "      <td>3</td>\n",
       "      <td>0.780624</td>\n",
       "      <td>0.735068</td>\n",
       "      <td>0.045556</td>\n",
       "    </tr>\n",
       "    <tr>\n",
       "      <th>...</th>\n",
       "      <td>...</td>\n",
       "      <td>...</td>\n",
       "      <td>...</td>\n",
       "      <td>...</td>\n",
       "      <td>...</td>\n",
       "    </tr>\n",
       "    <tr>\n",
       "      <th>102</th>\n",
       "      <td>15</td>\n",
       "      <td>3</td>\n",
       "      <td>0.763125</td>\n",
       "      <td>0.733294</td>\n",
       "      <td>0.029831</td>\n",
       "    </tr>\n",
       "    <tr>\n",
       "      <th>62</th>\n",
       "      <td>17</td>\n",
       "      <td>3</td>\n",
       "      <td>0.770733</td>\n",
       "      <td>0.733294</td>\n",
       "      <td>0.037439</td>\n",
       "    </tr>\n",
       "    <tr>\n",
       "      <th>220</th>\n",
       "      <td>9</td>\n",
       "      <td>1</td>\n",
       "      <td>0.739031</td>\n",
       "      <td>0.732703</td>\n",
       "      <td>0.006329</td>\n",
       "    </tr>\n",
       "    <tr>\n",
       "      <th>42</th>\n",
       "      <td>18</td>\n",
       "      <td>3</td>\n",
       "      <td>0.778088</td>\n",
       "      <td>0.732111</td>\n",
       "      <td>0.045977</td>\n",
       "    </tr>\n",
       "    <tr>\n",
       "      <th>22</th>\n",
       "      <td>19</td>\n",
       "      <td>3</td>\n",
       "      <td>0.778595</td>\n",
       "      <td>0.730928</td>\n",
       "      <td>0.047667</td>\n",
       "    </tr>\n",
       "  </tbody>\n",
       "</table>\n",
       "<p>384 rows × 5 columns</p>\n",
       "</div>"
      ],
      "text/plain": [
       "     max_depth  min_leaves  train_accuracy  validate_accuracy  difference\n",
       "240          8           1        0.736749           0.735068    0.001681\n",
       "83          16           4        0.744611           0.735068    0.009543\n",
       "43          18           4        0.746386           0.735068    0.011318\n",
       "142         13           3        0.747400           0.735068    0.012332\n",
       "2           20           3        0.780624           0.735068    0.045556\n",
       "..         ...         ...             ...                ...         ...\n",
       "102         15           3        0.763125           0.733294    0.029831\n",
       "62          17           3        0.770733           0.733294    0.037439\n",
       "220          9           1        0.739031           0.732703    0.006329\n",
       "42          18           3        0.778088           0.732111    0.045977\n",
       "22          19           3        0.778595           0.730928    0.047667\n",
       "\n",
       "[384 rows x 5 columns]"
      ]
     },
     "execution_count": 45,
     "metadata": {},
     "output_type": "execute_result"
    }
   ],
   "source": [
    "# Which one did best here? This is sorting the above results by highest 'validate accuracy'\n",
    "\n",
    "df[df.difference <= 0.05].sort_values(by=['validate_accuracy', 'difference'], ascending = [False,True])"
   ]
  },
  {
   "cell_type": "markdown",
   "id": "fc70c562",
   "metadata": {},
   "source": [
    "## The top result of the above DF is my chosen model, as it performs better than any other model I ran.  It beats baseline on train and validate (barley). \n",
    "\n",
    "    - 8 max depth and 1 min leaves are the parameters, and don't appear to present a problem of overfit (in spite of the seemingly high max depth)"
   ]
  },
  {
   "cell_type": "code",
   "execution_count": 47,
   "id": "93873b02",
   "metadata": {},
   "outputs": [],
   "source": [
    "# Creating a RF model to run with the parameters chosen above.\n",
    "\n",
    "rf = RandomForestClassifier(max_depth = 8, min_samples_leaf=1)\n",
    "rf = rf.fit(telco_X_train_encoded, telco_y_train)\n"
   ]
  },
  {
   "cell_type": "code",
   "execution_count": 48,
   "id": "27d62dfd",
   "metadata": {},
   "outputs": [
    {
     "name": "stdout",
     "output_type": "stream",
     "text": [
      "[0.0183879  0.13691385 0.17783046 0.1790975  0.03165301 0.02599091\n",
      " 0.02374008 0.00549185 0.0050933  0.02112109 0.00159687 0.02016649\n",
      " 0.00223481 0.01900606 0.00287884 0.02090586 0.00222662 0.01711293\n",
      " 0.00254479 0.02082124 0.00283757 0.01836565 0.02963629 0.01834292\n",
      " 0.01492646 0.01081381 0.00229585 0.01885577 0.02272413 0.01786801\n",
      " 0.01018175 0.01202474 0.01163463 0.00709    0.01079562 0.01207558\n",
      " 0.01171894 0.00971939 0.01025509 0.00847223 0.00455115 0.        ]\n"
     ]
    }
   ],
   "source": [
    "# the weight assigned to each feature in implementation\n",
    "\n",
    "print(rf.feature_importances_)"
   ]
  },
  {
   "cell_type": "code",
   "execution_count": 49,
   "id": "97a33c3d",
   "metadata": {},
   "outputs": [
    {
     "data": {
      "text/plain": [
       "array([0, 0, 0, ..., 0, 0, 0], dtype=uint8)"
      ]
     },
     "execution_count": 49,
     "metadata": {},
     "output_type": "execute_result"
    }
   ],
   "source": [
    "# This would be your csv to include, if the model is ultimately chosen\n",
    "\n",
    "y_pred = rf.predict(telco_X_train_encoded)\n",
    "y_pred"
   ]
  },
  {
   "cell_type": "code",
   "execution_count": 50,
   "id": "6067016b",
   "metadata": {},
   "outputs": [
    {
     "data": {
      "text/plain": [
       "array([[0.77925441, 0.22074559],\n",
       "       [0.73506406, 0.26493594],\n",
       "       [0.78951924, 0.21048076],\n",
       "       ...,\n",
       "       [0.59854428, 0.40145572],\n",
       "       [0.67641834, 0.32358166],\n",
       "       [0.73606516, 0.26393484]])"
      ]
     },
     "execution_count": 50,
     "metadata": {},
     "output_type": "execute_result"
    }
   ],
   "source": [
    "# and the probability assigned to each customer\n",
    "\n",
    "y_pred_proba = rf.predict_proba(telco_X_train_encoded)\n",
    "y_pred_proba"
   ]
  },
  {
   "cell_type": "code",
   "execution_count": 51,
   "id": "7b5acaa4",
   "metadata": {},
   "outputs": [
    {
     "name": "stdout",
     "output_type": "stream",
     "text": [
      "Accuracy of random forest classifier on training set: 0.74\n"
     ]
    }
   ],
   "source": [
    "# evaluate rf results on train:\n",
    "\n",
    "print('Accuracy of random forest classifier on training set: {:.2f}'\n",
    "     .format(rf.score(telco_X_train_encoded, telco_y_train)))"
   ]
  },
  {
   "cell_type": "code",
   "execution_count": 52,
   "id": "d947063d",
   "metadata": {},
   "outputs": [
    {
     "name": "stdout",
     "output_type": "stream",
     "text": [
      "Actual on the left, predicted on the top\n"
     ]
    },
    {
     "data": {
      "text/html": [
       "<div>\n",
       "<style scoped>\n",
       "    .dataframe tbody tr th:only-of-type {\n",
       "        vertical-align: middle;\n",
       "    }\n",
       "\n",
       "    .dataframe tbody tr th {\n",
       "        vertical-align: top;\n",
       "    }\n",
       "\n",
       "    .dataframe thead th {\n",
       "        text-align: right;\n",
       "    }\n",
       "</style>\n",
       "<table border=\"1\" class=\"dataframe\">\n",
       "  <thead>\n",
       "    <tr style=\"text-align: right;\">\n",
       "      <th></th>\n",
       "      <th>0</th>\n",
       "      <th>1</th>\n",
       "    </tr>\n",
       "  </thead>\n",
       "  <tbody>\n",
       "    <tr>\n",
       "      <th>0</th>\n",
       "      <td>2896</td>\n",
       "      <td>1</td>\n",
       "    </tr>\n",
       "    <tr>\n",
       "      <th>1</th>\n",
       "      <td>1042</td>\n",
       "      <td>4</td>\n",
       "    </tr>\n",
       "  </tbody>\n",
       "</table>\n",
       "</div>"
      ],
      "text/plain": [
       "      0  1\n",
       "0  2896  1\n",
       "1  1042  4"
      ]
     },
     "execution_count": 52,
     "metadata": {},
     "output_type": "execute_result"
    }
   ],
   "source": [
    "# confusion matrix\n",
    "\n",
    "labels = sorted(telco_y_train.unique())\n",
    "print('Actual on the left, predicted on the top')\n",
    "pd.DataFrame(confusion_matrix(telco_y_train, y_pred), index=labels, columns=labels)"
   ]
  },
  {
   "cell_type": "code",
   "execution_count": 53,
   "id": "987618db",
   "metadata": {},
   "outputs": [
    {
     "name": "stdout",
     "output_type": "stream",
     "text": [
      "              precision    recall  f1-score   support\n",
      "\n",
      "           0       0.74      1.00      0.85      2897\n",
      "           1       0.80      0.00      0.01      1046\n",
      "\n",
      "    accuracy                           0.74      3943\n",
      "   macro avg       0.77      0.50      0.43      3943\n",
      "weighted avg       0.75      0.74      0.62      3943\n",
      "\n"
     ]
    }
   ],
   "source": [
    "# classification report for the RF model\n",
    "\n",
    "print(classification_report(telco_y_train, y_pred))"
   ]
  },
  {
   "cell_type": "markdown",
   "id": "59f376a4",
   "metadata": {},
   "source": [
    "# KNN Model"
   ]
  },
  {
   "cell_type": "code",
   "execution_count": 124,
   "id": "c96e1d4e",
   "metadata": {},
   "outputs": [],
   "source": [
    "# Per lecture and exercises, it's important to reduce the number of features when usin KNN bc of problems\n",
    "# with computation and dimensionality. We will choose the columns to use here.\n",
    "\n",
    "#(first, I tried with all features for fun)\n",
    "\n",
    "x_cols = ['tenure', 'monthly_charges', 'total_charges','dependents_Yes',\n",
    "            'paperless_billing_Yes',\n",
    "            'payment_type_Electronic check']\n",
    "\n",
    "# x_cols = ['senior_citizen', 'tenure', 'monthly_charges', 'total_charges', 'partner_Yes','dependents_Yes',\n",
    "#             'paperless_billing_Yes', 'contract_type_One year', 'contract_type_Two year', 'payment_type_Credit card (automatic)',\n",
    "#             'payment_type_Electronic check','payment_type_Mailed check']\n",
    "\n",
    "\n",
    "X_train, y_train = telco_X_train_encoded[x_cols], telco_y_train\n",
    "X_validate, y_validate = telco_X_validate_encoded[x_cols], telco_y_validate\n",
    "X_test, y_test = telco_X_test_encoded[x_cols], telco_y_test"
   ]
  },
  {
   "cell_type": "markdown",
   "id": "195652bb",
   "metadata": {},
   "source": [
    "### In the following cells, I applied scaling for the KNN model:"
   ]
  },
  {
   "cell_type": "code",
   "execution_count": 125,
   "id": "bc643b3f",
   "metadata": {},
   "outputs": [],
   "source": [
    "# Here, we have applied the standard scaler to the pared-back X_train set from the above cell,\n",
    "# and calling the variable X_train_scaled (etc):\n",
    "scaler = sklearn.preprocessing.StandardScaler()\n",
    "scaler.fit(X_train)\n",
    "X_train_scaled = scaler.transform(X_train)\n",
    "X_validate_scaled = scaler.transform(X_validate)\n",
    "X_test_scaled = scaler.transform(X_test)"
   ]
  },
  {
   "cell_type": "code",
   "execution_count": 126,
   "id": "7500c42f",
   "metadata": {},
   "outputs": [
    {
     "data": {
      "image/png": "[encoded data removed]",
      "text/plain": [
       "<Figure size 1152x648 with 1 Axes>"
      ]
     },
     "metadata": {
      "needs_background": "light"
     },
     "output_type": "display_data"
    }
   ],
   "source": [
    "# Was going to comment this cell out, which is code that produces a visualization of my KNN model. \n",
    "# I reduced my features again, and still not improving accuracy.\n",
    "# Ultimately, I'm not using the KNN model as my \"best\" model.\n",
    "\n",
    "\n",
    "metrics = []\n",
    "\n",
    "for i in range(1,21):\n",
    "    # Make the model\n",
    "    knn = KNeighborsClassifier(n_neighbors=i, weights='uniform', algorithm='auto')\n",
    "\n",
    "\n",
    "    # Fit the model (on train and only train)\n",
    "    knn.fit(X_train_scaled, telco_y_train)\n",
    "\n",
    "    # We'll evaluate the model's performance on train and validate\n",
    "    train_accuracy = knn.score(X_train_scaled, telco_y_train)\n",
    "    validate_accuracy = knn.score(X_validate, telco_y_validate)\n",
    "\n",
    "    output = {\n",
    "        \"i\": i,\n",
    "        \"train_accuracy\": train_accuracy,\n",
    "        \"validate_accuracy\": validate_accuracy\n",
    "    }\n",
    "    \n",
    "    metrics.append(output)\n",
    "    # Produce the classification report on the actual y values and this model's predicted y values\n",
    "results = pd.DataFrame(metrics)\n",
    "results[\"difference\"] = results.train_accuracy - results.validate_accuracy\n",
    "    \n",
    "# plot it\n",
    "results.set_index('i').plot(figsize = (16,9))\n",
    "plt.ylabel('accuracy')\n",
    "plt.xticks(np.arange(0,21,1))\n",
    "plt.grid()"
   ]
  },
  {
   "cell_type": "code",
   "execution_count": 127,
   "id": "a0d4bec5",
   "metadata": {},
   "outputs": [
    {
     "data": {
      "text/html": [
       "<div>\n",
       "<style scoped>\n",
       "    .dataframe tbody tr th:only-of-type {\n",
       "        vertical-align: middle;\n",
       "    }\n",
       "\n",
       "    .dataframe tbody tr th {\n",
       "        vertical-align: top;\n",
       "    }\n",
       "\n",
       "    .dataframe thead th {\n",
       "        text-align: right;\n",
       "    }\n",
       "</style>\n",
       "<table border=\"1\" class=\"dataframe\">\n",
       "  <thead>\n",
       "    <tr style=\"text-align: right;\">\n",
       "      <th></th>\n",
       "      <th>i</th>\n",
       "      <th>train_accuracy</th>\n",
       "      <th>validate_accuracy</th>\n",
       "      <th>difference</th>\n",
       "    </tr>\n",
       "  </thead>\n",
       "  <tbody>\n",
       "    <tr>\n",
       "      <th>6</th>\n",
       "      <td>7</td>\n",
       "      <td>0.751458</td>\n",
       "      <td>0.735659</td>\n",
       "      <td>0.015799</td>\n",
       "    </tr>\n",
       "    <tr>\n",
       "      <th>5</th>\n",
       "      <td>6</td>\n",
       "      <td>0.752219</td>\n",
       "      <td>0.735068</td>\n",
       "      <td>0.017151</td>\n",
       "    </tr>\n",
       "    <tr>\n",
       "      <th>3</th>\n",
       "      <td>4</td>\n",
       "      <td>0.765914</td>\n",
       "      <td>0.735068</td>\n",
       "      <td>0.030846</td>\n",
       "    </tr>\n",
       "    <tr>\n",
       "      <th>4</th>\n",
       "      <td>5</td>\n",
       "      <td>0.768958</td>\n",
       "      <td>0.735068</td>\n",
       "      <td>0.033890</td>\n",
       "    </tr>\n",
       "    <tr>\n",
       "      <th>11</th>\n",
       "      <td>12</td>\n",
       "      <td>0.734720</td>\n",
       "      <td>0.734477</td>\n",
       "      <td>0.000243</td>\n",
       "    </tr>\n",
       "    <tr>\n",
       "      <th>14</th>\n",
       "      <td>15</td>\n",
       "      <td>0.734720</td>\n",
       "      <td>0.734477</td>\n",
       "      <td>0.000243</td>\n",
       "    </tr>\n",
       "    <tr>\n",
       "      <th>13</th>\n",
       "      <td>14</td>\n",
       "      <td>0.734973</td>\n",
       "      <td>0.734477</td>\n",
       "      <td>0.000497</td>\n",
       "    </tr>\n",
       "    <tr>\n",
       "      <th>19</th>\n",
       "      <td>20</td>\n",
       "      <td>0.734973</td>\n",
       "      <td>0.734477</td>\n",
       "      <td>0.000497</td>\n",
       "    </tr>\n",
       "    <tr>\n",
       "      <th>17</th>\n",
       "      <td>18</td>\n",
       "      <td>0.735227</td>\n",
       "      <td>0.734477</td>\n",
       "      <td>0.000750</td>\n",
       "    </tr>\n",
       "    <tr>\n",
       "      <th>18</th>\n",
       "      <td>19</td>\n",
       "      <td>0.735227</td>\n",
       "      <td>0.734477</td>\n",
       "      <td>0.000750</td>\n",
       "    </tr>\n",
       "    <tr>\n",
       "      <th>15</th>\n",
       "      <td>16</td>\n",
       "      <td>0.735734</td>\n",
       "      <td>0.734477</td>\n",
       "      <td>0.001258</td>\n",
       "    </tr>\n",
       "    <tr>\n",
       "      <th>16</th>\n",
       "      <td>17</td>\n",
       "      <td>0.735734</td>\n",
       "      <td>0.734477</td>\n",
       "      <td>0.001258</td>\n",
       "    </tr>\n",
       "    <tr>\n",
       "      <th>12</th>\n",
       "      <td>13</td>\n",
       "      <td>0.738778</td>\n",
       "      <td>0.734477</td>\n",
       "      <td>0.004301</td>\n",
       "    </tr>\n",
       "    <tr>\n",
       "      <th>9</th>\n",
       "      <td>10</td>\n",
       "      <td>0.743089</td>\n",
       "      <td>0.734477</td>\n",
       "      <td>0.008612</td>\n",
       "    </tr>\n",
       "    <tr>\n",
       "      <th>7</th>\n",
       "      <td>8</td>\n",
       "      <td>0.743343</td>\n",
       "      <td>0.734477</td>\n",
       "      <td>0.008866</td>\n",
       "    </tr>\n",
       "    <tr>\n",
       "      <th>10</th>\n",
       "      <td>11</td>\n",
       "      <td>0.743343</td>\n",
       "      <td>0.734477</td>\n",
       "      <td>0.008866</td>\n",
       "    </tr>\n",
       "    <tr>\n",
       "      <th>8</th>\n",
       "      <td>9</td>\n",
       "      <td>0.746640</td>\n",
       "      <td>0.734477</td>\n",
       "      <td>0.012163</td>\n",
       "    </tr>\n",
       "  </tbody>\n",
       "</table>\n",
       "</div>"
      ],
      "text/plain": [
       "     i  train_accuracy  validate_accuracy  difference\n",
       "6    7        0.751458           0.735659    0.015799\n",
       "5    6        0.752219           0.735068    0.017151\n",
       "3    4        0.765914           0.735068    0.030846\n",
       "4    5        0.768958           0.735068    0.033890\n",
       "11  12        0.734720           0.734477    0.000243\n",
       "14  15        0.734720           0.734477    0.000243\n",
       "13  14        0.734973           0.734477    0.000497\n",
       "19  20        0.734973           0.734477    0.000497\n",
       "17  18        0.735227           0.734477    0.000750\n",
       "18  19        0.735227           0.734477    0.000750\n",
       "15  16        0.735734           0.734477    0.001258\n",
       "16  17        0.735734           0.734477    0.001258\n",
       "12  13        0.738778           0.734477    0.004301\n",
       "9   10        0.743089           0.734477    0.008612\n",
       "7    8        0.743343           0.734477    0.008866\n",
       "10  11        0.743343           0.734477    0.008866\n",
       "8    9        0.746640           0.734477    0.012163"
      ]
     },
     "execution_count": 127,
     "metadata": {},
     "output_type": "execute_result"
    }
   ],
   "source": [
    "# Commenting out since we are not using the KNN model, and this cell relys on the outputof the above\n",
    "# Again, ranking the results of the above:\n",
    "\n",
    "results[results.difference <= 0.1].sort_values(by=['validate_accuracy', 'difference'], ascending = [False,True])"
   ]
  },
  {
   "cell_type": "markdown",
   "id": "6ebe2d53",
   "metadata": {},
   "source": [
    "## This model is providing an improved accuracy for the train set, but not an improvement for validate."
   ]
  },
  {
   "cell_type": "markdown",
   "id": "2aff2b27",
   "metadata": {},
   "source": [
    "# Logistic Regression Model\n",
    "\n",
    "    - In the end, I am not including a logistic regression model as it failed to outperform any other model"
   ]
  },
  {
   "cell_type": "markdown",
   "id": "aa5f6e65",
   "metadata": {},
   "source": [
    "# RUN TOP MODEL ON TEST DATA SET"
   ]
  },
  {
   "cell_type": "code",
   "execution_count": 91,
   "id": "f49fd36e",
   "metadata": {},
   "outputs": [
    {
     "name": "stdout",
     "output_type": "stream",
     "text": [
      "[0.01655568 0.12865574 0.15734773 0.16802974 0.03469806 0.02844438\n",
      " 0.02556694 0.00679164 0.00796163 0.02316394 0.00343631 0.01862145\n",
      " 0.00216897 0.02768988 0.00221524 0.0168754  0.00213232 0.02041243\n",
      " 0.00402559 0.01826189 0.0030526  0.01685644 0.03469737 0.01733749\n",
      " 0.01525901 0.01392844 0.00301341 0.01616708 0.02587136 0.01355336\n",
      " 0.00939381 0.01374851 0.01306559 0.00797718 0.01556122 0.01142116\n",
      " 0.01025467 0.01126249 0.01161664 0.01564813 0.00725907 0.        ]\n"
     ]
    }
   ],
   "source": [
    "# Create model for test data:\n",
    "\n",
    "rf = RandomForestClassifier(max_depth = 16, min_samples_leaf=6)\n",
    "rf = rf.fit(telco_X_test_encoded, telco_y_test)\n",
    "\n",
    "# the weight assigned to each feature in implementation\n",
    "\n",
    "print(rf.feature_importances_)"
   ]
  },
  {
   "cell_type": "code",
   "execution_count": 92,
   "id": "63634c7c",
   "metadata": {},
   "outputs": [
    {
     "data": {
      "text/plain": [
       "array([0, 0, 0, ..., 0, 0, 0], dtype=uint8)"
      ]
     },
     "execution_count": 92,
     "metadata": {},
     "output_type": "execute_result"
    }
   ],
   "source": [
    "# This would be your csv to include, because this is the model you are choosing\n",
    "\n",
    "y_pred = rf.predict(telco_X_test_encoded)\n",
    "y_pred"
   ]
  },
  {
   "cell_type": "code",
   "execution_count": 93,
   "id": "14a538be",
   "metadata": {},
   "outputs": [
    {
     "data": {
      "text/plain": [
       "array([[0.72196139, 0.27803861],\n",
       "       [0.89573985, 0.10426015],\n",
       "       [0.88900908, 0.11099092],\n",
       "       ...,\n",
       "       [0.62215236, 0.37784764],\n",
       "       [0.74251117, 0.25748883],\n",
       "       [0.69972354, 0.30027646]])"
      ]
     },
     "execution_count": 93,
     "metadata": {},
     "output_type": "execute_result"
    }
   ],
   "source": [
    "# And the probability assigned to each customer\n",
    "\n",
    "y_pred_proba = rf.predict_proba(telco_X_test_encoded)\n",
    "y_pred_proba"
   ]
  },
  {
   "cell_type": "code",
   "execution_count": 94,
   "id": "f363a9f6",
   "metadata": {},
   "outputs": [
    {
     "name": "stdout",
     "output_type": "stream",
     "text": [
      "Accuracy of random forest classifier on training set: 0.74\n"
     ]
    }
   ],
   "source": [
    "# Evaluate rf results on train:\n",
    "\n",
    "print('Accuracy of random forest classifier on training set: {:.2f}'\n",
    "     .format(rf.score(telco_X_test_encoded, telco_y_test)))"
   ]
  },
  {
   "cell_type": "code",
   "execution_count": 95,
   "id": "d8ee396d",
   "metadata": {},
   "outputs": [
    {
     "name": "stdout",
     "output_type": "stream",
     "text": [
      "Actual on the left, predicted on the top\n"
     ]
    },
    {
     "data": {
      "text/html": [
       "<div>\n",
       "<style scoped>\n",
       "    .dataframe tbody tr th:only-of-type {\n",
       "        vertical-align: middle;\n",
       "    }\n",
       "\n",
       "    .dataframe tbody tr th {\n",
       "        vertical-align: top;\n",
       "    }\n",
       "\n",
       "    .dataframe thead th {\n",
       "        text-align: right;\n",
       "    }\n",
       "</style>\n",
       "<table border=\"1\" class=\"dataframe\">\n",
       "  <thead>\n",
       "    <tr style=\"text-align: right;\">\n",
       "      <th></th>\n",
       "      <th>0</th>\n",
       "      <th>1</th>\n",
       "    </tr>\n",
       "  </thead>\n",
       "  <tbody>\n",
       "    <tr>\n",
       "      <th>0</th>\n",
       "      <td>1035</td>\n",
       "      <td>0</td>\n",
       "    </tr>\n",
       "    <tr>\n",
       "      <th>1</th>\n",
       "      <td>369</td>\n",
       "      <td>5</td>\n",
       "    </tr>\n",
       "  </tbody>\n",
       "</table>\n",
       "</div>"
      ],
      "text/plain": [
       "      0  1\n",
       "0  1035  0\n",
       "1   369  5"
      ]
     },
     "execution_count": 95,
     "metadata": {},
     "output_type": "execute_result"
    }
   ],
   "source": [
    "# confusion matrix\n",
    "\n",
    "labels = sorted(telco_y_test.unique())\n",
    "print('Actual on the left, predicted on the top')\n",
    "pd.DataFrame(confusion_matrix(telco_y_test, y_pred), index=labels, columns=labels)"
   ]
  },
  {
   "cell_type": "code",
   "execution_count": 96,
   "id": "a245f742",
   "metadata": {},
   "outputs": [
    {
     "name": "stdout",
     "output_type": "stream",
     "text": [
      "              precision    recall  f1-score   support\n",
      "\n",
      "           0       0.74      1.00      0.85      1035\n",
      "           1       1.00      0.01      0.03       374\n",
      "\n",
      "    accuracy                           0.74      1409\n",
      "   macro avg       0.87      0.51      0.44      1409\n",
      "weighted avg       0.81      0.74      0.63      1409\n",
      "\n"
     ]
    }
   ],
   "source": [
    "# classification report for the RF model\n",
    "\n",
    "print(classification_report(telco_y_test, y_pred))"
   ]
  },
  {
   "cell_type": "code",
   "execution_count": 142,
   "id": "3e008d5b",
   "metadata": {},
   "outputs": [],
   "source": [
    "# This cell is creating a csv in my current directory, including the prediction and predict_probability\n",
    "\n",
    "y_pred_df = pd.DataFrame(y_pred)\n",
    "y_pred_proba_df = pd.DataFrame(y_pred_proba)\n",
    "churn_pred_df1 = pd.concat([raw_telco_df, y_pred_proba_df])\n",
    "churn_pred_df2 = pd.concat([churn_pred_df1, y_pred_df])\n",
    "# Trying to drop columns here.\n",
    "# cols = ['senior_citizen', 'tenure', 'monthly_charges', 'total_charges', 'partner_Yes','dependents_Yes',\n",
    "#             'paperless_billing_Yes', 'contract_type_One year', 'contract_type_Two year', 'payment_type_Credit card (automatic)',\n",
    "#             'payment_type_Electronic check','payment_type_Mailed check']\n",
    "# churn_pred_df2.drop(columns = 'churn', axis=0)\n",
    "churn_pred_df2.to_csv('churn_pred.csv')"
   ]
  },
  {
   "cell_type": "code",
   "execution_count": 143,
   "id": "3c198220",
   "metadata": {},
   "outputs": [
    {
     "data": {
      "text/html": [
       "<div>\n",
       "<style scoped>\n",
       "    .dataframe tbody tr th:only-of-type {\n",
       "        vertical-align: middle;\n",
       "    }\n",
       "\n",
       "    .dataframe tbody tr th {\n",
       "        vertical-align: top;\n",
       "    }\n",
       "\n",
       "    .dataframe thead th {\n",
       "        text-align: right;\n",
       "    }\n",
       "</style>\n",
       "<table border=\"1\" class=\"dataframe\">\n",
       "  <thead>\n",
       "    <tr style=\"text-align: right;\">\n",
       "      <th></th>\n",
       "      <th>0</th>\n",
       "      <th>1</th>\n",
       "      <th>churn</th>\n",
       "      <th>contract_type</th>\n",
       "      <th>contract_type_id</th>\n",
       "      <th>customer_id</th>\n",
       "      <th>dependents</th>\n",
       "      <th>device_protection</th>\n",
       "      <th>gender</th>\n",
       "      <th>internet_service_type</th>\n",
       "      <th>...</th>\n",
       "      <th>partner</th>\n",
       "      <th>payment_type</th>\n",
       "      <th>payment_type_id</th>\n",
       "      <th>phone_service</th>\n",
       "      <th>senior_citizen</th>\n",
       "      <th>streaming_movies</th>\n",
       "      <th>streaming_tv</th>\n",
       "      <th>tech_support</th>\n",
       "      <th>tenure</th>\n",
       "      <th>total_charges</th>\n",
       "    </tr>\n",
       "  </thead>\n",
       "  <tbody>\n",
       "    <tr>\n",
       "      <th>0</th>\n",
       "      <td>NaN</td>\n",
       "      <td>NaN</td>\n",
       "      <td>No</td>\n",
       "      <td>Two year</td>\n",
       "      <td>3.0</td>\n",
       "      <td>0016-QLJIS</td>\n",
       "      <td>Yes</td>\n",
       "      <td>Yes</td>\n",
       "      <td>Female</td>\n",
       "      <td>DSL</td>\n",
       "      <td>...</td>\n",
       "      <td>Yes</td>\n",
       "      <td>Mailed check</td>\n",
       "      <td>2.0</td>\n",
       "      <td>Yes</td>\n",
       "      <td>0.0</td>\n",
       "      <td>Yes</td>\n",
       "      <td>Yes</td>\n",
       "      <td>Yes</td>\n",
       "      <td>65.0</td>\n",
       "      <td>5957.9</td>\n",
       "    </tr>\n",
       "    <tr>\n",
       "      <th>1</th>\n",
       "      <td>NaN</td>\n",
       "      <td>NaN</td>\n",
       "      <td>No</td>\n",
       "      <td>Two year</td>\n",
       "      <td>3.0</td>\n",
       "      <td>0017-DINOC</td>\n",
       "      <td>No</td>\n",
       "      <td>No</td>\n",
       "      <td>Male</td>\n",
       "      <td>DSL</td>\n",
       "      <td>...</td>\n",
       "      <td>No</td>\n",
       "      <td>Credit card (automatic)</td>\n",
       "      <td>4.0</td>\n",
       "      <td>No</td>\n",
       "      <td>0.0</td>\n",
       "      <td>No</td>\n",
       "      <td>Yes</td>\n",
       "      <td>Yes</td>\n",
       "      <td>54.0</td>\n",
       "      <td>2460.55</td>\n",
       "    </tr>\n",
       "    <tr>\n",
       "      <th>2</th>\n",
       "      <td>NaN</td>\n",
       "      <td>NaN</td>\n",
       "      <td>No</td>\n",
       "      <td>Two year</td>\n",
       "      <td>3.0</td>\n",
       "      <td>0019-GFNTW</td>\n",
       "      <td>No</td>\n",
       "      <td>Yes</td>\n",
       "      <td>Female</td>\n",
       "      <td>DSL</td>\n",
       "      <td>...</td>\n",
       "      <td>No</td>\n",
       "      <td>Bank transfer (automatic)</td>\n",
       "      <td>3.0</td>\n",
       "      <td>No</td>\n",
       "      <td>0.0</td>\n",
       "      <td>No</td>\n",
       "      <td>No</td>\n",
       "      <td>Yes</td>\n",
       "      <td>56.0</td>\n",
       "      <td>2560.1</td>\n",
       "    </tr>\n",
       "    <tr>\n",
       "      <th>3</th>\n",
       "      <td>NaN</td>\n",
       "      <td>NaN</td>\n",
       "      <td>No</td>\n",
       "      <td>Two year</td>\n",
       "      <td>3.0</td>\n",
       "      <td>0056-EPFBG</td>\n",
       "      <td>Yes</td>\n",
       "      <td>Yes</td>\n",
       "      <td>Male</td>\n",
       "      <td>DSL</td>\n",
       "      <td>...</td>\n",
       "      <td>Yes</td>\n",
       "      <td>Credit card (automatic)</td>\n",
       "      <td>4.0</td>\n",
       "      <td>No</td>\n",
       "      <td>0.0</td>\n",
       "      <td>No</td>\n",
       "      <td>No</td>\n",
       "      <td>Yes</td>\n",
       "      <td>20.0</td>\n",
       "      <td>825.4</td>\n",
       "    </tr>\n",
       "    <tr>\n",
       "      <th>4</th>\n",
       "      <td>NaN</td>\n",
       "      <td>NaN</td>\n",
       "      <td>No</td>\n",
       "      <td>Two year</td>\n",
       "      <td>3.0</td>\n",
       "      <td>0078-XZMHT</td>\n",
       "      <td>No</td>\n",
       "      <td>Yes</td>\n",
       "      <td>Male</td>\n",
       "      <td>DSL</td>\n",
       "      <td>...</td>\n",
       "      <td>Yes</td>\n",
       "      <td>Bank transfer (automatic)</td>\n",
       "      <td>3.0</td>\n",
       "      <td>Yes</td>\n",
       "      <td>0.0</td>\n",
       "      <td>Yes</td>\n",
       "      <td>Yes</td>\n",
       "      <td>Yes</td>\n",
       "      <td>72.0</td>\n",
       "      <td>6316.2</td>\n",
       "    </tr>\n",
       "    <tr>\n",
       "      <th>...</th>\n",
       "      <td>...</td>\n",
       "      <td>...</td>\n",
       "      <td>...</td>\n",
       "      <td>...</td>\n",
       "      <td>...</td>\n",
       "      <td>...</td>\n",
       "      <td>...</td>\n",
       "      <td>...</td>\n",
       "      <td>...</td>\n",
       "      <td>...</td>\n",
       "      <td>...</td>\n",
       "      <td>...</td>\n",
       "      <td>...</td>\n",
       "      <td>...</td>\n",
       "      <td>...</td>\n",
       "      <td>...</td>\n",
       "      <td>...</td>\n",
       "      <td>...</td>\n",
       "      <td>...</td>\n",
       "      <td>...</td>\n",
       "      <td>...</td>\n",
       "    </tr>\n",
       "    <tr>\n",
       "      <th>1404</th>\n",
       "      <td>0.0</td>\n",
       "      <td>NaN</td>\n",
       "      <td>NaN</td>\n",
       "      <td>NaN</td>\n",
       "      <td>NaN</td>\n",
       "      <td>NaN</td>\n",
       "      <td>NaN</td>\n",
       "      <td>NaN</td>\n",
       "      <td>NaN</td>\n",
       "      <td>NaN</td>\n",
       "      <td>...</td>\n",
       "      <td>NaN</td>\n",
       "      <td>NaN</td>\n",
       "      <td>NaN</td>\n",
       "      <td>NaN</td>\n",
       "      <td>NaN</td>\n",
       "      <td>NaN</td>\n",
       "      <td>NaN</td>\n",
       "      <td>NaN</td>\n",
       "      <td>NaN</td>\n",
       "      <td>NaN</td>\n",
       "    </tr>\n",
       "    <tr>\n",
       "      <th>1405</th>\n",
       "      <td>0.0</td>\n",
       "      <td>NaN</td>\n",
       "      <td>NaN</td>\n",
       "      <td>NaN</td>\n",
       "      <td>NaN</td>\n",
       "      <td>NaN</td>\n",
       "      <td>NaN</td>\n",
       "      <td>NaN</td>\n",
       "      <td>NaN</td>\n",
       "      <td>NaN</td>\n",
       "      <td>...</td>\n",
       "      <td>NaN</td>\n",
       "      <td>NaN</td>\n",
       "      <td>NaN</td>\n",
       "      <td>NaN</td>\n",
       "      <td>NaN</td>\n",
       "      <td>NaN</td>\n",
       "      <td>NaN</td>\n",
       "      <td>NaN</td>\n",
       "      <td>NaN</td>\n",
       "      <td>NaN</td>\n",
       "    </tr>\n",
       "    <tr>\n",
       "      <th>1406</th>\n",
       "      <td>0.0</td>\n",
       "      <td>NaN</td>\n",
       "      <td>NaN</td>\n",
       "      <td>NaN</td>\n",
       "      <td>NaN</td>\n",
       "      <td>NaN</td>\n",
       "      <td>NaN</td>\n",
       "      <td>NaN</td>\n",
       "      <td>NaN</td>\n",
       "      <td>NaN</td>\n",
       "      <td>...</td>\n",
       "      <td>NaN</td>\n",
       "      <td>NaN</td>\n",
       "      <td>NaN</td>\n",
       "      <td>NaN</td>\n",
       "      <td>NaN</td>\n",
       "      <td>NaN</td>\n",
       "      <td>NaN</td>\n",
       "      <td>NaN</td>\n",
       "      <td>NaN</td>\n",
       "      <td>NaN</td>\n",
       "    </tr>\n",
       "    <tr>\n",
       "      <th>1407</th>\n",
       "      <td>0.0</td>\n",
       "      <td>NaN</td>\n",
       "      <td>NaN</td>\n",
       "      <td>NaN</td>\n",
       "      <td>NaN</td>\n",
       "      <td>NaN</td>\n",
       "      <td>NaN</td>\n",
       "      <td>NaN</td>\n",
       "      <td>NaN</td>\n",
       "      <td>NaN</td>\n",
       "      <td>...</td>\n",
       "      <td>NaN</td>\n",
       "      <td>NaN</td>\n",
       "      <td>NaN</td>\n",
       "      <td>NaN</td>\n",
       "      <td>NaN</td>\n",
       "      <td>NaN</td>\n",
       "      <td>NaN</td>\n",
       "      <td>NaN</td>\n",
       "      <td>NaN</td>\n",
       "      <td>NaN</td>\n",
       "    </tr>\n",
       "    <tr>\n",
       "      <th>1408</th>\n",
       "      <td>0.0</td>\n",
       "      <td>NaN</td>\n",
       "      <td>NaN</td>\n",
       "      <td>NaN</td>\n",
       "      <td>NaN</td>\n",
       "      <td>NaN</td>\n",
       "      <td>NaN</td>\n",
       "      <td>NaN</td>\n",
       "      <td>NaN</td>\n",
       "      <td>NaN</td>\n",
       "      <td>...</td>\n",
       "      <td>NaN</td>\n",
       "      <td>NaN</td>\n",
       "      <td>NaN</td>\n",
       "      <td>NaN</td>\n",
       "      <td>NaN</td>\n",
       "      <td>NaN</td>\n",
       "      <td>NaN</td>\n",
       "      <td>NaN</td>\n",
       "      <td>NaN</td>\n",
       "      <td>NaN</td>\n",
       "    </tr>\n",
       "  </tbody>\n",
       "</table>\n",
       "<p>9861 rows × 26 columns</p>\n",
       "</div>"
      ],
      "text/plain": [
       "        0   1 churn contract_type  contract_type_id customer_id dependents  \\\n",
       "0     NaN NaN    No      Two year               3.0  0016-QLJIS        Yes   \n",
       "1     NaN NaN    No      Two year               3.0  0017-DINOC         No   \n",
       "2     NaN NaN    No      Two year               3.0  0019-GFNTW         No   \n",
       "3     NaN NaN    No      Two year               3.0  0056-EPFBG        Yes   \n",
       "4     NaN NaN    No      Two year               3.0  0078-XZMHT         No   \n",
       "...   ...  ..   ...           ...               ...         ...        ...   \n",
       "1404  0.0 NaN   NaN           NaN               NaN         NaN        NaN   \n",
       "1405  0.0 NaN   NaN           NaN               NaN         NaN        NaN   \n",
       "1406  0.0 NaN   NaN           NaN               NaN         NaN        NaN   \n",
       "1407  0.0 NaN   NaN           NaN               NaN         NaN        NaN   \n",
       "1408  0.0 NaN   NaN           NaN               NaN         NaN        NaN   \n",
       "\n",
       "     device_protection  gender internet_service_type  ...  partner  \\\n",
       "0                  Yes  Female                   DSL  ...      Yes   \n",
       "1                   No    Male                   DSL  ...       No   \n",
       "2                  Yes  Female                   DSL  ...       No   \n",
       "3                  Yes    Male                   DSL  ...      Yes   \n",
       "4                  Yes    Male                   DSL  ...      Yes   \n",
       "...                ...     ...                   ...  ...      ...   \n",
       "1404               NaN     NaN                   NaN  ...      NaN   \n",
       "1405               NaN     NaN                   NaN  ...      NaN   \n",
       "1406               NaN     NaN                   NaN  ...      NaN   \n",
       "1407               NaN     NaN                   NaN  ...      NaN   \n",
       "1408               NaN     NaN                   NaN  ...      NaN   \n",
       "\n",
       "                   payment_type payment_type_id phone_service senior_citizen  \\\n",
       "0                  Mailed check             2.0           Yes            0.0   \n",
       "1       Credit card (automatic)             4.0            No            0.0   \n",
       "2     Bank transfer (automatic)             3.0            No            0.0   \n",
       "3       Credit card (automatic)             4.0            No            0.0   \n",
       "4     Bank transfer (automatic)             3.0           Yes            0.0   \n",
       "...                         ...             ...           ...            ...   \n",
       "1404                        NaN             NaN           NaN            NaN   \n",
       "1405                        NaN             NaN           NaN            NaN   \n",
       "1406                        NaN             NaN           NaN            NaN   \n",
       "1407                        NaN             NaN           NaN            NaN   \n",
       "1408                        NaN             NaN           NaN            NaN   \n",
       "\n",
       "     streaming_movies streaming_tv tech_support  tenure total_charges  \n",
       "0                 Yes          Yes          Yes    65.0        5957.9  \n",
       "1                  No          Yes          Yes    54.0       2460.55  \n",
       "2                  No           No          Yes    56.0        2560.1  \n",
       "3                  No           No          Yes    20.0         825.4  \n",
       "4                 Yes          Yes          Yes    72.0        6316.2  \n",
       "...               ...          ...          ...     ...           ...  \n",
       "1404              NaN          NaN          NaN     NaN           NaN  \n",
       "1405              NaN          NaN          NaN     NaN           NaN  \n",
       "1406              NaN          NaN          NaN     NaN           NaN  \n",
       "1407              NaN          NaN          NaN     NaN           NaN  \n",
       "1408              NaN          NaN          NaN     NaN           NaN  \n",
       "\n",
       "[9861 rows x 26 columns]"
      ]
     },
     "execution_count": 143,
     "metadata": {},
     "output_type": "execute_result"
    }
   ],
   "source": [
    "churn_pred_df2"
   ]
  },
  {
   "cell_type": "markdown",
   "id": "c7738b4f",
   "metadata": {},
   "source": [
    "# CONCLUSION: Summary\n",
    "\n",
    "The modelling that has been done in this report is, unfortunately, somewhat limited in that it has so far been mostly unable to beat our baseline churn prediction by very much.  \n",
    "\n",
    "Nevertheless, this report has led to a number of interesting conclusions:\n",
    "    \n",
    "    - Having dependents relates to lower monthly charges, as well as a higher lifetime value; churn is less prevalent as well.\n",
    "\n",
    "    - Whatever the benefits of paperless billing, it is also associated with more churn--perhaps because those using it pay more? .\n",
    "\n",
    "    - The higher the tenure the lower the churn, for obvious reasons. Less obvious is that the higher the lifetime value of a customer, the less the churn. \n",
    "        - Significantly, this is only true UP TO A POINT (in the vicinity of 2500 dollars)\n",
    "    \n",
    "    - Electronic check payment method relates to higher churn (and barley higher monthly charges). Could this be a segment ripe for loyalty programs?"
   ]
  },
  {
   "cell_type": "markdown",
   "id": "adff1bca",
   "metadata": {},
   "source": [
    "# CONCLUSION: Recommendations\n",
    "\n",
    "On a general level, addressing the problem of churn specifically by encouraging GROUP PLANS and AUTOMATIC PAYMENT methods would be of benefit across the board.  These segments of customer have lower churn, and in the case of those with dependents, a higher lifetime value for the company.  To the point, our customers who pay using the electronic payment method churn more (and aren't really paying much more every month); we recommend targeting this segment for loyalty.\n",
    "\n",
    "Interestingly, we find that churn goes down as lifetime value (total charges) go up--but that at some point, this relationship hits a speed bump where churn takes a step up.  We recommend tracking customers' total charges throughout their time with the company, and offering discounts or other incentives to prevent the \"churn bump\" that occurs at about $2500 of total charges."
   ]
  },
  {
   "cell_type": "markdown",
   "id": "2a603673",
   "metadata": {},
   "source": [
    "# CONCLUSION: Next Steps\n",
    "\n",
    "An interesting area for further research will be the relationship of lifetime value and churn, and using this--perhaps using feature engineering--to improve the accuracy of our model.  Likewise, a more detail analysis of segments (the electronic payment customer, for example) that pay the same and churn more could prove to be valuable and perhaps lead to some customer retention insights.  The same goes for other customers that we haven't touched on in this report, such as senior citizens and fiber optics customers, who our analysis did show churn at a higher rate."
   ]
  },
  {
   "cell_type": "code",
   "execution_count": null,
   "id": "dc08ce87",
   "metadata": {},
   "outputs": [],
   "source": []
  },
  {
   "cell_type": "code",
   "execution_count": null,
   "id": "d4fd105d",
   "metadata": {},
   "outputs": [],
   "source": []
  }
 ],
 "metadata": {
  "kernelspec": {
   "display_name": "Python 3",
   "language": "python",
   "name": "python3"
  },
  "language_info": {
   "codemirror_mode": {
    "name": "ipython",
    "version": 3
   },
   "file_extension": ".py",
   "mimetype": "text/x-python",
   "name": "python",
   "nbconvert_exporter": "python",
   "pygments_lexer": "ipython3",
   "version": "3.8.8"
  }
 },
 "nbformat": 4,
 "nbformat_minor": 5
}
